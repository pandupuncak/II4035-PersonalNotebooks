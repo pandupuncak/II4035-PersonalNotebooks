{
  "nbformat": 4,
  "nbformat_minor": 0,
  "metadata": {
    "colab": {
      "name": "LaSTI_Basic Machine Learning Model.ipynb",
      "provenance": [],
      "collapsed_sections": [
        "hlP3afswnPaF",
        "wM6RFxzhnTeM",
        "Ak4SebMRnVXV",
        "Ikjh3accnYN2"
      ],
      "authorship_tag": "ABX9TyMTe8h1KBJp/kAC5Rd3ZPbC",
      "include_colab_link": true
    },
    "kernelspec": {
      "name": "python3",
      "display_name": "Python 3"
    },
    "language_info": {
      "name": "python"
    }
  },
  "cells": [
    {
      "cell_type": "markdown",
      "metadata": {
        "id": "view-in-github",
        "colab_type": "text"
      },
      "source": [
        "<a href=\"https://colab.research.google.com/github/pandupuncak/Notebooks/blob/main/LaSTI_Basic_Machine_Learning_Model.ipynb\" target=\"_parent\"><img src=\"https://colab.research.google.com/assets/colab-badge.svg\" alt=\"Open In Colab\"/></a>"
      ]
    },
    {
      "cell_type": "markdown",
      "metadata": {
        "id": "00px1ssKnGes"
      },
      "source": [
        "# Initializing Notebook"
      ]
    },
    {
      "cell_type": "code",
      "metadata": {
        "colab": {
          "base_uri": "https://localhost:8080/"
        },
        "id": "c2AhwFBOl54b",
        "outputId": "b4fd086d-23a3-4aea-833d-e5b63b479047"
      },
      "source": [
        "# Python version\n",
        "import sys\n",
        "print('Python: {}'.format(sys.version))\n",
        "# scipy\n",
        "import scipy\n",
        "print('scipy: {}'.format(scipy.__version__))\n",
        "# numpy\n",
        "import numpy\n",
        "print('numpy: {}'.format(numpy.__version__))\n",
        "# matplotlib\n",
        "import matplotlib\n",
        "print('matplotlib: {}'.format(matplotlib.__version__))\n",
        "# pandas\n",
        "import pandas\n",
        "print('pandas: {}'.format(pandas.__version__))\n",
        "# scikit-learn\n",
        "import sklearn\n",
        "print('sklearn: {}'.format(sklearn.__version__))\n",
        "import glob\n",
        "#print('glob: {}'.format(glob.__version__))\n",
        "import os\n",
        "\n",
        "import io\n",
        "\n",
        "import json\n",
        "\n",
        "import pickle"
      ],
      "execution_count": null,
      "outputs": [
        {
          "output_type": "stream",
          "name": "stdout",
          "text": [
            "Python: 3.7.12 (default, Sep 10 2021, 00:21:48) \n",
            "[GCC 7.5.0]\n",
            "scipy: 1.4.1\n",
            "numpy: 1.19.5\n",
            "matplotlib: 3.2.2\n",
            "pandas: 1.1.5\n",
            "sklearn: 1.0.1\n"
          ]
        }
      ]
    },
    {
      "cell_type": "code",
      "metadata": {
        "id": "MNfIgII1l-hd"
      },
      "source": [
        "from google.colab import files\n",
        "from pandas import read_csv\n",
        "from pandas.plotting import scatter_matrix\n",
        "from matplotlib import pyplot\n",
        "from sklearn.preprocessing import LabelBinarizer\n",
        "from sklearn.model_selection import train_test_split\n",
        "from sklearn.model_selection import cross_val_score\n",
        "from sklearn.model_selection import StratifiedKFold\n",
        "from sklearn.metrics import classification_report\n",
        "from sklearn.metrics import confusion_matrix\n",
        "from sklearn.metrics import accuracy_score\n",
        "from sklearn.linear_model import LogisticRegression\n",
        "from sklearn.tree import DecisionTreeClassifier\n",
        "from sklearn.neighbors import KNeighborsClassifier\n",
        "from sklearn.discriminant_analysis import LinearDiscriminantAnalysis\n",
        "from sklearn.naive_bayes import GaussianNB\n",
        "from sklearn.svm import SVC\n",
        "from sklearn import preprocessing\n",
        "from re import sub\n",
        "from pathlib import Path\n",
        "from decimal import Decimal"
      ],
      "execution_count": null,
      "outputs": []
    },
    {
      "cell_type": "code",
      "metadata": {
        "colab": {
          "base_uri": "https://localhost:8080/"
        },
        "id": "hIDwa1dAmEP5",
        "outputId": "25706591-af0e-4d81-cc67-533896dd9966"
      },
      "source": [
        "! pip install kaggle\n",
        "! mkdir ~/.kaggle\n",
        "! cp kaggle.json ~/.kaggle/\n",
        "! chmod 600 ~/.kaggle/kaggle.json"
      ],
      "execution_count": null,
      "outputs": [
        {
          "output_type": "stream",
          "name": "stdout",
          "text": [
            "Requirement already satisfied: kaggle in /usr/local/lib/python3.7/dist-packages (1.5.12)\n",
            "Requirement already satisfied: tqdm in /usr/local/lib/python3.7/dist-packages (from kaggle) (4.62.3)\n",
            "Requirement already satisfied: certifi in /usr/local/lib/python3.7/dist-packages (from kaggle) (2021.10.8)\n",
            "Requirement already satisfied: six>=1.10 in /usr/local/lib/python3.7/dist-packages (from kaggle) (1.15.0)\n",
            "Requirement already satisfied: python-dateutil in /usr/local/lib/python3.7/dist-packages (from kaggle) (2.8.2)\n",
            "Requirement already satisfied: python-slugify in /usr/local/lib/python3.7/dist-packages (from kaggle) (5.0.2)\n",
            "Requirement already satisfied: requests in /usr/local/lib/python3.7/dist-packages (from kaggle) (2.23.0)\n",
            "Requirement already satisfied: urllib3 in /usr/local/lib/python3.7/dist-packages (from kaggle) (1.24.3)\n",
            "Requirement already satisfied: text-unidecode>=1.3 in /usr/local/lib/python3.7/dist-packages (from python-slugify->kaggle) (1.3)\n",
            "Requirement already satisfied: idna<3,>=2.5 in /usr/local/lib/python3.7/dist-packages (from requests->kaggle) (2.10)\n",
            "Requirement already satisfied: chardet<4,>=3.0.2 in /usr/local/lib/python3.7/dist-packages (from requests->kaggle) (3.0.4)\n",
            "mkdir: cannot create directory ‘/root/.kaggle’: File exists\n"
          ]
        }
      ]
    },
    {
      "cell_type": "code",
      "metadata": {
        "colab": {
          "base_uri": "https://localhost:8080/"
        },
        "id": "f2UO6M56mHHi",
        "outputId": "b52c4f4e-3dfc-43d6-ac85-fba88541cc28"
      },
      "source": [
        "! kaggle datasets download -d PromptCloudHQ/innerwear-data-from-victorias-secret-and-others\n",
        "! unzip innerwear-data-from-victorias-secret-and-others"
      ],
      "execution_count": null,
      "outputs": [
        {
          "output_type": "stream",
          "name": "stdout",
          "text": [
            "innerwear-data-from-victorias-secret-and-others.zip: Skipping, found more recently modified local copy (use --force to force download)\n",
            "Archive:  innerwear-data-from-victorias-secret-and-others.zip\n",
            "replace ae_com.csv? [y]es, [n]o, [A]ll, [N]one, [r]ename: N\n"
          ]
        }
      ]
    },
    {
      "cell_type": "markdown",
      "metadata": {
        "id": "2USTXZT1kqvs"
      },
      "source": [
        "# Data Processing (Predicting Locations)"
      ]
    },
    {
      "cell_type": "code",
      "metadata": {
        "colab": {
          "base_uri": "https://localhost:8080/"
        },
        "id": "92ClouoGmIcM",
        "outputId": "9b7fcc3f-03aa-45f2-f0a3-837af8787c98"
      },
      "source": [
        "path = r'./' # use your path\n",
        "all_files = glob.glob(os.path.join(path, \"*.csv\"))\n",
        "all_files[:5]"
      ],
      "execution_count": null,
      "outputs": [
        {
          "output_type": "execute_result",
          "data": {
            "text/plain": [
              "['./shop_nordstrom_com.csv',\n",
              " './calvinklein_com.csv',\n",
              " './amazon_com.csv',\n",
              " './btemptd_com.csv',\n",
              " './us_topshop_com.csv']"
            ]
          },
          "metadata": {},
          "execution_count": 65
        }
      ]
    },
    {
      "cell_type": "code",
      "metadata": {
        "colab": {
          "base_uri": "https://localhost:8080/",
          "height": 206
        },
        "id": "ipxnWt85mKIz",
        "outputId": "ac283e0f-ace6-4725-b6c1-1bf138ebe222"
      },
      "source": [
        "# Load dataset_project\n",
        "#url = \"https://raw.githubusercontent.com/jbrownlee/Datasets/master/iris.csv\"\n",
        "\n",
        "names = ['price', 'brand_name', 'product_category', 'rating','color'] #tambah 'position'\n",
        "rawdata = pandas.concat((pandas.read_csv(f,usecols=names) for f in all_files))\n",
        "rawdata.head(5)"
      ],
      "execution_count": null,
      "outputs": [
        {
          "output_type": "execute_result",
          "data": {
            "text/html": [
              "<div>\n",
              "<style scoped>\n",
              "    .dataframe tbody tr th:only-of-type {\n",
              "        vertical-align: middle;\n",
              "    }\n",
              "\n",
              "    .dataframe tbody tr th {\n",
              "        vertical-align: top;\n",
              "    }\n",
              "\n",
              "    .dataframe thead th {\n",
              "        text-align: right;\n",
              "    }\n",
              "</style>\n",
              "<table border=\"1\" class=\"dataframe\">\n",
              "  <thead>\n",
              "    <tr style=\"text-align: right;\">\n",
              "      <th></th>\n",
              "      <th>price</th>\n",
              "      <th>brand_name</th>\n",
              "      <th>product_category</th>\n",
              "      <th>rating</th>\n",
              "      <th>color</th>\n",
              "    </tr>\n",
              "  </thead>\n",
              "  <tbody>\n",
              "    <tr>\n",
              "      <th>0</th>\n",
              "      <td>$15.00</td>\n",
              "      <td>WACOAL</td>\n",
              "      <td>Women's Panties</td>\n",
              "      <td>4.2</td>\n",
              "      <td>Black</td>\n",
              "    </tr>\n",
              "    <tr>\n",
              "      <th>1</th>\n",
              "      <td>$15.00</td>\n",
              "      <td>WACOAL</td>\n",
              "      <td>Women's Panties</td>\n",
              "      <td>4.2</td>\n",
              "      <td>Nude</td>\n",
              "    </tr>\n",
              "    <tr>\n",
              "      <th>2</th>\n",
              "      <td>$15.00</td>\n",
              "      <td>WACOAL</td>\n",
              "      <td>Women's Panties</td>\n",
              "      <td>4.2</td>\n",
              "      <td>White</td>\n",
              "    </tr>\n",
              "    <tr>\n",
              "      <th>3</th>\n",
              "      <td>$15.00</td>\n",
              "      <td>WACOAL</td>\n",
              "      <td>Women's Panties</td>\n",
              "      <td>4.2</td>\n",
              "      <td>Navy</td>\n",
              "    </tr>\n",
              "    <tr>\n",
              "      <th>4</th>\n",
              "      <td>$18.00</td>\n",
              "      <td>WACOAL</td>\n",
              "      <td>Skin-Tone Lingerie</td>\n",
              "      <td>3.0</td>\n",
              "      <td>Black</td>\n",
              "    </tr>\n",
              "  </tbody>\n",
              "</table>\n",
              "</div>"
            ],
            "text/plain": [
              "     price brand_name    product_category  rating  color\n",
              "0  $15.00      WACOAL     Women's Panties     4.2  Black\n",
              "1  $15.00      WACOAL     Women's Panties     4.2   Nude\n",
              "2  $15.00      WACOAL     Women's Panties     4.2  White\n",
              "3  $15.00      WACOAL     Women's Panties     4.2   Navy\n",
              "4  $18.00      WACOAL  Skin-Tone Lingerie     3.0  Black"
            ]
          },
          "metadata": {},
          "execution_count": 66
        }
      ]
    },
    {
      "cell_type": "code",
      "metadata": {
        "colab": {
          "base_uri": "https://localhost:8080/",
          "height": 330
        },
        "id": "4yenLLGvmMke",
        "outputId": "1d03ab98-f366-41f8-fc65-5bcba1c59177"
      },
      "source": [
        "#Data Transformation (Adding Store Positions), assuming data as sales data\n",
        "positions = [\"First Floor\", \"Second Floor\", \"Entrance\", \"Entrance\", \"Back\", \"Near the Cashier\", \"Exit\"]\n",
        "\n",
        "\n",
        "dataset = rawdata\n",
        "dataset = dataset.dropna()\n",
        "dataset['layouting'] = numpy.random.choice(list(positions), len(dataset))\n",
        "dataset.head(5)"
      ],
      "execution_count": null,
      "outputs": [
        {
          "output_type": "stream",
          "name": "stderr",
          "text": [
            "/usr/local/lib/python3.7/dist-packages/ipykernel_launcher.py:7: SettingWithCopyWarning: \n",
            "A value is trying to be set on a copy of a slice from a DataFrame.\n",
            "Try using .loc[row_indexer,col_indexer] = value instead\n",
            "\n",
            "See the caveats in the documentation: https://pandas.pydata.org/pandas-docs/stable/user_guide/indexing.html#returning-a-view-versus-a-copy\n",
            "  import sys\n"
          ]
        },
        {
          "output_type": "execute_result",
          "data": {
            "text/html": [
              "<div>\n",
              "<style scoped>\n",
              "    .dataframe tbody tr th:only-of-type {\n",
              "        vertical-align: middle;\n",
              "    }\n",
              "\n",
              "    .dataframe tbody tr th {\n",
              "        vertical-align: top;\n",
              "    }\n",
              "\n",
              "    .dataframe thead th {\n",
              "        text-align: right;\n",
              "    }\n",
              "</style>\n",
              "<table border=\"1\" class=\"dataframe\">\n",
              "  <thead>\n",
              "    <tr style=\"text-align: right;\">\n",
              "      <th></th>\n",
              "      <th>price</th>\n",
              "      <th>brand_name</th>\n",
              "      <th>product_category</th>\n",
              "      <th>rating</th>\n",
              "      <th>color</th>\n",
              "      <th>layouting</th>\n",
              "    </tr>\n",
              "  </thead>\n",
              "  <tbody>\n",
              "    <tr>\n",
              "      <th>0</th>\n",
              "      <td>$15.00</td>\n",
              "      <td>WACOAL</td>\n",
              "      <td>Women's Panties</td>\n",
              "      <td>4.2</td>\n",
              "      <td>Black</td>\n",
              "      <td>Second Floor</td>\n",
              "    </tr>\n",
              "    <tr>\n",
              "      <th>1</th>\n",
              "      <td>$15.00</td>\n",
              "      <td>WACOAL</td>\n",
              "      <td>Women's Panties</td>\n",
              "      <td>4.2</td>\n",
              "      <td>Nude</td>\n",
              "      <td>Entrance</td>\n",
              "    </tr>\n",
              "    <tr>\n",
              "      <th>2</th>\n",
              "      <td>$15.00</td>\n",
              "      <td>WACOAL</td>\n",
              "      <td>Women's Panties</td>\n",
              "      <td>4.2</td>\n",
              "      <td>White</td>\n",
              "      <td>Entrance</td>\n",
              "    </tr>\n",
              "    <tr>\n",
              "      <th>3</th>\n",
              "      <td>$15.00</td>\n",
              "      <td>WACOAL</td>\n",
              "      <td>Women's Panties</td>\n",
              "      <td>4.2</td>\n",
              "      <td>Navy</td>\n",
              "      <td>Entrance</td>\n",
              "    </tr>\n",
              "    <tr>\n",
              "      <th>4</th>\n",
              "      <td>$18.00</td>\n",
              "      <td>WACOAL</td>\n",
              "      <td>Skin-Tone Lingerie</td>\n",
              "      <td>3.0</td>\n",
              "      <td>Black</td>\n",
              "      <td>Exit</td>\n",
              "    </tr>\n",
              "  </tbody>\n",
              "</table>\n",
              "</div>"
            ],
            "text/plain": [
              "     price brand_name    product_category  rating  color     layouting\n",
              "0  $15.00      WACOAL     Women's Panties     4.2  Black  Second Floor\n",
              "1  $15.00      WACOAL     Women's Panties     4.2   Nude      Entrance\n",
              "2  $15.00      WACOAL     Women's Panties     4.2  White      Entrance\n",
              "3  $15.00      WACOAL     Women's Panties     4.2   Navy      Entrance\n",
              "4  $18.00      WACOAL  Skin-Tone Lingerie     3.0  Black          Exit"
            ]
          },
          "metadata": {},
          "execution_count": 67
        }
      ]
    },
    {
      "cell_type": "code",
      "metadata": {
        "id": "l23VmA3tmTrb"
      },
      "source": [
        "#Price\n",
        "dataset = dataset[~dataset.price.str.contains(\"–\")]\n",
        "dataset = dataset[~dataset.price.str.contains(\"Rp\")]\n",
        "dataset = dataset[~dataset.price.str.contains(\"USD\")]\n",
        "dataset['price'] = dataset['price'].replace('[\\$,]', '', regex=True).astype(float)"
      ],
      "execution_count": null,
      "outputs": []
    },
    {
      "cell_type": "code",
      "metadata": {
        "colab": {
          "base_uri": "https://localhost:8080/",
          "height": 206
        },
        "id": "6GnXVn01mYUX",
        "outputId": "90cd417c-c259-4263-e274-917c9c04df71"
      },
      "source": [
        "#Brand\n",
        "#Wacoal\n",
        "dataset['brand_name'] = dataset['brand_name'].str.replace('WACOAL', 'Wacoal')\n",
        "dataset['brand_name'] = dataset['brand_name'].str.replace(\"B.TEMPT'D BY WACOALL\", 'Wacoal')\n",
        "dataset['brand_name'] = dataset['brand_name'].str.replace(\"b.tempt'd by Wacoal\", 'Wacoal')\n",
        "dataset['brand_name'] = dataset['brand_name'].str.replace(\"b-temptd\", 'Wacoal')\n",
        "dataset['brand_name'] = dataset['brand_name'].str.replace(\"B.TEMPT'D BY Wacoal\", 'Wacoal')\n",
        "dataset['brand_name'] = dataset['brand_name'].str.replace(\"b.tempt'd\", 'Wacoal')\n",
        "\n",
        "#Hanky Panky\n",
        "dataset['brand_name'] = dataset['brand_name'].str.replace(\"Hanky-Panky\", 'Hanky Panky')\n",
        "dataset['brand_name'] = dataset['brand_name'].str.replace(\"HANKY PANKY\", 'Hanky Panky')\n",
        "dataset['brand_name'] = dataset['brand_name'].str.replace(\"HankyPanky\", 'Hanky Panky')\n",
        "\n",
        "#Calvin Klein\n",
        "dataset['brand_name'] = dataset['brand_name'].str.replace(\"CALVIN KLEIN\", 'Calvin Klein')\n",
        "dataset['brand_name'] = dataset['brand_name'].str.replace(\"Calvin Klein Performance\", 'Calvin Klein')\n",
        "dataset['brand_name'] = dataset['brand_name'].str.replace(\"Calvin Klein Modern Cotton\", 'Calvin Klein')\n",
        "dataset['brand_name'] = dataset['brand_name'].str.replace(\"Calvin-Klein\", 'Calvin Klein')\n",
        "\n",
        "#Victoria'Secret\n",
        "dataset['brand_name'] = dataset['brand_name'].str.replace(\"Victoria's Secret Pink\", \"Victoria's Secret\")\n",
        "dataset['brand_name'] = dataset['brand_name'].str.replace(\"Victorias-Secret\", \"Victoria's Secret\")\n",
        "\n",
        "#Replaces\n",
        "dataset = dataset[~dataset.brand_name.str.contains(\"Compression-Comfort\")]\n",
        "dataset = dataset[~dataset.brand_name.str.contains(\"Creative-Motion\")]\n",
        "dataset = dataset[~dataset.brand_name.str.contains(\"Fila\")]\n",
        "dataset = dataset[~dataset.brand_name.str.contains(\"Lucky-Brand\")]\n",
        "dataset = dataset[~dataset.brand_name.str.contains(\"Nintendo\")]\n",
        "dataset = dataset[~dataset.brand_name.str.contains(\"Sexy-Hair\")]\n",
        "dataset = dataset[~dataset.brand_name.str.contains(\"Lucky-Brand\")]\n",
        "dataset = dataset[~dataset.brand_name.str.contains(\"Nintendo\")]\n",
        "dataset = dataset[~dataset.brand_name.str.contains(\"Sexy-Hair\")]\n",
        "dataset = dataset[~dataset.brand_name.str.contains(\"ref\")]\n",
        "dataset = dataset[~dataset.brand_name.str.contains(\"Sexy-Hair\")]\n",
        "dataset = dataset[dataset.brand_name != 's']\n",
        "\n",
        "#Quantizing Branding\n",
        "selected_column = 'brand_name'\n",
        "quantized_column = dataset[selected_column]\n",
        "brand_dict = {}\n",
        "iterator = 1\n",
        "for item in quantized_column:\n",
        "  if item not in brand_dict:\n",
        "    brand_dict[item] = iterator\n",
        "    iterator = iterator + 1\n",
        "\n",
        "dataset['brand_name'].replace(brand_dict, inplace=True)\n",
        "dataset.head(5)"
      ],
      "execution_count": null,
      "outputs": [
        {
          "output_type": "execute_result",
          "data": {
            "text/html": [
              "<div>\n",
              "<style scoped>\n",
              "    .dataframe tbody tr th:only-of-type {\n",
              "        vertical-align: middle;\n",
              "    }\n",
              "\n",
              "    .dataframe tbody tr th {\n",
              "        vertical-align: top;\n",
              "    }\n",
              "\n",
              "    .dataframe thead th {\n",
              "        text-align: right;\n",
              "    }\n",
              "</style>\n",
              "<table border=\"1\" class=\"dataframe\">\n",
              "  <thead>\n",
              "    <tr style=\"text-align: right;\">\n",
              "      <th></th>\n",
              "      <th>price</th>\n",
              "      <th>brand_name</th>\n",
              "      <th>product_category</th>\n",
              "      <th>rating</th>\n",
              "      <th>color</th>\n",
              "      <th>layouting</th>\n",
              "    </tr>\n",
              "  </thead>\n",
              "  <tbody>\n",
              "    <tr>\n",
              "      <th>0</th>\n",
              "      <td>15.0</td>\n",
              "      <td>1</td>\n",
              "      <td>Women's Panties</td>\n",
              "      <td>4.2</td>\n",
              "      <td>Black</td>\n",
              "      <td>Second Floor</td>\n",
              "    </tr>\n",
              "    <tr>\n",
              "      <th>1</th>\n",
              "      <td>15.0</td>\n",
              "      <td>1</td>\n",
              "      <td>Women's Panties</td>\n",
              "      <td>4.2</td>\n",
              "      <td>Nude</td>\n",
              "      <td>Entrance</td>\n",
              "    </tr>\n",
              "    <tr>\n",
              "      <th>2</th>\n",
              "      <td>15.0</td>\n",
              "      <td>1</td>\n",
              "      <td>Women's Panties</td>\n",
              "      <td>4.2</td>\n",
              "      <td>White</td>\n",
              "      <td>Entrance</td>\n",
              "    </tr>\n",
              "    <tr>\n",
              "      <th>3</th>\n",
              "      <td>15.0</td>\n",
              "      <td>1</td>\n",
              "      <td>Women's Panties</td>\n",
              "      <td>4.2</td>\n",
              "      <td>Navy</td>\n",
              "      <td>Entrance</td>\n",
              "    </tr>\n",
              "    <tr>\n",
              "      <th>4</th>\n",
              "      <td>18.0</td>\n",
              "      <td>1</td>\n",
              "      <td>Skin-Tone Lingerie</td>\n",
              "      <td>3.0</td>\n",
              "      <td>Black</td>\n",
              "      <td>Exit</td>\n",
              "    </tr>\n",
              "  </tbody>\n",
              "</table>\n",
              "</div>"
            ],
            "text/plain": [
              "   price  brand_name    product_category  rating  color     layouting\n",
              "0   15.0           1     Women's Panties     4.2  Black  Second Floor\n",
              "1   15.0           1     Women's Panties     4.2   Nude      Entrance\n",
              "2   15.0           1     Women's Panties     4.2  White      Entrance\n",
              "3   15.0           1     Women's Panties     4.2   Navy      Entrance\n",
              "4   18.0           1  Skin-Tone Lingerie     3.0  Black          Exit"
            ]
          },
          "metadata": {},
          "execution_count": 69
        }
      ]
    },
    {
      "cell_type": "code",
      "metadata": {
        "colab": {
          "base_uri": "https://localhost:8080/",
          "height": 313
        },
        "id": "Pi8OzbzGmsI4",
        "outputId": "87ed2559-4a8a-417c-e6f6-ec4cdb2de956"
      },
      "source": [
        "#Color\n",
        "\n",
        "colours = ['red', 'black', 'white', 'green', 'violet', 'blue', 'yellow'\n",
        ",'cyan', 'purple', 'gray', ' silver', 'pink']\n",
        "for basecolors in colours:\n",
        "  dataset.loc[dataset['color'].str.casefold().str.contains(basecolors), 'color'] = basecolors\n",
        "dataset = dataset[dataset['color'].isin(colours)]\n",
        "\n",
        "#Quantizing Layouting\n",
        "selected_column = 'color'\n",
        "quantized_column = dataset[selected_column]\n",
        "color_dict = {}\n",
        "iterator = 1\n",
        "for item in quantized_column:\n",
        "  if item not in color_dict:\n",
        "    color_dict[item] = iterator\n",
        "    iterator = iterator + 1\n",
        "dataset['color'].replace(color_dict, inplace=True)\n",
        "dataset.head(5)"
      ],
      "execution_count": null,
      "outputs": [
        {
          "output_type": "stream",
          "name": "stderr",
          "text": [
            "/usr/local/lib/python3.7/dist-packages/pandas/core/series.py:4582: SettingWithCopyWarning: \n",
            "A value is trying to be set on a copy of a slice from a DataFrame\n",
            "\n",
            "See the caveats in the documentation: https://pandas.pydata.org/pandas-docs/stable/user_guide/indexing.html#returning-a-view-versus-a-copy\n",
            "  method=method,\n"
          ]
        },
        {
          "output_type": "execute_result",
          "data": {
            "text/html": [
              "<div>\n",
              "<style scoped>\n",
              "    .dataframe tbody tr th:only-of-type {\n",
              "        vertical-align: middle;\n",
              "    }\n",
              "\n",
              "    .dataframe tbody tr th {\n",
              "        vertical-align: top;\n",
              "    }\n",
              "\n",
              "    .dataframe thead th {\n",
              "        text-align: right;\n",
              "    }\n",
              "</style>\n",
              "<table border=\"1\" class=\"dataframe\">\n",
              "  <thead>\n",
              "    <tr style=\"text-align: right;\">\n",
              "      <th></th>\n",
              "      <th>price</th>\n",
              "      <th>brand_name</th>\n",
              "      <th>product_category</th>\n",
              "      <th>rating</th>\n",
              "      <th>color</th>\n",
              "      <th>layouting</th>\n",
              "    </tr>\n",
              "  </thead>\n",
              "  <tbody>\n",
              "    <tr>\n",
              "      <th>0</th>\n",
              "      <td>15.0</td>\n",
              "      <td>1</td>\n",
              "      <td>Women's Panties</td>\n",
              "      <td>4.2</td>\n",
              "      <td>1</td>\n",
              "      <td>Second Floor</td>\n",
              "    </tr>\n",
              "    <tr>\n",
              "      <th>2</th>\n",
              "      <td>15.0</td>\n",
              "      <td>1</td>\n",
              "      <td>Women's Panties</td>\n",
              "      <td>4.2</td>\n",
              "      <td>2</td>\n",
              "      <td>Entrance</td>\n",
              "    </tr>\n",
              "    <tr>\n",
              "      <th>4</th>\n",
              "      <td>18.0</td>\n",
              "      <td>1</td>\n",
              "      <td>Skin-Tone Lingerie</td>\n",
              "      <td>3.0</td>\n",
              "      <td>1</td>\n",
              "      <td>Exit</td>\n",
              "    </tr>\n",
              "    <tr>\n",
              "      <th>9</th>\n",
              "      <td>15.0</td>\n",
              "      <td>1</td>\n",
              "      <td>Skin-Tone Lingerie</td>\n",
              "      <td>4.3</td>\n",
              "      <td>1</td>\n",
              "      <td>First Floor</td>\n",
              "    </tr>\n",
              "    <tr>\n",
              "      <th>19</th>\n",
              "      <td>39.0</td>\n",
              "      <td>2</td>\n",
              "      <td>Women's Panties</td>\n",
              "      <td>4.2</td>\n",
              "      <td>1</td>\n",
              "      <td>Exit</td>\n",
              "    </tr>\n",
              "  </tbody>\n",
              "</table>\n",
              "</div>"
            ],
            "text/plain": [
              "    price  brand_name    product_category  rating  color     layouting\n",
              "0    15.0           1     Women's Panties     4.2      1  Second Floor\n",
              "2    15.0           1     Women's Panties     4.2      2      Entrance\n",
              "4    18.0           1  Skin-Tone Lingerie     3.0      1          Exit\n",
              "9    15.0           1  Skin-Tone Lingerie     4.3      1   First Floor\n",
              "19   39.0           2     Women's Panties     4.2      1          Exit"
            ]
          },
          "metadata": {},
          "execution_count": 70
        }
      ]
    },
    {
      "cell_type": "code",
      "metadata": {
        "colab": {
          "base_uri": "https://localhost:8080/"
        },
        "id": "CWq3bBVN7Pqj",
        "outputId": "a60b70c1-f0ec-4e76-aef1-16f667489660"
      },
      "source": [
        "dataset['product_category'].value_counts()"
      ],
      "execution_count": null,
      "outputs": [
        {
          "output_type": "execute_result",
          "data": {
            "text/plain": [
              "Bras                                                11119\n",
              "Push-Up Bra                                          5192\n",
              "Women - Lingerie & Shapewear - Designer Lingerie     5030\n",
              "Demi Bra                                             4116\n",
              "Perfect Coverage Bra                                 3397\n",
              "                                                    ...  \n",
              "Bridal Robe                                             2\n",
              "Women - Lingerie & Shapewear - Lingerie Sets            2\n",
              "Fishnet Lace Dress                                      2\n",
              "Sleep Kimono                                            1\n",
              "New! Wear Everywhere Multi-way Push-Up Bra              1\n",
              "Name: product_category, Length: 355, dtype: int64"
            ]
          },
          "metadata": {},
          "execution_count": 71
        }
      ]
    },
    {
      "cell_type": "code",
      "metadata": {
        "colab": {
          "base_uri": "https://localhost:8080/",
          "height": 313
        },
        "id": "0sQXKhatm1zO",
        "outputId": "2be8fa89-7da2-4ff1-e6b0-68f772bd8f3d"
      },
      "source": [
        "#Category\n",
        "categories = ['bra','lingerie','panties','collections','thongs']\n",
        "for category in categories:\n",
        "  dataset.loc[dataset['product_category'].str.casefold().str.contains(category), 'product_category'] = category\n",
        "dataset = dataset[dataset['product_category'].isin(categories)]\n",
        "selected_column = 'product_category'\n",
        "quantized_column = dataset[selected_column]\n",
        "category_dict = {}\n",
        "iterator = 1\n",
        "for item in quantized_column:\n",
        "  if item not in category_dict:\n",
        "    category_dict[item] = iterator\n",
        "    iterator = iterator + 1\n",
        "\n",
        "dataset['product_category'].replace(category_dict, inplace=True)\n",
        "dataset.head(5)"
      ],
      "execution_count": null,
      "outputs": [
        {
          "output_type": "stream",
          "name": "stderr",
          "text": [
            "/usr/local/lib/python3.7/dist-packages/pandas/core/series.py:4582: SettingWithCopyWarning: \n",
            "A value is trying to be set on a copy of a slice from a DataFrame\n",
            "\n",
            "See the caveats in the documentation: https://pandas.pydata.org/pandas-docs/stable/user_guide/indexing.html#returning-a-view-versus-a-copy\n",
            "  method=method,\n"
          ]
        },
        {
          "output_type": "execute_result",
          "data": {
            "text/html": [
              "<div>\n",
              "<style scoped>\n",
              "    .dataframe tbody tr th:only-of-type {\n",
              "        vertical-align: middle;\n",
              "    }\n",
              "\n",
              "    .dataframe tbody tr th {\n",
              "        vertical-align: top;\n",
              "    }\n",
              "\n",
              "    .dataframe thead th {\n",
              "        text-align: right;\n",
              "    }\n",
              "</style>\n",
              "<table border=\"1\" class=\"dataframe\">\n",
              "  <thead>\n",
              "    <tr style=\"text-align: right;\">\n",
              "      <th></th>\n",
              "      <th>price</th>\n",
              "      <th>brand_name</th>\n",
              "      <th>product_category</th>\n",
              "      <th>rating</th>\n",
              "      <th>color</th>\n",
              "      <th>layouting</th>\n",
              "    </tr>\n",
              "  </thead>\n",
              "  <tbody>\n",
              "    <tr>\n",
              "      <th>0</th>\n",
              "      <td>15.0</td>\n",
              "      <td>1</td>\n",
              "      <td>1</td>\n",
              "      <td>4.2</td>\n",
              "      <td>1</td>\n",
              "      <td>Second Floor</td>\n",
              "    </tr>\n",
              "    <tr>\n",
              "      <th>2</th>\n",
              "      <td>15.0</td>\n",
              "      <td>1</td>\n",
              "      <td>1</td>\n",
              "      <td>4.2</td>\n",
              "      <td>2</td>\n",
              "      <td>Entrance</td>\n",
              "    </tr>\n",
              "    <tr>\n",
              "      <th>4</th>\n",
              "      <td>18.0</td>\n",
              "      <td>1</td>\n",
              "      <td>2</td>\n",
              "      <td>3.0</td>\n",
              "      <td>1</td>\n",
              "      <td>Exit</td>\n",
              "    </tr>\n",
              "    <tr>\n",
              "      <th>9</th>\n",
              "      <td>15.0</td>\n",
              "      <td>1</td>\n",
              "      <td>2</td>\n",
              "      <td>4.3</td>\n",
              "      <td>1</td>\n",
              "      <td>First Floor</td>\n",
              "    </tr>\n",
              "    <tr>\n",
              "      <th>19</th>\n",
              "      <td>39.0</td>\n",
              "      <td>2</td>\n",
              "      <td>1</td>\n",
              "      <td>4.2</td>\n",
              "      <td>1</td>\n",
              "      <td>Exit</td>\n",
              "    </tr>\n",
              "  </tbody>\n",
              "</table>\n",
              "</div>"
            ],
            "text/plain": [
              "    price  brand_name  product_category  rating  color     layouting\n",
              "0    15.0           1                 1     4.2      1  Second Floor\n",
              "2    15.0           1                 1     4.2      2      Entrance\n",
              "4    18.0           1                 2     3.0      1          Exit\n",
              "9    15.0           1                 2     4.3      1   First Floor\n",
              "19   39.0           2                 1     4.2      1          Exit"
            ]
          },
          "metadata": {},
          "execution_count": 72
        }
      ]
    },
    {
      "cell_type": "markdown",
      "metadata": {
        "id": "hlP3afswnPaF"
      },
      "source": [
        "# Plotting"
      ]
    },
    {
      "cell_type": "code",
      "metadata": {
        "colab": {
          "base_uri": "https://localhost:8080/"
        },
        "id": "_OXKROZQnb0E",
        "outputId": "949228dd-4c4c-4fe4-9b89-726f9a1c4781"
      },
      "source": [
        "dataset.hist()\n",
        "pyplot.show()"
      ],
      "execution_count": null,
      "outputs": [
        {
          "output_type": "display_data",
          "data": {
            "image/png": "[encoded data removed]",
            "text/plain": [
              "<Figure size 432x288 with 6 Axes>"
            ]
          },
          "metadata": {
            "needs_background": "light"
          }
        }
      ]
    },
    {
      "cell_type": "code",
      "metadata": {
        "colab": {
          "base_uri": "https://localhost:8080/"
        },
        "id": "XDesYz6GnfNs",
        "outputId": "c06ae998-737f-4d42-8bb8-274a80d7be10"
      },
      "source": [
        "scatter_matrix(dataset)\n",
        "pyplot.show()"
      ],
      "execution_count": null,
      "outputs": [
        {
          "output_type": "display_data",
          "data": {
            "image/png": "[encoded data removed]",
            "text/plain": [
              "<Figure size 432x288 with 25 Axes>"
            ]
          },
          "metadata": {
            "needs_background": "light"
          }
        }
      ]
    },
    {
      "cell_type": "markdown",
      "metadata": {
        "id": "wM6RFxzhnTeM"
      },
      "source": [
        "# Validation"
      ]
    },
    {
      "cell_type": "code",
      "metadata": {
        "colab": {
          "base_uri": "https://localhost:8080/"
        },
        "id": "WDpGiZotnvOQ",
        "outputId": "2f525d69-bc20-4970-87d8-3b97ab092ed6"
      },
      "source": [
        "dataset.head(4)"
      ],
      "execution_count": null,
      "outputs": [
        {
          "output_type": "execute_result",
          "data": {
            "text/html": [
              "<div>\n",
              "<style scoped>\n",
              "    .dataframe tbody tr th:only-of-type {\n",
              "        vertical-align: middle;\n",
              "    }\n",
              "\n",
              "    .dataframe tbody tr th {\n",
              "        vertical-align: top;\n",
              "    }\n",
              "\n",
              "    .dataframe thead th {\n",
              "        text-align: right;\n",
              "    }\n",
              "</style>\n",
              "<table border=\"1\" class=\"dataframe\">\n",
              "  <thead>\n",
              "    <tr style=\"text-align: right;\">\n",
              "      <th></th>\n",
              "      <th>price</th>\n",
              "      <th>brand_name</th>\n",
              "      <th>product_category</th>\n",
              "      <th>rating</th>\n",
              "      <th>color</th>\n",
              "      <th>layouting</th>\n",
              "    </tr>\n",
              "  </thead>\n",
              "  <tbody>\n",
              "    <tr>\n",
              "      <th>0</th>\n",
              "      <td>15.0</td>\n",
              "      <td>1</td>\n",
              "      <td>1</td>\n",
              "      <td>4.2</td>\n",
              "      <td>1</td>\n",
              "      <td>Second Floor</td>\n",
              "    </tr>\n",
              "    <tr>\n",
              "      <th>2</th>\n",
              "      <td>15.0</td>\n",
              "      <td>1</td>\n",
              "      <td>1</td>\n",
              "      <td>4.2</td>\n",
              "      <td>2</td>\n",
              "      <td>Entrance</td>\n",
              "    </tr>\n",
              "    <tr>\n",
              "      <th>4</th>\n",
              "      <td>18.0</td>\n",
              "      <td>1</td>\n",
              "      <td>2</td>\n",
              "      <td>3.0</td>\n",
              "      <td>1</td>\n",
              "      <td>Exit</td>\n",
              "    </tr>\n",
              "    <tr>\n",
              "      <th>9</th>\n",
              "      <td>15.0</td>\n",
              "      <td>1</td>\n",
              "      <td>2</td>\n",
              "      <td>4.3</td>\n",
              "      <td>1</td>\n",
              "      <td>First Floor</td>\n",
              "    </tr>\n",
              "  </tbody>\n",
              "</table>\n",
              "</div>"
            ],
            "text/plain": [
              "   price  brand_name  product_category  rating  color     layouting\n",
              "0   15.0           1                 1     4.2      1  Second Floor\n",
              "2   15.0           1                 1     4.2      2      Entrance\n",
              "4   18.0           1                 2     3.0      1          Exit\n",
              "9   15.0           1                 2     4.3      1   First Floor"
            ]
          },
          "metadata": {},
          "execution_count": 75
        }
      ]
    },
    {
      "cell_type": "code",
      "metadata": {
        "colab": {
          "base_uri": "https://localhost:8080/"
        },
        "id": "qiEBjUkmnsO0",
        "outputId": "9e072d23-dc66-474e-80d6-5dd1b7d38407"
      },
      "source": [
        "array = dataset.values\n",
        "X = array[:,0:5]\n",
        "Y = array[:,5]\n",
        "\n",
        "print(X.size)\n",
        "print(Y.size)\n",
        "\n",
        "X_Train, X_Validation, Y_Train, Y_Validation = train_test_split(X,Y, test_size = 0.20, random_state=1)\n",
        "\n",
        "#print(X_train.size)\n"
      ],
      "execution_count": null,
      "outputs": [
        {
          "output_type": "stream",
          "name": "stdout",
          "text": [
            "388795\n",
            "77759\n"
          ]
        }
      ]
    },
    {
      "cell_type": "markdown",
      "metadata": {
        "id": "Ak4SebMRnVXV"
      },
      "source": [
        "# Modeling"
      ]
    },
    {
      "cell_type": "code",
      "metadata": {
        "colab": {
          "base_uri": "https://localhost:8080/"
        },
        "id": "I8yXLjBOoDcD",
        "outputId": "df2bcbcc-9a76-4271-b451-a1b238361874"
      },
      "source": [
        "#Creating Models\n",
        "models = []\n",
        "\n",
        "models.append(('LR', LogisticRegression(solver = 'liblinear', multi_class = 'ovr')))\n",
        "models.append(('LDA', LinearDiscriminantAnalysis()))\n",
        "models.append(('KNN', KNeighborsClassifier()))\n",
        "models.append(('CART', DecisionTreeClassifier()))\n",
        "models.append(('NB', GaussianNB()))\n",
        "# models.append(('SVM', SVC(gamma = 'auto')))\n",
        "\n",
        "#Evaluating Models\n",
        "results = []\n",
        "names = []\n",
        "for name,model in models:\n",
        "  kfold = StratifiedKFold(n_splits=10, random_state=1, shuffle=True)\n",
        "  cv_results = cross_val_score(model,X_Train,Y_Train, cv=kfold, scoring='accuracy')\n",
        "  results.append(cv_results)\n",
        "  names.append(name)\n",
        "  print('%s: %f (%f)' % (name, cv_results.mean(), cv_results.std()))"
      ],
      "execution_count": null,
      "outputs": [
        {
          "output_type": "stream",
          "name": "stdout",
          "text": [
            "LR: 0.283585 (0.000048)\n",
            "LDA: 0.283585 (0.000048)\n",
            "KNN: 0.197775 (0.002503)\n",
            "CART: 0.250615 (0.003874)\n",
            "NB: 0.283344 (0.000318)\n"
          ]
        }
      ]
    },
    {
      "cell_type": "markdown",
      "metadata": {
        "id": "X2OnkADZRVR8"
      },
      "source": [
        ""
      ]
    },
    {
      "cell_type": "code",
      "metadata": {
        "colab": {
          "base_uri": "https://localhost:8080/"
        },
        "id": "437k2y9BoIEG",
        "outputId": "92cbec30-b2b3-45f3-bf94-0b3faefd2169"
      },
      "source": [
        "#Comparing Algorithms\n",
        "pyplot.boxplot(results, labels=names)\n",
        "pyplot.title('Algorithm Comparison')\n",
        "pyplot.show()"
      ],
      "execution_count": null,
      "outputs": [
        {
          "output_type": "error",
          "ename": "NameError",
          "evalue": "ignored",
          "traceback": [
            "\u001b[0;31m---------------------------------------------------------------------------\u001b[0m",
            "\u001b[0;31mNameError\u001b[0m                                 Traceback (most recent call last)",
            "\u001b[0;32m<ipython-input-1-ce4b8d559467>\u001b[0m in \u001b[0;36m<module>\u001b[0;34m()\u001b[0m\n\u001b[1;32m      1\u001b[0m \u001b[0;31m#Comparing Algorithms\u001b[0m\u001b[0;34m\u001b[0m\u001b[0;34m\u001b[0m\u001b[0;34m\u001b[0m\u001b[0m\n\u001b[0;32m----> 2\u001b[0;31m \u001b[0mpyplot\u001b[0m\u001b[0;34m.\u001b[0m\u001b[0mboxplot\u001b[0m\u001b[0;34m(\u001b[0m\u001b[0mresults\u001b[0m\u001b[0;34m,\u001b[0m \u001b[0mlabels\u001b[0m\u001b[0;34m=\u001b[0m\u001b[0mnames\u001b[0m\u001b[0;34m)\u001b[0m\u001b[0;34m\u001b[0m\u001b[0;34m\u001b[0m\u001b[0m\n\u001b[0m\u001b[1;32m      3\u001b[0m \u001b[0mpyplot\u001b[0m\u001b[0;34m.\u001b[0m\u001b[0mtitle\u001b[0m\u001b[0;34m(\u001b[0m\u001b[0;34m'Algorithm Comparison'\u001b[0m\u001b[0;34m)\u001b[0m\u001b[0;34m\u001b[0m\u001b[0;34m\u001b[0m\u001b[0m\n\u001b[1;32m      4\u001b[0m \u001b[0mpyplot\u001b[0m\u001b[0;34m.\u001b[0m\u001b[0mshow\u001b[0m\u001b[0;34m(\u001b[0m\u001b[0;34m)\u001b[0m\u001b[0;34m\u001b[0m\u001b[0;34m\u001b[0m\u001b[0m\n",
            "\u001b[0;31mNameError\u001b[0m: name 'pyplot' is not defined"
          ]
        }
      ]
    },
    {
      "cell_type": "markdown",
      "metadata": {
        "id": "Ikjh3accnYN2"
      },
      "source": [
        "# Prediction"
      ]
    },
    {
      "cell_type": "code",
      "metadata": {
        "colab": {
          "base_uri": "https://localhost:8080/"
        },
        "id": "ace_rfm1oLdU",
        "outputId": "a4240768-f2d8-418a-f47f-5b64efbf6efe"
      },
      "source": [
        "#Making Predictions\n",
        "model = GaussianNB()\n",
        "model.fit(X_Train, Y_Train)\n",
        "predictions = model.predict(X_Validation)\n",
        "\n",
        "#Evaluating Predictions\n",
        "print(accuracy_score(Y_Validation,predictions))\n",
        "print(confusion_matrix(Y_Validation,predictions))\n",
        "print(classification_report(Y_Validation, predictions))"
      ],
      "execution_count": null,
      "outputs": [
        {
          "output_type": "stream",
          "name": "stdout",
          "text": [
            "0.27732767489711935\n",
            "[[   0 2195    9    0    0    0]\n",
            " [   0 4307   15    0    0    0]\n",
            " [   0 2219    6    0    0    0]\n",
            " [   0 2261    4    0    0    0]\n",
            " [   0 2259    8    0    0    0]\n",
            " [   0 2262    7    0    0    0]]\n"
          ]
        },
        {
          "output_type": "stream",
          "name": "stderr",
          "text": [
            "/usr/local/lib/python3.7/dist-packages/sklearn/metrics/_classification.py:1308: UndefinedMetricWarning: Precision and F-score are ill-defined and being set to 0.0 in labels with no predicted samples. Use `zero_division` parameter to control this behavior.\n",
            "  _warn_prf(average, modifier, msg_start, len(result))\n"
          ]
        },
        {
          "output_type": "stream",
          "name": "stdout",
          "text": [
            "                  precision    recall  f1-score   support\n",
            "\n",
            "            Back       0.00      0.00      0.00      2204\n",
            "        Entrance       0.28      1.00      0.43      4322\n",
            "            Exit       0.12      0.00      0.01      2225\n",
            "     First Floor       0.00      0.00      0.00      2265\n",
            "Near the Cashier       0.00      0.00      0.00      2267\n",
            "    Second Floor       0.00      0.00      0.00      2269\n",
            "\n",
            "        accuracy                           0.28     15552\n",
            "       macro avg       0.07      0.17      0.07     15552\n",
            "    weighted avg       0.09      0.28      0.12     15552\n",
            "\n"
          ]
        },
        {
          "output_type": "stream",
          "name": "stderr",
          "text": [
            "/usr/local/lib/python3.7/dist-packages/sklearn/metrics/_classification.py:1308: UndefinedMetricWarning: Precision and F-score are ill-defined and being set to 0.0 in labels with no predicted samples. Use `zero_division` parameter to control this behavior.\n",
            "  _warn_prf(average, modifier, msg_start, len(result))\n",
            "/usr/local/lib/python3.7/dist-packages/sklearn/metrics/_classification.py:1308: UndefinedMetricWarning: Precision and F-score are ill-defined and being set to 0.0 in labels with no predicted samples. Use `zero_division` parameter to control this behavior.\n",
            "  _warn_prf(average, modifier, msg_start, len(result))\n"
          ]
        }
      ]
    },
    {
      "cell_type": "code",
      "metadata": {
        "colab": {
          "base_uri": "https://localhost:8080/"
        },
        "id": "6EtGpf0RruE3",
        "outputId": "1e3f6df7-5e52-4825-e2ae-feedd2cc9bac"
      },
      "source": [
        "dataset.head(1)"
      ],
      "execution_count": null,
      "outputs": [
        {
          "output_type": "execute_result",
          "data": {
            "text/html": [
              "<div>\n",
              "<style scoped>\n",
              "    .dataframe tbody tr th:only-of-type {\n",
              "        vertical-align: middle;\n",
              "    }\n",
              "\n",
              "    .dataframe tbody tr th {\n",
              "        vertical-align: top;\n",
              "    }\n",
              "\n",
              "    .dataframe thead th {\n",
              "        text-align: right;\n",
              "    }\n",
              "</style>\n",
              "<table border=\"1\" class=\"dataframe\">\n",
              "  <thead>\n",
              "    <tr style=\"text-align: right;\">\n",
              "      <th></th>\n",
              "      <th>price</th>\n",
              "      <th>brand_name</th>\n",
              "      <th>product_category</th>\n",
              "      <th>rating</th>\n",
              "      <th>color</th>\n",
              "      <th>layouting</th>\n",
              "    </tr>\n",
              "  </thead>\n",
              "  <tbody>\n",
              "    <tr>\n",
              "      <th>0</th>\n",
              "      <td>15.0</td>\n",
              "      <td>1</td>\n",
              "      <td>1</td>\n",
              "      <td>4.2</td>\n",
              "      <td>1</td>\n",
              "      <td>Second Floor</td>\n",
              "    </tr>\n",
              "  </tbody>\n",
              "</table>\n",
              "</div>"
            ],
            "text/plain": [
              "   price  brand_name  product_category  rating  color     layouting\n",
              "0   15.0           1                 1     4.2      1  Second Floor"
            ]
          },
          "metadata": {},
          "execution_count": 80
        }
      ]
    },
    {
      "cell_type": "code",
      "metadata": {
        "colab": {
          "base_uri": "https://localhost:8080/"
        },
        "id": "Hb7QSHF_rxIG",
        "outputId": "76234832-7d30-4091-eda2-2d9ed2e45cd6"
      },
      "source": [
        "product_price = 20.0\n",
        "product_brand = 'Wacoal'\n",
        "category = 'collections'\n",
        "product_rating = 5.0\n",
        "product_color = 'blue'\n",
        "\n",
        "basearray = [[product_price, brand_dict[product_brand],category_dict[category],product_rating,color_dict[product_color]]]\n",
        "basearray = numpy.asarray(basearray, dtype=object)\n",
        "basearray.reshape(1, -1)\n",
        "basearray"
      ],
      "execution_count": null,
      "outputs": [
        {
          "output_type": "execute_result",
          "data": {
            "text/plain": [
              "array([[20.0, 1, 5, 5.0, 3]], dtype=object)"
            ]
          },
          "metadata": {},
          "execution_count": 81
        }
      ]
    },
    {
      "cell_type": "code",
      "metadata": {
        "colab": {
          "base_uri": "https://localhost:8080/"
        },
        "id": "KCg8PSAOt2cr",
        "outputId": "6f8469d1-93b6-46b3-9f73-69eb37ea3d8f"
      },
      "source": [
        "prediction = model.predict(basearray)\n",
        "prediction"
      ],
      "execution_count": null,
      "outputs": [
        {
          "output_type": "execute_result",
          "data": {
            "text/plain": [
              "array(['Entrance'], dtype='<U16')"
            ]
          },
          "metadata": {},
          "execution_count": 82
        }
      ]
    },
    {
      "cell_type": "code",
      "metadata": {
        "id": "QgBeG6pulbc_"
      },
      "source": [
        "filename = 'finalized_model.sav'\n",
        "pickle.dump(model, open(filename, 'wb'))"
      ],
      "execution_count": null,
      "outputs": []
    },
    {
      "cell_type": "code",
      "metadata": {
        "colab": {
          "base_uri": "https://localhost:8080/"
        },
        "id": "n43CSv6Jrhjc",
        "outputId": "7e60b695-510f-4b33-db33-cf3983679494"
      },
      "source": [
        "X_Validation[0]"
      ],
      "execution_count": null,
      "outputs": [
        {
          "output_type": "execute_result",
          "data": {
            "text/plain": [
              "array([34.99, 1, 3, 5.0, 9], dtype=object)"
            ]
          },
          "metadata": {},
          "execution_count": 84
        }
      ]
    },
    {
      "cell_type": "code",
      "metadata": {
        "colab": {
          "base_uri": "https://localhost:8080/"
        },
        "id": "KUCbcP3nmehF",
        "outputId": "dbfa6f97-5774-4973-e6c0-690e91f1a1dc"
      },
      "source": [
        "dataset.shape"
      ],
      "execution_count": null,
      "outputs": [
        {
          "output_type": "execute_result",
          "data": {
            "text/plain": [
              "(77759, 6)"
            ]
          },
          "metadata": {},
          "execution_count": 85
        }
      ]
    },
    {
      "cell_type": "markdown",
      "metadata": {
        "id": "zABtSxxaISbM"
      },
      "source": [
        "# Using Dummy Data from .json"
      ]
    },
    {
      "cell_type": "code",
      "metadata": {
        "colab": {
          "base_uri": "https://localhost:8080/"
        },
        "id": "Rcj_NMOOltZb",
        "outputId": "38766278-2333-43b7-fe5a-b070c6e9b262"
      },
      "source": [
        "! mkdir dummy/\n",
        "! git clone https://github.com/fadlinaufal06/project-lasti.git"
      ],
      "execution_count": null,
      "outputs": [
        {
          "output_type": "stream",
          "name": "stdout",
          "text": [
            "mkdir: cannot create directory ‘dummy/’: File exists\n",
            "fatal: destination path 'project-lasti' already exists and is not an empty directory.\n"
          ]
        }
      ]
    },
    {
      "cell_type": "code",
      "metadata": {
        "colab": {
          "resources": {
            "http://localhost:8080/nbextensions/google.colab/files.js": {
              "data": "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",
              "ok": true,
              "headers": [
                [
                  "content-type",
                  "application/javascript"
                ]
              ],
              "status": 200,
              "status_text": ""
            }
          },
          "base_uri": "https://localhost:8080/",
          "height": 73
        },
        "id": "BG32iygLIUnk",
        "outputId": "095e8388-77a6-4deb-c8a4-036b35d9b869"
      },
      "source": [
        "uploaded = files.upload()"
      ],
      "execution_count": null,
      "outputs": [
        {
          "output_type": "display_data",
          "data": {
            "text/html": [
              "\n",
              "     <input type=\"file\" id=\"files-4ca83e46-d62f-4e69-b496-a1e145a7e42c\" name=\"files[]\" multiple disabled\n",
              "        style=\"border:none\" />\n",
              "     <output id=\"result-4ca83e46-d62f-4e69-b496-a1e145a7e42c\">\n",
              "      Upload widget is only available when the cell has been executed in the\n",
              "      current browser session. Please rerun this cell to enable.\n",
              "      </output>\n",
              "      <script src=\"/nbextensions/google.colab/files.js\"></script> "
            ],
            "text/plain": [
              "<IPython.core.display.HTML object>"
            ]
          },
          "metadata": {}
        },
        {
          "output_type": "stream",
          "name": "stdout",
          "text": [
            "Saving datapembelian.py to datapembelian (1).py\n"
          ]
        }
      ]
    },
    {
      "cell_type": "code",
      "metadata": {
        "colab": {
          "base_uri": "https://localhost:8080/"
        },
        "id": "S7SudFhQnQ7c",
        "outputId": "0229b980-ee9b-4428-8305-b2cc3ddebb11"
      },
      "source": [
        "#df1 = pandas.read_csv(r'/content/project-lasti/Data_Pembelian_Matahari.csv')\n",
        "#df2 = pandas.read_json(r'/content/project-lasti/databarang.json', lines=True, orient='records')\n",
        "\n",
        "with open('datapembelian.json') as f:\n",
        "  df2 = json.load(f)\n",
        "\n",
        "df3 = (pandas.DataFrame(df2[\"pembelian\"]))\n",
        "\n",
        "df4 = df3\n",
        "def quantizing_column(dataset, selected_column):\n",
        "  quantized_column = dataset[selected_column]\n",
        "  category_dict = {}\n",
        "  iterator = 1\n",
        "  for item in quantized_column:\n",
        "    if item not in category_dict:\n",
        "      category_dict[item] = iterator\n",
        "      iterator = iterator + 1\n",
        "    \n",
        "  return(category_dict)\n",
        "\n",
        "def replacing_data(dataset,data_dict,replaced_column):\n",
        "  for item in dataset:\n",
        "    item[replaced_column] = data_dict[\"replaced_column\"]\n",
        "  return dataset\n",
        "\n",
        "# df3 = pandas.DataFrame.from_dict(df2['pembelian'])\n",
        "id = df3['ID_barang'].unique()\n",
        "id"
      ],
      "execution_count": null,
      "outputs": [
        {
          "output_type": "execute_result",
          "data": {
            "text/plain": [
              "array([ 1,  2, 10,  7,  9,  5,  4,  3,  8,  6])"
            ]
          },
          "metadata": {},
          "execution_count": 88
        }
      ]
    },
    {
      "cell_type": "code",
      "metadata": {
        "colab": {
          "base_uri": "https://localhost:8080/",
          "height": 1000
        },
        "id": "Qt8Dsi4fs2eX",
        "outputId": "68e5bad7-3dc8-4b4b-c446-feec173e7165"
      },
      "source": [
        "df3 = df3.drop(['ID_pembelian','Diskon_(%)','Universal_size_(1-10)'], axis=1)\n",
        "df3"
      ],
      "execution_count": null,
      "outputs": [
        {
          "output_type": "execute_result",
          "data": {
            "text/html": [
              "<div>\n",
              "<style scoped>\n",
              "    .dataframe tbody tr th:only-of-type {\n",
              "        vertical-align: middle;\n",
              "    }\n",
              "\n",
              "    .dataframe tbody tr th {\n",
              "        vertical-align: top;\n",
              "    }\n",
              "\n",
              "    .dataframe thead th {\n",
              "        text-align: right;\n",
              "    }\n",
              "</style>\n",
              "<table border=\"1\" class=\"dataframe\">\n",
              "  <thead>\n",
              "    <tr style=\"text-align: right;\">\n",
              "      <th></th>\n",
              "      <th>ID_barang</th>\n",
              "      <th>Warna_barang</th>\n",
              "      <th>Merek</th>\n",
              "      <th>Jenis</th>\n",
              "      <th>Harga</th>\n",
              "      <th>Rating</th>\n",
              "    </tr>\n",
              "  </thead>\n",
              "  <tbody>\n",
              "    <tr>\n",
              "      <th>0</th>\n",
              "      <td>1</td>\n",
              "      <td>cream</td>\n",
              "      <td>nike</td>\n",
              "      <td>sepatu/sendal</td>\n",
              "      <td>19.000.000</td>\n",
              "      <td>3,1</td>\n",
              "    </tr>\n",
              "    <tr>\n",
              "      <th>1</th>\n",
              "      <td>2</td>\n",
              "      <td>abu-abu</td>\n",
              "      <td>adidas</td>\n",
              "      <td>sepatu/sendal</td>\n",
              "      <td>1.298.142</td>\n",
              "      <td>3,5</td>\n",
              "    </tr>\n",
              "    <tr>\n",
              "      <th>2</th>\n",
              "      <td>1</td>\n",
              "      <td>biru</td>\n",
              "      <td>nike</td>\n",
              "      <td>sepatu/sendal</td>\n",
              "      <td>19.000.000</td>\n",
              "      <td>0,4</td>\n",
              "    </tr>\n",
              "    <tr>\n",
              "      <th>3</th>\n",
              "      <td>10</td>\n",
              "      <td>cokelat</td>\n",
              "      <td>Lee</td>\n",
              "      <td>celana</td>\n",
              "      <td>335</td>\n",
              "      <td>0,6</td>\n",
              "    </tr>\n",
              "    <tr>\n",
              "      <th>4</th>\n",
              "      <td>7</td>\n",
              "      <td>cream</td>\n",
              "      <td>under armour</td>\n",
              "      <td>sepatu/sendal</td>\n",
              "      <td>1.857.759</td>\n",
              "      <td>2,1</td>\n",
              "    </tr>\n",
              "    <tr>\n",
              "      <th>5</th>\n",
              "      <td>1</td>\n",
              "      <td>cokelat</td>\n",
              "      <td>nike</td>\n",
              "      <td>sepatu/sendal</td>\n",
              "      <td>19.000.000</td>\n",
              "      <td>2,9</td>\n",
              "    </tr>\n",
              "    <tr>\n",
              "      <th>6</th>\n",
              "      <td>9</td>\n",
              "      <td>cokelat</td>\n",
              "      <td>Levis</td>\n",
              "      <td>celana</td>\n",
              "      <td>1.335.098</td>\n",
              "      <td>1,6</td>\n",
              "    </tr>\n",
              "    <tr>\n",
              "      <th>7</th>\n",
              "      <td>5</td>\n",
              "      <td>biru</td>\n",
              "      <td>The executive</td>\n",
              "      <td>baju</td>\n",
              "      <td>142.121</td>\n",
              "      <td>1,3</td>\n",
              "    </tr>\n",
              "    <tr>\n",
              "      <th>8</th>\n",
              "      <td>4</td>\n",
              "      <td>abu-abu</td>\n",
              "      <td>Hammer</td>\n",
              "      <td>baju</td>\n",
              "      <td>249.9</td>\n",
              "      <td>3,7</td>\n",
              "    </tr>\n",
              "    <tr>\n",
              "      <th>9</th>\n",
              "      <td>3</td>\n",
              "      <td>cokelat</td>\n",
              "      <td>crocs</td>\n",
              "      <td>sepatu/sendal</td>\n",
              "      <td>641.939</td>\n",
              "      <td>4</td>\n",
              "    </tr>\n",
              "    <tr>\n",
              "      <th>10</th>\n",
              "      <td>4</td>\n",
              "      <td>putih</td>\n",
              "      <td>Hammer</td>\n",
              "      <td>baju</td>\n",
              "      <td>249.9</td>\n",
              "      <td>4,1</td>\n",
              "    </tr>\n",
              "    <tr>\n",
              "      <th>11</th>\n",
              "      <td>9</td>\n",
              "      <td>hitam</td>\n",
              "      <td>Levis</td>\n",
              "      <td>celana</td>\n",
              "      <td>1.335.098</td>\n",
              "      <td>0,1</td>\n",
              "    </tr>\n",
              "    <tr>\n",
              "      <th>12</th>\n",
              "      <td>8</td>\n",
              "      <td>abu-abu</td>\n",
              "      <td>Polo</td>\n",
              "      <td>baju</td>\n",
              "      <td>450</td>\n",
              "      <td>0,7</td>\n",
              "    </tr>\n",
              "    <tr>\n",
              "      <th>13</th>\n",
              "      <td>6</td>\n",
              "      <td>merah</td>\n",
              "      <td>Greenlight</td>\n",
              "      <td>baju</td>\n",
              "      <td>88.75</td>\n",
              "      <td>0,3</td>\n",
              "    </tr>\n",
              "    <tr>\n",
              "      <th>14</th>\n",
              "      <td>4</td>\n",
              "      <td>kuning</td>\n",
              "      <td>Hammer</td>\n",
              "      <td>baju</td>\n",
              "      <td>641.939</td>\n",
              "      <td>4,6</td>\n",
              "    </tr>\n",
              "    <tr>\n",
              "      <th>15</th>\n",
              "      <td>3</td>\n",
              "      <td>hijau</td>\n",
              "      <td>crocs</td>\n",
              "      <td>sepatu/sendal</td>\n",
              "      <td>249.9</td>\n",
              "      <td>1,9</td>\n",
              "    </tr>\n",
              "    <tr>\n",
              "      <th>16</th>\n",
              "      <td>4</td>\n",
              "      <td>cokelat</td>\n",
              "      <td>Hammer</td>\n",
              "      <td>baju</td>\n",
              "      <td>641.939</td>\n",
              "      <td>3,5</td>\n",
              "    </tr>\n",
              "    <tr>\n",
              "      <th>17</th>\n",
              "      <td>4</td>\n",
              "      <td>hitam</td>\n",
              "      <td>Hammer</td>\n",
              "      <td>baju</td>\n",
              "      <td>641.939</td>\n",
              "      <td>1,7</td>\n",
              "    </tr>\n",
              "    <tr>\n",
              "      <th>18</th>\n",
              "      <td>10</td>\n",
              "      <td>cream</td>\n",
              "      <td>Lee</td>\n",
              "      <td>celana</td>\n",
              "      <td>335</td>\n",
              "      <td>0,3</td>\n",
              "    </tr>\n",
              "    <tr>\n",
              "      <th>19</th>\n",
              "      <td>1</td>\n",
              "      <td>biru dongker</td>\n",
              "      <td>nike</td>\n",
              "      <td>sepatu/sendal</td>\n",
              "      <td>19.000.000</td>\n",
              "      <td>0,4</td>\n",
              "    </tr>\n",
              "    <tr>\n",
              "      <th>20</th>\n",
              "      <td>9</td>\n",
              "      <td>cream</td>\n",
              "      <td>Levis</td>\n",
              "      <td>celana</td>\n",
              "      <td>1.335.098</td>\n",
              "      <td>4,6</td>\n",
              "    </tr>\n",
              "    <tr>\n",
              "      <th>21</th>\n",
              "      <td>2</td>\n",
              "      <td>abu-abu</td>\n",
              "      <td>adidas</td>\n",
              "      <td>sepatu/sendal</td>\n",
              "      <td>1.298.142</td>\n",
              "      <td>0,8</td>\n",
              "    </tr>\n",
              "    <tr>\n",
              "      <th>22</th>\n",
              "      <td>2</td>\n",
              "      <td>merah</td>\n",
              "      <td>adidas</td>\n",
              "      <td>sepatu/sendal</td>\n",
              "      <td>1.298.142</td>\n",
              "      <td>4,7</td>\n",
              "    </tr>\n",
              "    <tr>\n",
              "      <th>23</th>\n",
              "      <td>9</td>\n",
              "      <td>putih</td>\n",
              "      <td>Levis</td>\n",
              "      <td>celana</td>\n",
              "      <td>1.335.098</td>\n",
              "      <td>4,7</td>\n",
              "    </tr>\n",
              "    <tr>\n",
              "      <th>24</th>\n",
              "      <td>5</td>\n",
              "      <td>hijau</td>\n",
              "      <td>The executive</td>\n",
              "      <td>baju</td>\n",
              "      <td>142.121</td>\n",
              "      <td>2,9</td>\n",
              "    </tr>\n",
              "    <tr>\n",
              "      <th>25</th>\n",
              "      <td>8</td>\n",
              "      <td>hijau</td>\n",
              "      <td>Polo</td>\n",
              "      <td>baju</td>\n",
              "      <td>450</td>\n",
              "      <td>4,7</td>\n",
              "    </tr>\n",
              "    <tr>\n",
              "      <th>26</th>\n",
              "      <td>6</td>\n",
              "      <td>cokelat</td>\n",
              "      <td>Greenlight</td>\n",
              "      <td>baju</td>\n",
              "      <td>88.75</td>\n",
              "      <td>0,9</td>\n",
              "    </tr>\n",
              "    <tr>\n",
              "      <th>27</th>\n",
              "      <td>5</td>\n",
              "      <td>hijau</td>\n",
              "      <td>The executive</td>\n",
              "      <td>baju</td>\n",
              "      <td>142.121</td>\n",
              "      <td>2,2</td>\n",
              "    </tr>\n",
              "    <tr>\n",
              "      <th>28</th>\n",
              "      <td>9</td>\n",
              "      <td>kuning</td>\n",
              "      <td>Levis</td>\n",
              "      <td>celana</td>\n",
              "      <td>1.335.098</td>\n",
              "      <td>1</td>\n",
              "    </tr>\n",
              "    <tr>\n",
              "      <th>29</th>\n",
              "      <td>10</td>\n",
              "      <td>cokelat</td>\n",
              "      <td>Lee</td>\n",
              "      <td>celana</td>\n",
              "      <td>335</td>\n",
              "      <td>3,3</td>\n",
              "    </tr>\n",
              "    <tr>\n",
              "      <th>30</th>\n",
              "      <td>7</td>\n",
              "      <td>biru</td>\n",
              "      <td>under armour</td>\n",
              "      <td>sepatu/sendal</td>\n",
              "      <td>1.857.759</td>\n",
              "      <td>1,7</td>\n",
              "    </tr>\n",
              "    <tr>\n",
              "      <th>31</th>\n",
              "      <td>10</td>\n",
              "      <td>biru dongker</td>\n",
              "      <td>Lee</td>\n",
              "      <td>celana</td>\n",
              "      <td>335</td>\n",
              "      <td>4,7</td>\n",
              "    </tr>\n",
              "    <tr>\n",
              "      <th>32</th>\n",
              "      <td>2</td>\n",
              "      <td>merah</td>\n",
              "      <td>adidas</td>\n",
              "      <td>sepatu/sendal</td>\n",
              "      <td>1.298.142</td>\n",
              "      <td>0,4</td>\n",
              "    </tr>\n",
              "    <tr>\n",
              "      <th>33</th>\n",
              "      <td>8</td>\n",
              "      <td>hijau</td>\n",
              "      <td>Polo</td>\n",
              "      <td>baju</td>\n",
              "      <td>450</td>\n",
              "      <td>4,4</td>\n",
              "    </tr>\n",
              "    <tr>\n",
              "      <th>34</th>\n",
              "      <td>3</td>\n",
              "      <td>kuning</td>\n",
              "      <td>crocs</td>\n",
              "      <td>sepatu/sendal</td>\n",
              "      <td>249.9</td>\n",
              "      <td>1,5</td>\n",
              "    </tr>\n",
              "    <tr>\n",
              "      <th>35</th>\n",
              "      <td>2</td>\n",
              "      <td>cokelat</td>\n",
              "      <td>adidas</td>\n",
              "      <td>sepatu/sendal</td>\n",
              "      <td>1.298.142</td>\n",
              "      <td>4,9</td>\n",
              "    </tr>\n",
              "    <tr>\n",
              "      <th>36</th>\n",
              "      <td>1</td>\n",
              "      <td>cream</td>\n",
              "      <td>nike</td>\n",
              "      <td>sepatu/sendal</td>\n",
              "      <td>19.000.000</td>\n",
              "      <td>0,5</td>\n",
              "    </tr>\n",
              "    <tr>\n",
              "      <th>37</th>\n",
              "      <td>2</td>\n",
              "      <td>abu-abu</td>\n",
              "      <td>adidas</td>\n",
              "      <td>sepatu/sendal</td>\n",
              "      <td>1.298.142</td>\n",
              "      <td>3,6</td>\n",
              "    </tr>\n",
              "    <tr>\n",
              "      <th>38</th>\n",
              "      <td>9</td>\n",
              "      <td>hijau</td>\n",
              "      <td>Levis</td>\n",
              "      <td>celana</td>\n",
              "      <td>1.335.098</td>\n",
              "      <td>1,7</td>\n",
              "    </tr>\n",
              "    <tr>\n",
              "      <th>39</th>\n",
              "      <td>5</td>\n",
              "      <td>biru dongker</td>\n",
              "      <td>The executive</td>\n",
              "      <td>celana</td>\n",
              "      <td>142.121</td>\n",
              "      <td>1,1</td>\n",
              "    </tr>\n",
              "    <tr>\n",
              "      <th>40</th>\n",
              "      <td>9</td>\n",
              "      <td>putih</td>\n",
              "      <td>Levis</td>\n",
              "      <td>celana</td>\n",
              "      <td>1.335.098</td>\n",
              "      <td>1,1</td>\n",
              "    </tr>\n",
              "    <tr>\n",
              "      <th>41</th>\n",
              "      <td>5</td>\n",
              "      <td>putih</td>\n",
              "      <td>The executive</td>\n",
              "      <td>baju</td>\n",
              "      <td>142.121</td>\n",
              "      <td>2,8</td>\n",
              "    </tr>\n",
              "    <tr>\n",
              "      <th>42</th>\n",
              "      <td>5</td>\n",
              "      <td>kuning</td>\n",
              "      <td>The executive</td>\n",
              "      <td>baju</td>\n",
              "      <td>142.121</td>\n",
              "      <td>1</td>\n",
              "    </tr>\n",
              "    <tr>\n",
              "      <th>43</th>\n",
              "      <td>1</td>\n",
              "      <td>hitam</td>\n",
              "      <td>nike</td>\n",
              "      <td>sepatu/sendal</td>\n",
              "      <td>19.000.000</td>\n",
              "      <td>0,4</td>\n",
              "    </tr>\n",
              "    <tr>\n",
              "      <th>44</th>\n",
              "      <td>8</td>\n",
              "      <td>hitam</td>\n",
              "      <td>Polo</td>\n",
              "      <td>baju</td>\n",
              "      <td>450</td>\n",
              "      <td>2,4</td>\n",
              "    </tr>\n",
              "    <tr>\n",
              "      <th>45</th>\n",
              "      <td>10</td>\n",
              "      <td>kuning</td>\n",
              "      <td>Lee</td>\n",
              "      <td>celana</td>\n",
              "      <td>335</td>\n",
              "      <td>3,9</td>\n",
              "    </tr>\n",
              "    <tr>\n",
              "      <th>46</th>\n",
              "      <td>5</td>\n",
              "      <td>biru dongker</td>\n",
              "      <td>The executive</td>\n",
              "      <td>baju</td>\n",
              "      <td>142.121</td>\n",
              "      <td>1,1</td>\n",
              "    </tr>\n",
              "    <tr>\n",
              "      <th>47</th>\n",
              "      <td>5</td>\n",
              "      <td>abu-abu</td>\n",
              "      <td>The executive</td>\n",
              "      <td>baju</td>\n",
              "      <td>142.121</td>\n",
              "      <td>1</td>\n",
              "    </tr>\n",
              "    <tr>\n",
              "      <th>48</th>\n",
              "      <td>3</td>\n",
              "      <td>hitam</td>\n",
              "      <td>crocs</td>\n",
              "      <td>sepatu/sendal</td>\n",
              "      <td>249.9</td>\n",
              "      <td>3,3</td>\n",
              "    </tr>\n",
              "    <tr>\n",
              "      <th>49</th>\n",
              "      <td>8</td>\n",
              "      <td>cokelat</td>\n",
              "      <td>Polo</td>\n",
              "      <td>baju</td>\n",
              "      <td>450</td>\n",
              "      <td>3,5</td>\n",
              "    </tr>\n",
              "  </tbody>\n",
              "</table>\n",
              "</div>"
            ],
            "text/plain": [
              "    ID_barang  Warna_barang          Merek          Jenis       Harga Rating\n",
              "0           1         cream           nike  sepatu/sendal  19.000.000    3,1\n",
              "1           2       abu-abu         adidas  sepatu/sendal   1.298.142    3,5\n",
              "2           1          biru           nike  sepatu/sendal  19.000.000    0,4\n",
              "3          10       cokelat            Lee         celana         335    0,6\n",
              "4           7         cream   under armour  sepatu/sendal   1.857.759    2,1\n",
              "5           1       cokelat           nike  sepatu/sendal  19.000.000    2,9\n",
              "6           9       cokelat          Levis         celana   1.335.098    1,6\n",
              "7           5          biru  The executive           baju     142.121    1,3\n",
              "8           4       abu-abu         Hammer           baju       249.9    3,7\n",
              "9           3       cokelat          crocs  sepatu/sendal     641.939      4\n",
              "10          4         putih         Hammer           baju       249.9    4,1\n",
              "11          9         hitam          Levis         celana   1.335.098    0,1\n",
              "12          8       abu-abu           Polo           baju         450    0,7\n",
              "13          6         merah     Greenlight           baju       88.75    0,3\n",
              "14          4        kuning         Hammer           baju     641.939    4,6\n",
              "15          3         hijau          crocs  sepatu/sendal       249.9    1,9\n",
              "16          4       cokelat         Hammer           baju     641.939    3,5\n",
              "17          4         hitam         Hammer           baju     641.939    1,7\n",
              "18         10         cream            Lee         celana         335    0,3\n",
              "19          1  biru dongker           nike  sepatu/sendal  19.000.000    0,4\n",
              "20          9         cream          Levis         celana   1.335.098    4,6\n",
              "21          2       abu-abu         adidas  sepatu/sendal   1.298.142    0,8\n",
              "22          2         merah         adidas  sepatu/sendal   1.298.142    4,7\n",
              "23          9         putih          Levis         celana   1.335.098    4,7\n",
              "24          5         hijau  The executive           baju     142.121    2,9\n",
              "25          8         hijau           Polo           baju         450    4,7\n",
              "26          6       cokelat     Greenlight           baju       88.75    0,9\n",
              "27          5         hijau  The executive           baju     142.121    2,2\n",
              "28          9        kuning          Levis         celana   1.335.098      1\n",
              "29         10       cokelat            Lee         celana         335    3,3\n",
              "30          7          biru   under armour  sepatu/sendal   1.857.759    1,7\n",
              "31         10  biru dongker            Lee         celana         335    4,7\n",
              "32          2         merah         adidas  sepatu/sendal   1.298.142    0,4\n",
              "33          8         hijau           Polo           baju         450    4,4\n",
              "34          3        kuning          crocs  sepatu/sendal       249.9    1,5\n",
              "35          2       cokelat         adidas  sepatu/sendal   1.298.142    4,9\n",
              "36          1         cream           nike  sepatu/sendal  19.000.000    0,5\n",
              "37          2       abu-abu         adidas  sepatu/sendal   1.298.142    3,6\n",
              "38          9         hijau          Levis         celana   1.335.098    1,7\n",
              "39          5  biru dongker  The executive         celana     142.121    1,1\n",
              "40          9         putih          Levis         celana   1.335.098    1,1\n",
              "41          5         putih  The executive           baju     142.121    2,8\n",
              "42          5        kuning  The executive           baju     142.121      1\n",
              "43          1         hitam           nike  sepatu/sendal  19.000.000    0,4\n",
              "44          8         hitam           Polo           baju         450    2,4\n",
              "45         10        kuning            Lee         celana         335    3,9\n",
              "46          5  biru dongker  The executive           baju     142.121    1,1\n",
              "47          5       abu-abu  The executive           baju     142.121      1\n",
              "48          3         hitam          crocs  sepatu/sendal       249.9    3,3\n",
              "49          8       cokelat           Polo           baju         450    3,5"
            ]
          },
          "metadata": {},
          "execution_count": 89
        }
      ]
    },
    {
      "cell_type": "code",
      "metadata": {
        "id": "bpWGeCHNlUGS"
      },
      "source": [
        "def quantizing_column(dataset, selected_column):\n",
        "  quantized_column = dataset[selected_column]\n",
        "  category_dict = {}\n",
        "  iterator = 1\n",
        "  for item in quantized_column:\n",
        "    if item not in category_dict:\n",
        "      category_dict[item] = iterator\n",
        "      iterator = iterator + 1\n",
        "    \n",
        "  return(category_dict)\n",
        "\n",
        "def replacing_data(dataset,data_dict,replaced_column):\n",
        "  for item in dataset:\n",
        "    item[replaced_column] = data_dict[\"replaced_column\"]\n",
        "  return dataset"
      ],
      "execution_count": null,
      "outputs": []
    },
    {
      "cell_type": "code",
      "metadata": {
        "id": "pwi3gItBsMqw"
      },
      "source": [
        "from sklearn.preprocessing import LabelEncoder\n",
        "label_encoder = LabelEncoder()"
      ],
      "execution_count": null,
      "outputs": []
    },
    {
      "cell_type": "code",
      "metadata": {
        "id": "Xkj1vUOT3mz2"
      },
      "source": [
        "df3['Jenis'] = label_encoder.fit_transform(df3['Jenis'])\n",
        "df3['Warna_barang'] = label_encoder.fit_transform(df3['Warna_barang'])\n",
        "df3['Merek'] = label_encoder.fit_transform(df3['Merek'])\n",
        "df3['Harga'] = df3['Harga'].str.replace(r'.','').astype(float)\n",
        "df3['Rating'] = df3['Rating'].str.replace(r',','.').astype(float)\n",
        "df3['Harga'] = df3['Harga'].div(1000000)\n",
        "df3 = df3.dropna()"
      ],
      "execution_count": null,
      "outputs": []
    },
    {
      "cell_type": "code",
      "metadata": {
        "colab": {
          "base_uri": "https://localhost:8080/"
        },
        "id": "1IIm9h4e4jT2",
        "outputId": "17726091-a17d-4869-9517-ae09133f2d3f"
      },
      "source": [
        "df3.dtypes"
      ],
      "execution_count": null,
      "outputs": [
        {
          "output_type": "execute_result",
          "data": {
            "text/plain": [
              "ID_barang         int64\n",
              "Warna_barang      int64\n",
              "Merek             int64\n",
              "Jenis             int64\n",
              "Harga           float64\n",
              "Rating          float64\n",
              "dtype: object"
            ]
          },
          "metadata": {},
          "execution_count": 93
        }
      ]
    },
    {
      "cell_type": "code",
      "metadata": {
        "colab": {
          "base_uri": "https://localhost:8080/"
        },
        "id": "hsaJwYGU_mFP",
        "outputId": "84cd809f-1242-4bed-c01f-a307abb0f6e7"
      },
      "source": [
        "df3.iloc[3]"
      ],
      "execution_count": null,
      "outputs": [
        {
          "output_type": "execute_result",
          "data": {
            "text/plain": [
              "ID_barang       7.000000\n",
              "Warna_barang    4.000000\n",
              "Merek           9.000000\n",
              "Jenis           2.000000\n",
              "Harga           1.857759\n",
              "Rating          2.100000\n",
              "Name: 4, dtype: float64"
            ]
          },
          "metadata": {},
          "execution_count": 94
        }
      ]
    },
    {
      "cell_type": "code",
      "metadata": {
        "colab": {
          "base_uri": "https://localhost:8080/"
        },
        "id": "llW_lALF5TuJ",
        "outputId": "cd65d1b9-daaa-48da-9b71-194e6d5f7ee5"
      },
      "source": [
        "basearray = []\n",
        "recom_dict = {}\n",
        "for i, row in df3.iterrows():\n",
        "  temp = [[(row['Harga']), row['Merek'],row['Jenis'],row['Rating'],row['Warna_barang']]]\n",
        "  temp = numpy.asarray(temp, dtype=object)\n",
        "  temp.reshape(1,-1)\n",
        "  arr = model.predict(temp)\n",
        "  recom_dict[row['ID_barang']] = str(arr[0])\n",
        "  basearray.append(temp)\n",
        "recom_dict"
      ],
      "execution_count": null,
      "outputs": [
        {
          "output_type": "execute_result",
          "data": {
            "text/plain": [
              "{1.0: 'Exit', 2.0: 'Entrance', 7.0: 'Entrance', 9.0: 'Exit'}"
            ]
          },
          "metadata": {},
          "execution_count": 97
        }
      ]
    },
    {
      "cell_type": "code",
      "metadata": {
        "id": "WZnnJNMFA_QX"
      },
      "source": [
        "for "
      ],
      "execution_count": null,
      "outputs": []
    },
    {
      "cell_type": "code",
      "metadata": {
        "id": "ZOIdtMZH4pe-",
        "colab": {
          "base_uri": "https://localhost:8080/",
          "height": 168
        },
        "outputId": "cf6d3b8e-e6d1-4af6-9602-7134964fee7a"
      },
      "source": [
        "basearray = [df3[], brand_dict[product_brand],category_dict[category],product_rating,color_dict[product_color]]\n",
        "basearray = numpy.asarray(basearray, dtype=object)\n",
        "basearray.reshape(1, -1)\n",
        "basearray"
      ],
      "execution_count": null,
      "outputs": [
        {
          "output_type": "error",
          "ename": "SyntaxError",
          "evalue": "ignored",
          "traceback": [
            "\u001b[0;36m  File \u001b[0;32m\"<ipython-input-96-22cd567868c8>\"\u001b[0;36m, line \u001b[0;32m1\u001b[0m\n\u001b[0;31m    basearray = [df3[], brand_dict[product_brand],category_dict[category],product_rating,color_dict[product_color]]\u001b[0m\n\u001b[0m                     ^\u001b[0m\n\u001b[0;31mSyntaxError\u001b[0m\u001b[0;31m:\u001b[0m invalid syntax\n"
          ]
        }
      ]
    },
    {
      "cell_type": "code",
      "metadata": {
        "id": "PkVougwn4Kmi"
      },
      "source": [
        "#Category\n",
        "\n",
        "\n",
        "for category in categories:\n",
        "  dataset.loc[dataset['product_category'].str.casefold().str.contains(category), 'product_category'] = category\n",
        "dataset = dataset[dataset['product_category'].isin(categories)]"
      ],
      "execution_count": null,
      "outputs": []
    },
    {
      "cell_type": "code",
      "metadata": {
        "id": "JZHm1R2p0WCs"
      },
      "source": [
        "basearray = [[product_price, brand_dict[product_brand],category_dict[category],product_rating,color_dict[product_color]]]\n",
        "basearray = numpy.asarray(basearray, dtype=object)\n",
        "basearray.reshape(1, -1)\n",
        "basearray"
      ],
      "execution_count": null,
      "outputs": []
    }
  ]
}