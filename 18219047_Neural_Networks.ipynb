{
  "cells": [
    {
      "cell_type": "markdown",
      "metadata": {
        "id": "view-in-github",
        "colab_type": "text"
      },
      "source": [
        "<a href=\"https://colab.research.google.com/github/pandupuncak/Notebooks/blob/main/18219047_Neural_Networks.ipynb\" target=\"_parent\"><img src=\"https://colab.research.google.com/assets/colab-badge.svg\" alt=\"Open In Colab\"/></a>"
      ]
    },
    {
      "cell_type": "markdown",
      "metadata": {
        "id": "Suvr5baiHiKz"
      },
      "source": [
        "# Requirements"
      ]
    },
    {
      "cell_type": "markdown",
      "metadata": {
        "id": "JOrwDBn-Hj2U"
      },
      "source": [
        "a.Download dataset Hepatitis C pada link berikut https://archive.ics.uci.edu/ml/datasets/HCV+data\n",
        "\n",
        "b.Membagi dataset menjadi 3 bagian yaitu data train, data validasi, dan data uji\n",
        "\n",
        "c.Merancang dan membangun model ANN\n",
        "\n",
        "d.Lakukan tuning parameter agar menghasilkan model yang terbaik\n",
        "\n",
        "e.Menampilkan grafik loss train dan validasi dari hasil pembangunan model\n",
        "\n",
        "f.Menampilkan hasil confusion matrix dan akurasi dari data uji"
      ]
    },
    {
      "cell_type": "markdown",
      "metadata": {
        "id": "XvHT-sdZYQ3F"
      },
      "source": [
        "# Initializing Notebook"
      ]
    },
    {
      "cell_type": "code",
      "execution_count": 284,
      "metadata": {
        "colab": {
          "base_uri": "https://localhost:8080/"
        },
        "id": "8ZQqUYDjYULE",
        "outputId": "07b6214c-e1f9-44f3-bbd5-4dd8b316bd9f"
      },
      "outputs": [
        {
          "output_type": "stream",
          "name": "stdout",
          "text": [
            "Python: 3.7.13 (default, Mar 16 2022, 17:37:17) \n",
            "[GCC 7.5.0]\n",
            "scipy: 1.4.1\n",
            "numpy: 1.21.5\n",
            "matplotlib: 3.2.2\n",
            "pandas: 1.3.5\n",
            "sklearn: 1.0.2\n"
          ]
        }
      ],
      "source": [
        "import io\n",
        "\n",
        "# Python version\n",
        "import sys\n",
        "print('Python: {}'.format(sys.version))\n",
        "# scipy\n",
        "import scipy\n",
        "print('scipy: {}'.format(scipy.__version__))\n",
        "# numpy\n",
        "import numpy as np\n",
        "print('numpy: {}'.format(np.__version__))\n",
        "# matplotlib\n",
        "import matplotlib as plt\n",
        "print('matplotlib: {}'.format(plt.__version__))\n",
        "# pandas\n",
        "import pandas as pd\n",
        "print('pandas: {}'.format(pd.__version__))\n",
        "# scikit-learn\n",
        "import sklearn\n",
        "print('sklearn: {}'.format(sklearn.__version__))\n",
        "\n",
        "import seaborn as sns"
      ]
    },
    {
      "cell_type": "code",
      "execution_count": null,
      "metadata": {
        "colab": {
          "base_uri": "https://localhost:8080/",
          "height": 73,
          "resources": {
            "http://localhost:8080/nbextensions/google.colab/files.js": {
              "data": "Ly8gQ29weXJpZ2h0IDIwMTcgR29vZ2xlIExMQwovLwovLyBMaWNlbnNlZCB1bmRlciB0aGUgQXBhY2hlIExpY2Vuc2UsIFZlcnNpb24gMi4wICh0aGUgIkxpY2Vuc2UiKTsKLy8geW91IG1heSBub3QgdXNlIHRoaXMgZmlsZSBleGNlcHQgaW4gY29tcGxpYW5jZSB3aXRoIHRoZSBMaWNlbnNlLgovLyBZb3UgbWF5IG9idGFpbiBhIGNvcHkgb2YgdGhlIExpY2Vuc2UgYXQKLy8KLy8gICAgICBodHRwOi8vd3d3LmFwYWNoZS5vcmcvbGljZW5zZXMvTElDRU5TRS0yLjAKLy8KLy8gVW5sZXNzIHJlcXVpcmVkIGJ5IGFwcGxpY2FibGUgbGF3IG9yIGFncmVlZCB0byBpbiB3cml0aW5nLCBzb2Z0d2FyZQovLyBkaXN0cmlidXRlZCB1bmRlciB0aGUgTGljZW5zZSBpcyBkaXN0cmlidXRlZCBvbiBhbiAiQVMgSVMiIEJBU0lTLAovLyBXSVRIT1VUIFdBUlJBTlRJRVMgT1IgQ09ORElUSU9OUyBPRiBBTlkgS0lORCwgZWl0aGVyIGV4cHJlc3Mgb3IgaW1wbGllZC4KLy8gU2VlIHRoZSBMaWNlbnNlIGZvciB0aGUgc3BlY2lmaWMgbGFuZ3VhZ2UgZ292ZXJuaW5nIHBlcm1pc3Npb25zIGFuZAovLyBsaW1pdGF0aW9ucyB1bmRlciB0aGUgTGljZW5zZS4KCi8qKgogKiBAZmlsZW92ZXJ2aWV3IEhlbHBlcnMgZm9yIGdvb2dsZS5jb2xhYiBQeXRob24gbW9kdWxlLgogKi8KKGZ1bmN0aW9uKHNjb3BlKSB7CmZ1bmN0aW9uIHNwYW4odGV4dCwgc3R5bGVBdHRyaWJ1dGVzID0ge30pIHsKICBjb25zdCBlbGVtZW50ID0gZG9jdW1lbnQuY3JlYXRlRWxlbWVudCgnc3BhbicpOwogIGVsZW1lbnQudGV4dENvbnRlbnQgPSB0ZXh0OwogIGZvciAoY29uc3Qga2V5IG9mIE9iamVjdC5rZXlzKHN0eWxlQXR0cmlidXRlcykpIHsKICAgIGVsZW1lbnQuc3R5bGVba2V5XSA9IHN0eWxlQXR0cmlidXRlc1trZXldOwogIH0KICByZXR1cm4gZWxlbWVudDsKfQoKLy8gTWF4IG51bWJlciBvZiBieXRlcyB3aGljaCB3aWxsIGJlIHVwbG9hZGVkIGF0IGEgdGltZS4KY29uc3QgTUFYX1BBWUxPQURfU0laRSA9IDEwMCAqIDEwMjQ7CgpmdW5jdGlvbiBfdXBsb2FkRmlsZXMoaW5wdXRJZCwgb3V0cHV0SWQpIHsKICBjb25zdCBzdGVwcyA9IHVwbG9hZEZpbGVzU3RlcChpbnB1dElkLCBvdXRwdXRJZCk7CiAgY29uc3Qgb3V0cHV0RWxlbWVudCA9IGRvY3VtZW50LmdldEVsZW1lbnRCeUlkKG91dHB1dElkKTsKICAvLyBDYWNoZSBzdGVwcyBvbiB0aGUgb3V0cHV0RWxlbWVudCB0byBtYWtlIGl0IGF2YWlsYWJsZSBmb3IgdGhlIG5leHQgY2FsbAogIC8vIHRvIHVwbG9hZEZpbGVzQ29udGludWUgZnJvbSBQeXRob24uCiAgb3V0cHV0RWxlbWVudC5zdGVwcyA9IHN0ZXBzOwoKICByZXR1cm4gX3VwbG9hZEZpbGVzQ29udGludWUob3V0cHV0SWQpOwp9CgovLyBUaGlzIGlzIHJvdWdobHkgYW4gYXN5bmMgZ2VuZXJhdG9yIChub3Qgc3VwcG9ydGVkIGluIHRoZSBicm93c2VyIHlldCksCi8vIHdoZXJlIHRoZXJlIGFyZSBtdWx0aXBsZSBhc3luY2hyb25vdXMgc3RlcHMgYW5kIHRoZSBQeXRob24gc2lkZSBpcyBnb2luZwovLyB0byBwb2xsIGZvciBjb21wbGV0aW9uIG9mIGVhY2ggc3RlcC4KLy8gVGhpcyB1c2VzIGEgUHJvbWlzZSB0byBibG9jayB0aGUgcHl0aG9uIHNpZGUgb24gY29tcGxldGlvbiBvZiBlYWNoIHN0ZXAsCi8vIHRoZW4gcGFzc2VzIHRoZSByZXN1bHQgb2YgdGhlIHByZXZpb3VzIHN0ZXAgYXMgdGhlIGlucHV0IHRvIHRoZSBuZXh0IHN0ZXAuCmZ1bmN0aW9uIF91cGxvYWRGaWxlc0NvbnRpbnVlKG91dHB1dElkKSB7CiAgY29uc3Qgb3V0cHV0RWxlbWVudCA9IGRvY3VtZW50LmdldEVsZW1lbnRCeUlkKG91dHB1dElkKTsKICBjb25zdCBzdGVwcyA9IG91dHB1dEVsZW1lbnQuc3RlcHM7CgogIGNvbnN0IG5leHQgPSBzdGVwcy5uZXh0KG91dHB1dEVsZW1lbnQubGFzdFByb21pc2VWYWx1ZSk7CiAgcmV0dXJuIFByb21pc2UucmVzb2x2ZShuZXh0LnZhbHVlLnByb21pc2UpLnRoZW4oKHZhbHVlKSA9PiB7CiAgICAvLyBDYWNoZSB0aGUgbGFzdCBwcm9taXNlIHZhbHVlIHRvIG1ha2UgaXQgYXZhaWxhYmxlIHRvIHRoZSBuZXh0CiAgICAvLyBzdGVwIG9mIHRoZSBnZW5lcmF0b3IuCiAgICBvdXRwdXRFbGVtZW50Lmxhc3RQcm9taXNlVmFsdWUgPSB2YWx1ZTsKICAgIHJldHVybiBuZXh0LnZhbHVlLnJlc3BvbnNlOwogIH0pOwp9CgovKioKICogR2VuZXJhdG9yIGZ1bmN0aW9uIHdoaWNoIGlzIGNhbGxlZCBiZXR3ZWVuIGVhY2ggYXN5bmMgc3RlcCBvZiB0aGUgdXBsb2FkCiAqIHByb2Nlc3MuCiAqIEBwYXJhbSB7c3RyaW5nfSBpbnB1dElkIEVsZW1lbnQgSUQgb2YgdGhlIGlucHV0IGZpbGUgcGlja2VyIGVsZW1lbnQuCiAqIEBwYXJhbSB7c3RyaW5nfSBvdXRwdXRJZCBFbGVtZW50IElEIG9mIHRoZSBvdXRwdXQgZGlzcGxheS4KICogQHJldHVybiB7IUl0ZXJhYmxlPCFPYmplY3Q+fSBJdGVyYWJsZSBvZiBuZXh0IHN0ZXBzLgogKi8KZnVuY3Rpb24qIHVwbG9hZEZpbGVzU3RlcChpbnB1dElkLCBvdXRwdXRJZCkgewogIGNvbnN0IGlucHV0RWxlbWVudCA9IGRvY3VtZW50LmdldEVsZW1lbnRCeUlkKGlucHV0SWQpOwogIGlucHV0RWxlbWVudC5kaXNhYmxlZCA9IGZhbHNlOwoKICBjb25zdCBvdXRwdXRFbGVtZW50ID0gZG9jdW1lbnQuZ2V0RWxlbWVudEJ5SWQob3V0cHV0SWQpOwogIG91dHB1dEVsZW1lbnQuaW5uZXJIVE1MID0gJyc7CgogIGNvbnN0IHBpY2tlZFByb21pc2UgPSBuZXcgUHJvbWlzZSgocmVzb2x2ZSkgPT4gewogICAgaW5wdXRFbGVtZW50LmFkZEV2ZW50TGlzdGVuZXIoJ2NoYW5nZScsIChlKSA9PiB7CiAgICAgIHJlc29sdmUoZS50YXJnZXQuZmlsZXMpOwogICAgfSk7CiAgfSk7CgogIGNvbnN0IGNhbmNlbCA9IGRvY3VtZW50LmNyZWF0ZUVsZW1lbnQoJ2J1dHRvbicpOwogIGlucHV0RWxlbWVudC5wYXJlbnRFbGVtZW50LmFwcGVuZENoaWxkKGNhbmNlbCk7CiAgY2FuY2VsLnRleHRDb250ZW50ID0gJ0NhbmNlbCB1cGxvYWQnOwogIGNvbnN0IGNhbmNlbFByb21pc2UgPSBuZXcgUHJvbWlzZSgocmVzb2x2ZSkgPT4gewogICAgY2FuY2VsLm9uY2xpY2sgPSAoKSA9PiB7CiAgICAgIHJlc29sdmUobnVsbCk7CiAgICB9OwogIH0pOwoKICAvLyBXYWl0IGZvciB0aGUgdXNlciB0byBwaWNrIHRoZSBmaWxlcy4KICBjb25zdCBmaWxlcyA9IHlpZWxkIHsKICAgIHByb21pc2U6IFByb21pc2UucmFjZShbcGlja2VkUHJvbWlzZSwgY2FuY2VsUHJvbWlzZV0pLAogICAgcmVzcG9uc2U6IHsKICAgICAgYWN0aW9uOiAnc3RhcnRpbmcnLAogICAgfQogIH07CgogIGNhbmNlbC5yZW1vdmUoKTsKCiAgLy8gRGlzYWJsZSB0aGUgaW5wdXQgZWxlbWVudCBzaW5jZSBmdXJ0aGVyIHBpY2tzIGFyZSBub3QgYWxsb3dlZC4KICBpbnB1dEVsZW1lbnQuZGlzYWJsZWQgPSB0cnVlOwoKICBpZiAoIWZpbGVzKSB7CiAgICByZXR1cm4gewogICAgICByZXNwb25zZTogewogICAgICAgIGFjdGlvbjogJ2NvbXBsZXRlJywKICAgICAgfQogICAgfTsKICB9CgogIGZvciAoY29uc3QgZmlsZSBvZiBmaWxlcykgewogICAgY29uc3QgbGkgPSBkb2N1bWVudC5jcmVhdGVFbGVtZW50KCdsaScpOwogICAgbGkuYXBwZW5kKHNwYW4oZmlsZS5uYW1lLCB7Zm9udFdlaWdodDogJ2JvbGQnfSkpOwogICAgbGkuYXBwZW5kKHNwYW4oCiAgICAgICAgYCgke2ZpbGUudHlwZSB8fCAnbi9hJ30pIC0gJHtmaWxlLnNpemV9IGJ5dGVzLCBgICsKICAgICAgICBgbGFzdCBtb2RpZmllZDogJHsKICAgICAgICAgICAgZmlsZS5sYXN0TW9kaWZpZWREYXRlID8gZmlsZS5sYXN0TW9kaWZpZWREYXRlLnRvTG9jYWxlRGF0ZVN0cmluZygpIDoKICAgICAgICAgICAgICAgICAgICAgICAgICAgICAgICAgICAgJ24vYSd9IC0gYCkpOwogICAgY29uc3QgcGVyY2VudCA9IHNwYW4oJzAlIGRvbmUnKTsKICAgIGxpLmFwcGVuZENoaWxkKHBlcmNlbnQpOwoKICAgIG91dHB1dEVsZW1lbnQuYXBwZW5kQ2hpbGQobGkpOwoKICAgIGNvbnN0IGZpbGVEYXRhUHJvbWlzZSA9IG5ldyBQcm9taXNlKChyZXNvbHZlKSA9PiB7CiAgICAgIGNvbnN0IHJlYWRlciA9IG5ldyBGaWxlUmVhZGVyKCk7CiAgICAgIHJlYWRlci5vbmxvYWQgPSAoZSkgPT4gewogICAgICAgIHJlc29sdmUoZS50YXJnZXQucmVzdWx0KTsKICAgICAgfTsKICAgICAgcmVhZGVyLnJlYWRBc0FycmF5QnVmZmVyKGZpbGUpOwogICAgfSk7CiAgICAvLyBXYWl0IGZvciB0aGUgZGF0YSB0byBiZSByZWFkeS4KICAgIGxldCBmaWxlRGF0YSA9IHlpZWxkIHsKICAgICAgcHJvbWlzZTogZmlsZURhdGFQcm9taXNlLAogICAgICByZXNwb25zZTogewogICAgICAgIGFjdGlvbjogJ2NvbnRpbnVlJywKICAgICAgfQogICAgfTsKCiAgICAvLyBVc2UgYSBjaHVua2VkIHNlbmRpbmcgdG8gYXZvaWQgbWVzc2FnZSBzaXplIGxpbWl0cy4gU2VlIGIvNjIxMTU2NjAuCiAgICBsZXQgcG9zaXRpb24gPSAwOwogICAgZG8gewogICAgICBjb25zdCBsZW5ndGggPSBNYXRoLm1pbihmaWxlRGF0YS5ieXRlTGVuZ3RoIC0gcG9zaXRpb24sIE1BWF9QQVlMT0FEX1NJWkUpOwogICAgICBjb25zdCBjaHVuayA9IG5ldyBVaW50OEFycmF5KGZpbGVEYXRhLCBwb3NpdGlvbiwgbGVuZ3RoKTsKICAgICAgcG9zaXRpb24gKz0gbGVuZ3RoOwoKICAgICAgY29uc3QgYmFzZTY0ID0gYnRvYShTdHJpbmcuZnJvbUNoYXJDb2RlLmFwcGx5KG51bGwsIGNodW5rKSk7CiAgICAgIHlpZWxkIHsKICAgICAgICByZXNwb25zZTogewogICAgICAgICAgYWN0aW9uOiAnYXBwZW5kJywKICAgICAgICAgIGZpbGU6IGZpbGUubmFtZSwKICAgICAgICAgIGRhdGE6IGJhc2U2NCwKICAgICAgICB9LAogICAgICB9OwoKICAgICAgbGV0IHBlcmNlbnREb25lID0gZmlsZURhdGEuYnl0ZUxlbmd0aCA9PT0gMCA/CiAgICAgICAgICAxMDAgOgogICAgICAgICAgTWF0aC5yb3VuZCgocG9zaXRpb24gLyBmaWxlRGF0YS5ieXRlTGVuZ3RoKSAqIDEwMCk7CiAgICAgIHBlcmNlbnQudGV4dENvbnRlbnQgPSBgJHtwZXJjZW50RG9uZX0lIGRvbmVgOwoKICAgIH0gd2hpbGUgKHBvc2l0aW9uIDwgZmlsZURhdGEuYnl0ZUxlbmd0aCk7CiAgfQoKICAvLyBBbGwgZG9uZS4KICB5aWVsZCB7CiAgICByZXNwb25zZTogewogICAgICBhY3Rpb246ICdjb21wbGV0ZScsCiAgICB9CiAgfTsKfQoKc2NvcGUuZ29vZ2xlID0gc2NvcGUuZ29vZ2xlIHx8IHt9OwpzY29wZS5nb29nbGUuY29sYWIgPSBzY29wZS5nb29nbGUuY29sYWIgfHwge307CnNjb3BlLmdvb2dsZS5jb2xhYi5fZmlsZXMgPSB7CiAgX3VwbG9hZEZpbGVzLAogIF91cGxvYWRGaWxlc0NvbnRpbnVlLAp9Owp9KShzZWxmKTsK",
              "headers": [
                [
                  "content-type",
                  "application/javascript"
                ]
              ],
              "ok": true,
              "status": 200,
              "status_text": ""
            }
          }
        },
        "id": "6n3bZ_YyYy40",
        "outputId": "09a7f8c8-bc98-4e93-8563-c987cd912e1e"
      },
      "outputs": [
        {
          "data": {
            "text/html": [
              "\n",
              "     <input type=\"file\" id=\"files-62e7eeb8-f718-4377-80f7-b84b469b38dc\" name=\"files[]\" multiple disabled\n",
              "        style=\"border:none\" />\n",
              "     <output id=\"result-62e7eeb8-f718-4377-80f7-b84b469b38dc\">\n",
              "      Upload widget is only available when the cell has been executed in the\n",
              "      current browser session. Please rerun this cell to enable.\n",
              "      </output>\n",
              "      <script src=\"/nbextensions/google.colab/files.js\"></script> "
            ],
            "text/plain": [
              "<IPython.core.display.HTML object>"
            ]
          },
          "metadata": {},
          "output_type": "display_data"
        },
        {
          "name": "stdout",
          "output_type": "stream",
          "text": [
            "Saving hcvdat0.csv to hcvdat0 (1).csv\n"
          ]
        }
      ],
      "source": [
        "from google.colab import files\n",
        "uploaded = files.upload()"
      ]
    },
    {
      "cell_type": "code",
      "execution_count": null,
      "metadata": {
        "id": "_1bs6GhyY7FT"
      },
      "outputs": [],
      "source": [
        "df = pd.read_csv(io.BytesIO(uploaded['hcvdat0.csv']))"
      ]
    },
    {
      "cell_type": "code",
      "execution_count": null,
      "metadata": {
        "colab": {
          "base_uri": "https://localhost:8080/",
          "height": 374
        },
        "id": "kbLl7bDWZAXU",
        "outputId": "660884c6-6ead-4768-9236-49700e732bbe"
      },
      "outputs": [
        {
          "data": {
            "text/html": [
              "\n",
              "  <div id=\"df-a8495220-e266-4442-8b7a-7b45c1628b48\">\n",
              "    <div class=\"colab-df-container\">\n",
              "      <div>\n",
              "<style scoped>\n",
              "    .dataframe tbody tr th:only-of-type {\n",
              "        vertical-align: middle;\n",
              "    }\n",
              "\n",
              "    .dataframe tbody tr th {\n",
              "        vertical-align: top;\n",
              "    }\n",
              "\n",
              "    .dataframe thead th {\n",
              "        text-align: right;\n",
              "    }\n",
              "</style>\n",
              "<table border=\"1\" class=\"dataframe\">\n",
              "  <thead>\n",
              "    <tr style=\"text-align: right;\">\n",
              "      <th></th>\n",
              "      <th>Unnamed: 0</th>\n",
              "      <th>Category</th>\n",
              "      <th>Age</th>\n",
              "      <th>Sex</th>\n",
              "      <th>ALB</th>\n",
              "      <th>ALP</th>\n",
              "      <th>ALT</th>\n",
              "      <th>AST</th>\n",
              "      <th>BIL</th>\n",
              "      <th>CHE</th>\n",
              "      <th>CHOL</th>\n",
              "      <th>CREA</th>\n",
              "      <th>GGT</th>\n",
              "      <th>PROT</th>\n",
              "    </tr>\n",
              "  </thead>\n",
              "  <tbody>\n",
              "    <tr>\n",
              "      <th>0</th>\n",
              "      <td>1</td>\n",
              "      <td>0=Blood Donor</td>\n",
              "      <td>32</td>\n",
              "      <td>m</td>\n",
              "      <td>38.5</td>\n",
              "      <td>52.5</td>\n",
              "      <td>7.7</td>\n",
              "      <td>22.1</td>\n",
              "      <td>7.5</td>\n",
              "      <td>6.93</td>\n",
              "      <td>3.23</td>\n",
              "      <td>106.0</td>\n",
              "      <td>12.1</td>\n",
              "      <td>69.0</td>\n",
              "    </tr>\n",
              "    <tr>\n",
              "      <th>1</th>\n",
              "      <td>2</td>\n",
              "      <td>0=Blood Donor</td>\n",
              "      <td>32</td>\n",
              "      <td>m</td>\n",
              "      <td>38.5</td>\n",
              "      <td>70.3</td>\n",
              "      <td>18.0</td>\n",
              "      <td>24.7</td>\n",
              "      <td>3.9</td>\n",
              "      <td>11.17</td>\n",
              "      <td>4.80</td>\n",
              "      <td>74.0</td>\n",
              "      <td>15.6</td>\n",
              "      <td>76.5</td>\n",
              "    </tr>\n",
              "    <tr>\n",
              "      <th>2</th>\n",
              "      <td>3</td>\n",
              "      <td>0=Blood Donor</td>\n",
              "      <td>32</td>\n",
              "      <td>m</td>\n",
              "      <td>46.9</td>\n",
              "      <td>74.7</td>\n",
              "      <td>36.2</td>\n",
              "      <td>52.6</td>\n",
              "      <td>6.1</td>\n",
              "      <td>8.84</td>\n",
              "      <td>5.20</td>\n",
              "      <td>86.0</td>\n",
              "      <td>33.2</td>\n",
              "      <td>79.3</td>\n",
              "    </tr>\n",
              "    <tr>\n",
              "      <th>3</th>\n",
              "      <td>4</td>\n",
              "      <td>0=Blood Donor</td>\n",
              "      <td>32</td>\n",
              "      <td>m</td>\n",
              "      <td>43.2</td>\n",
              "      <td>52.0</td>\n",
              "      <td>30.6</td>\n",
              "      <td>22.6</td>\n",
              "      <td>18.9</td>\n",
              "      <td>7.33</td>\n",
              "      <td>4.74</td>\n",
              "      <td>80.0</td>\n",
              "      <td>33.8</td>\n",
              "      <td>75.7</td>\n",
              "    </tr>\n",
              "    <tr>\n",
              "      <th>4</th>\n",
              "      <td>5</td>\n",
              "      <td>0=Blood Donor</td>\n",
              "      <td>32</td>\n",
              "      <td>m</td>\n",
              "      <td>39.2</td>\n",
              "      <td>74.1</td>\n",
              "      <td>32.6</td>\n",
              "      <td>24.8</td>\n",
              "      <td>9.6</td>\n",
              "      <td>9.15</td>\n",
              "      <td>4.32</td>\n",
              "      <td>76.0</td>\n",
              "      <td>29.9</td>\n",
              "      <td>68.7</td>\n",
              "    </tr>\n",
              "  </tbody>\n",
              "</table>\n",
              "</div>\n",
              "      <button class=\"colab-df-convert\" onclick=\"convertToInteractive('df-a8495220-e266-4442-8b7a-7b45c1628b48')\"\n",
              "              title=\"Convert this dataframe to an interactive table.\"\n",
              "              style=\"display:none;\">\n",
              "        \n",
              "  <svg xmlns=\"http://www.w3.org/2000/svg\" height=\"24px\"viewBox=\"0 0 24 24\"\n",
              "       width=\"24px\">\n",
              "    <path d=\"M0 0h24v24H0V0z\" fill=\"none\"/>\n",
              "    <path d=\"M18.56 5.44l.94 2.06.94-2.06 2.06-.94-2.06-.94-.94-2.06-.94 2.06-2.06.94zm-11 1L8.5 8.5l.94-2.06 2.06-.94-2.06-.94L8.5 2.5l-.94 2.06-2.06.94zm10 10l.94 2.06.94-2.06 2.06-.94-2.06-.94-.94-2.06-.94 2.06-2.06.94z\"/><path d=\"M17.41 7.96l-1.37-1.37c-.4-.4-.92-.59-1.43-.59-.52 0-1.04.2-1.43.59L10.3 9.45l-7.72 7.72c-.78.78-.78 2.05 0 2.83L4 21.41c.39.39.9.59 1.41.59.51 0 1.02-.2 1.41-.59l7.78-7.78 2.81-2.81c.8-.78.8-2.07 0-2.86zM5.41 20L4 18.59l7.72-7.72 1.47 1.35L5.41 20z\"/>\n",
              "  </svg>\n",
              "      </button>\n",
              "      \n",
              "  <style>\n",
              "    .colab-df-container {\n",
              "      display:flex;\n",
              "      flex-wrap:wrap;\n",
              "      gap: 12px;\n",
              "    }\n",
              "\n",
              "    .colab-df-convert {\n",
              "      background-color: #E8F0FE;\n",
              "      border: none;\n",
              "      border-radius: 50%;\n",
              "      cursor: pointer;\n",
              "      display: none;\n",
              "      fill: #1967D2;\n",
              "      height: 32px;\n",
              "      padding: 0 0 0 0;\n",
              "      width: 32px;\n",
              "    }\n",
              "\n",
              "    .colab-df-convert:hover {\n",
              "      background-color: #E2EBFA;\n",
              "      box-shadow: 0px 1px 2px rgba(60, 64, 67, 0.3), 0px 1px 3px 1px rgba(60, 64, 67, 0.15);\n",
              "      fill: #174EA6;\n",
              "    }\n",
              "\n",
              "    [theme=dark] .colab-df-convert {\n",
              "      background-color: #3B4455;\n",
              "      fill: #D2E3FC;\n",
              "    }\n",
              "\n",
              "    [theme=dark] .colab-df-convert:hover {\n",
              "      background-color: #434B5C;\n",
              "      box-shadow: 0px 1px 3px 1px rgba(0, 0, 0, 0.15);\n",
              "      filter: drop-shadow(0px 1px 2px rgba(0, 0, 0, 0.3));\n",
              "      fill: #FFFFFF;\n",
              "    }\n",
              "  </style>\n",
              "\n",
              "      <script>\n",
              "        const buttonEl =\n",
              "          document.querySelector('#df-a8495220-e266-4442-8b7a-7b45c1628b48 button.colab-df-convert');\n",
              "        buttonEl.style.display =\n",
              "          google.colab.kernel.accessAllowed ? 'block' : 'none';\n",
              "\n",
              "        async function convertToInteractive(key) {\n",
              "          const element = document.querySelector('#df-a8495220-e266-4442-8b7a-7b45c1628b48');\n",
              "          const dataTable =\n",
              "            await google.colab.kernel.invokeFunction('convertToInteractive',\n",
              "                                                     [key], {});\n",
              "          if (!dataTable) return;\n",
              "\n",
              "          const docLinkHtml = 'Like what you see? Visit the ' +\n",
              "            '<a target=\"_blank\" href=https://colab.research.google.com/notebooks/data_table.ipynb>data table notebook</a>'\n",
              "            + ' to learn more about interactive tables.';\n",
              "          element.innerHTML = '';\n",
              "          dataTable['output_type'] = 'display_data';\n",
              "          await google.colab.output.renderOutput(dataTable, element);\n",
              "          const docLink = document.createElement('div');\n",
              "          docLink.innerHTML = docLinkHtml;\n",
              "          element.appendChild(docLink);\n",
              "        }\n",
              "      </script>\n",
              "    </div>\n",
              "  </div>\n",
              "  "
            ],
            "text/plain": [
              "   Unnamed: 0       Category  Age Sex   ALB   ALP   ALT   AST   BIL    CHE  \\\n",
              "0           1  0=Blood Donor   32   m  38.5  52.5   7.7  22.1   7.5   6.93   \n",
              "1           2  0=Blood Donor   32   m  38.5  70.3  18.0  24.7   3.9  11.17   \n",
              "2           3  0=Blood Donor   32   m  46.9  74.7  36.2  52.6   6.1   8.84   \n",
              "3           4  0=Blood Donor   32   m  43.2  52.0  30.6  22.6  18.9   7.33   \n",
              "4           5  0=Blood Donor   32   m  39.2  74.1  32.6  24.8   9.6   9.15   \n",
              "\n",
              "   CHOL   CREA   GGT  PROT  \n",
              "0  3.23  106.0  12.1  69.0  \n",
              "1  4.80   74.0  15.6  76.5  \n",
              "2  5.20   86.0  33.2  79.3  \n",
              "3  4.74   80.0  33.8  75.7  \n",
              "4  4.32   76.0  29.9  68.7  "
            ]
          },
          "execution_count": 105,
          "metadata": {},
          "output_type": "execute_result"
        }
      ],
      "source": [
        "df.head()"
      ]
    },
    {
      "cell_type": "code",
      "execution_count": null,
      "metadata": {
        "colab": {
          "base_uri": "https://localhost:8080/"
        },
        "id": "U8zH5Tqka0s1",
        "outputId": "272c5474-1769-4f58-86e4-643960338025"
      },
      "outputs": [
        {
          "data": {
            "text/plain": [
              "array(['0=Blood Donor', '0s=suspect Blood Donor', '1=Hepatitis',\n",
              "       '2=Fibrosis', '3=Cirrhosis'], dtype=object)"
            ]
          },
          "execution_count": 156,
          "metadata": {},
          "output_type": "execute_result"
        }
      ],
      "source": [
        "df['Category'].unique()"
      ]
    },
    {
      "cell_type": "code",
      "execution_count": null,
      "metadata": {
        "colab": {
          "base_uri": "https://localhost:8080/"
        },
        "id": "c6go-qg8pDkp",
        "outputId": "a97a3ef9-739f-46a2-e4f4-509934dc365b"
      },
      "outputs": [
        {
          "name": "stdout",
          "output_type": "stream",
          "text": [
            "     Unnamed: 0  Category    Age    Sex    ALB    ALP    ALT    AST    BIL  \\\n",
            "0         False     False  False  False  False  False  False  False  False   \n",
            "1         False     False  False  False  False  False  False  False  False   \n",
            "2         False     False  False  False  False  False  False  False  False   \n",
            "3         False     False  False  False  False  False  False  False  False   \n",
            "4         False     False  False  False  False  False  False  False  False   \n",
            "..          ...       ...    ...    ...    ...    ...    ...    ...    ...   \n",
            "608       False     False  False  False  False  False  False  False  False   \n",
            "609       False     False  False  False  False  False  False  False  False   \n",
            "610       False     False  False  False  False  False  False  False  False   \n",
            "611       False     False  False  False  False  False  False  False  False   \n",
            "612       False     False  False  False  False  False  False  False  False   \n",
            "\n",
            "       CHE   CHOL   CREA    GGT   PROT  \n",
            "0    False  False  False  False  False  \n",
            "1    False  False  False  False  False  \n",
            "2    False  False  False  False  False  \n",
            "3    False  False  False  False  False  \n",
            "4    False  False  False  False  False  \n",
            "..     ...    ...    ...    ...    ...  \n",
            "608  False  False  False  False  False  \n",
            "609  False  False  False  False  False  \n",
            "610  False  False  False  False  False  \n",
            "611  False  False  False  False  False  \n",
            "612  False  False  False  False  False  \n",
            "\n",
            "[589 rows x 14 columns]\n"
          ]
        }
      ],
      "source": [
        "ds = df.isin([np.inf, -np.inf])\n",
        "print(ds)"
      ]
    },
    {
      "cell_type": "code",
      "execution_count": null,
      "metadata": {
        "colab": {
          "base_uri": "https://localhost:8080/"
        },
        "id": "ynrdabWOqiqQ",
        "outputId": "581e708f-b2de-44ad-e32a-4b71ad8751a3"
      },
      "outputs": [
        {
          "name": "stdout",
          "output_type": "stream",
          "text": [
            "     Unnamed: 0       Category  Age Sex   ALB    ALP    ALT    AST    BIL  \\\n",
            "121         122  0=Blood Donor   43   m  48.6   45.0   10.5   40.5    5.3   \n",
            "319         320  0=Blood Donor   32   f  47.4   52.5   19.1   17.1    4.6   \n",
            "329         330  0=Blood Donor   33   f  42.4  137.2   14.2   13.1    3.4   \n",
            "413         414  0=Blood Donor   46   f  42.9   55.1   15.2   29.8    3.6   \n",
            "424         425  0=Blood Donor   48   f  45.6  107.2   24.4   39.0   13.8   \n",
            "433         434  0=Blood Donor   48   f  46.8   93.3   10.0   23.2    4.3   \n",
            "498         499  0=Blood Donor   57   f  48.4   94.4    2.5   39.6    2.3   \n",
            "540         541    1=Hepatitis   38   m  45.0   56.3    NaN   33.1    7.0   \n",
            "541         542    1=Hepatitis   19   m  41.0    NaN   87.0   67.0   12.0   \n",
            "545         546    1=Hepatitis   29   m  49.0    NaN   53.0   39.0   15.0   \n",
            "546         547    1=Hepatitis   30   m  45.0    NaN   66.0   45.0   14.0   \n",
            "568         569     2=Fibrosis   49   m  39.0    NaN  118.0   62.0   10.0   \n",
            "569         570     2=Fibrosis   49   m  46.0    NaN  114.0   75.0   16.0   \n",
            "570         571     2=Fibrosis   50   m  42.0    NaN  258.0  106.0   15.0   \n",
            "571         572     2=Fibrosis   53   m  46.0    NaN   34.0   43.0   14.0   \n",
            "576         577     2=Fibrosis   71   m  37.0    NaN  130.0   90.0   15.0   \n",
            "581         582     2=Fibrosis   49   f  39.0    NaN   46.0   39.0    9.0   \n",
            "582         583     2=Fibrosis   51   f  37.0    NaN  164.0   70.0    9.0   \n",
            "583         584     2=Fibrosis   56   f  39.0    NaN   42.0   34.0   10.0   \n",
            "584         585     2=Fibrosis   75   f  36.0    NaN  114.0  125.0   14.0   \n",
            "585         586    3=Cirrhosis   38   m  44.0    NaN   94.0   60.0   12.0   \n",
            "590         591    3=Cirrhosis   46   m  20.0    NaN   62.0  113.0  254.0   \n",
            "592         593    3=Cirrhosis   47   m  42.0    NaN  159.0  102.0   11.0   \n",
            "603         604    3=Cirrhosis   65   m   NaN    NaN   40.0   54.0   13.0   \n",
            "613         614    3=Cirrhosis   46   f  33.0    NaN   39.0   62.0   20.0   \n",
            "614         615    3=Cirrhosis   59   f  36.0    NaN  100.0   80.0   12.0   \n",
            "\n",
            "       CHE  CHOL   CREA    GGT  PROT  \n",
            "121   7.09   NaN   63.0   25.1  70.0  \n",
            "319  10.19   NaN   63.0   23.0  72.2  \n",
            "329   8.23   NaN   48.0   25.7  74.4  \n",
            "413   8.37   NaN   61.0   29.0  71.9  \n",
            "424   9.77   NaN   88.0   38.0  75.1  \n",
            "433  12.41   NaN   52.0   23.9  72.4  \n",
            "498   8.84   NaN   82.0    6.4  76.8  \n",
            "540   9.58   6.0   77.9   18.9  63.0  \n",
            "541   7.55   3.9   62.0   65.0  75.0  \n",
            "545   8.79   3.6   79.0   37.0  90.0  \n",
            "546  12.16   6.1   86.0   43.0  77.0  \n",
            "568   7.28   3.5   72.0   74.0  81.0  \n",
            "569  10.43   5.2   72.0   59.0  82.0  \n",
            "570   8.74   4.7   77.0   80.0  84.0  \n",
            "571   8.77   4.0  112.0  203.0  76.0  \n",
            "576   9.92   4.7   79.0   77.0  76.0  \n",
            "581  10.21   3.1   89.0   53.0  79.0  \n",
            "582   3.99   4.2   67.0   43.0  72.0  \n",
            "583   7.75   5.0   80.0   84.0  78.0  \n",
            "584   6.65   NaN   57.0  177.0  72.0  \n",
            "585   4.37   3.2   61.0   99.0  77.0  \n",
            "590   1.48   NaN  114.0  138.0   NaN  \n",
            "592   6.29   5.5   58.0  201.0  79.0  \n",
            "603   7.50   NaN   70.0  107.0  79.0  \n",
            "613   3.56   4.2   52.0   50.0  71.0  \n",
            "614   9.07   5.3   67.0   34.0  68.0  \n"
          ]
        }
      ],
      "source": [
        "#Melihat row apa saja yang memiliki nilai NaN\n",
        "is_NaN = df.isnull()\n",
        "row_has_NaN = is_NaN.any(axis=1)\n",
        "rows_with_NaN = df[row_has_NaN]\n",
        "print(rows_with_NaN)"
      ]
    },
    {
      "cell_type": "markdown",
      "metadata": {
        "id": "QR82UC8VrKFK"
      },
      "source": [
        "Karena kurangnya pengetahuan akan hasil tes darah untuk Hepatitis dan bagaimana pemrosesan nilai NaN di domainnya, maka kita akan drop saja."
      ]
    },
    {
      "cell_type": "code",
      "execution_count": null,
      "metadata": {
        "id": "8LUisNCfofai"
      },
      "outputs": [],
      "source": [
        "df = df.dropna()"
      ]
    },
    {
      "cell_type": "markdown",
      "metadata": {
        "id": "9aoJhn13YUtj"
      },
      "source": [
        "# Splitting Data"
      ]
    },
    {
      "cell_type": "markdown",
      "source": [
        "# MLP Classifier SKLearn"
      ],
      "metadata": {
        "id": "VxC7HC6DwgLT"
      }
    },
    {
      "cell_type": "code",
      "execution_count": null,
      "metadata": {
        "id": "D7mnmet9bV43"
      },
      "outputs": [],
      "source": [
        "from sklearn.model_selection import train_test_split"
      ]
    },
    {
      "cell_type": "code",
      "execution_count": null,
      "metadata": {
        "colab": {
          "base_uri": "https://localhost:8080/"
        },
        "id": "kS-mdgZobzo-",
        "outputId": "6e655528-a31d-4437-8785-bc37f66bc9ce"
      },
      "outputs": [
        {
          "name": "stdout",
          "output_type": "stream",
          "text": [
            "['0=Blood Donor' '0s=suspect Blood Donor' '1=Hepatitis' '2=Fibrosis'\n",
            " '3=Cirrhosis']\n"
          ]
        }
      ],
      "source": [
        "y = df['Category']\n",
        "\n",
        "y_unique_array = y.unique()\n",
        "print(y_unique_array)"
      ]
    },
    {
      "cell_type": "code",
      "execution_count": null,
      "metadata": {
        "colab": {
          "base_uri": "https://localhost:8080/"
        },
        "id": "3mi7_WbWev9e",
        "outputId": "38bbe103-f54e-4f66-af43-0a0192bbbe62"
      },
      "outputs": [
        {
          "name": "stdout",
          "output_type": "stream",
          "text": [
            "(589,)\n"
          ]
        }
      ],
      "source": [
        "print(y.shape)"
      ]
    },
    {
      "cell_type": "markdown",
      "metadata": {
        "id": "O3-y9Wf5dZJ_"
      },
      "source": [
        "Setelah melihat gambar di atas, dapat dilihat bahwa y merupakan kolom/data yang bersifat kategorikal, dan bukan numerik. Maka dari itu, perlu diubah menjadi float agar y dapat diproses dalam model ANN, khususnya model MLP, karena model MLP hanya menerima tipe data float. Sementara itu, untuk tipe-tipe data yang direpresentasikan oleh kolom 'Category' akan diencode menggunakan One Hot Encoding"
      ]
    },
    {
      "cell_type": "code",
      "execution_count": null,
      "metadata": {
        "colab": {
          "base_uri": "https://localhost:8080/"
        },
        "id": "zhh4GS9ghIcY",
        "outputId": "08a0fca4-c392-40e2-fbf1-d0ba27195368"
      },
      "outputs": [
        {
          "name": "stdout",
          "output_type": "stream",
          "text": [
            "     Unnamed: 0       Category  Age Sex   ALB    ALP   ALT    AST   BIL  \\\n",
            "0             1  0=Blood Donor   32   m  38.5   52.5   7.7   22.1   7.5   \n",
            "1             2  0=Blood Donor   32   m  38.5   70.3  18.0   24.7   3.9   \n",
            "2             3  0=Blood Donor   32   m  46.9   74.7  36.2   52.6   6.1   \n",
            "3             4  0=Blood Donor   32   m  43.2   52.0  30.6   22.6  18.9   \n",
            "4             5  0=Blood Donor   32   m  39.2   74.1  32.6   24.8   9.6   \n",
            "..          ...            ...  ...  ..   ...    ...   ...    ...   ...   \n",
            "608         609    3=Cirrhosis   58   f  34.0   46.4  15.0  150.0   8.0   \n",
            "609         610    3=Cirrhosis   59   f  39.0   51.3  19.6  285.8  40.0   \n",
            "610         611    3=Cirrhosis   62   f  32.0  416.6   5.9  110.3  50.0   \n",
            "611         612    3=Cirrhosis   64   f  24.0  102.8   2.9   44.4  20.0   \n",
            "612         613    3=Cirrhosis   64   f  29.0   87.3   3.5   99.0  48.0   \n",
            "\n",
            "       CHE  CHOL   CREA    GGT  PROT    0    1    2    3    4  \n",
            "0     6.93  3.23  106.0   12.1  69.0  1.0  0.0  0.0  0.0  0.0  \n",
            "1    11.17  4.80   74.0   15.6  76.5  1.0  0.0  0.0  0.0  0.0  \n",
            "2     8.84  5.20   86.0   33.2  79.3  1.0  0.0  0.0  0.0  0.0  \n",
            "3     7.33  4.74   80.0   33.8  75.7  1.0  0.0  0.0  0.0  0.0  \n",
            "4     9.15  4.32   76.0   29.9  68.7  1.0  0.0  0.0  0.0  0.0  \n",
            "..     ...   ...    ...    ...   ...  ...  ...  ...  ...  ...  \n",
            "608   6.26  3.98   56.0   49.7  80.6  NaN  NaN  NaN  NaN  NaN  \n",
            "609   5.77  4.51  136.1  101.1  70.5  NaN  NaN  NaN  NaN  NaN  \n",
            "610   5.57  6.30   55.7  650.9  68.5  NaN  NaN  NaN  NaN  NaN  \n",
            "611   1.54  3.02   63.0   35.9  71.3  NaN  NaN  NaN  NaN  NaN  \n",
            "612   1.66  3.63   66.7   64.2  82.0  NaN  NaN  NaN  NaN  NaN  \n",
            "\n",
            "[589 rows x 19 columns]\n"
          ]
        }
      ],
      "source": [
        "from sklearn.preprocessing import OneHotEncoder\n",
        "\n",
        "encoder = OneHotEncoder(handle_unknown='ignore')\n",
        "\n",
        "encoder_df = pd.DataFrame(encoder.fit_transform(df[['Category']]).toarray())\n",
        "\n",
        "data = df.join(encoder_df)\n",
        "print(data)"
      ]
    },
    {
      "cell_type": "markdown",
      "metadata": {
        "id": "6HjhA9gkskQZ"
      },
      "source": [
        "Entah kenapa One Hot Encoder disini menghasilkan encoding yang tidak seharusnya. Ada sekitar 21 row yang tidak terkena encoding oleh One Hot Encoder disini."
      ]
    },
    {
      "cell_type": "code",
      "execution_count": null,
      "metadata": {
        "colab": {
          "base_uri": "https://localhost:8080/"
        },
        "id": "XSLErYT_rf_H",
        "outputId": "9e43db26-2adc-47ad-abf1-356ec9b1ba9f"
      },
      "outputs": [
        {
          "name": "stdout",
          "output_type": "stream",
          "text": [
            "3=Cirrhosis    21\n",
            "Name: Category, dtype: int64\n"
          ]
        }
      ],
      "source": [
        "#Melihat row apa saja yang memiliki nilai NaN\n",
        "is_NaN = data.isnull()\n",
        "row_has_NaN = is_NaN.any(axis=1)\n",
        "rows_with_NaN = data[row_has_NaN]\n",
        "print(rows_with_NaN['Category'].value_counts())"
      ]
    },
    {
      "cell_type": "code",
      "execution_count": null,
      "metadata": {
        "colab": {
          "base_uri": "https://localhost:8080/"
        },
        "id": "9iIw_rADsAZy",
        "outputId": "1ee8de4b-0db9-4df2-8ecf-aebc5a2d0afc"
      },
      "outputs": [
        {
          "data": {
            "text/plain": [
              "0=Blood Donor             526\n",
              "3=Cirrhosis                24\n",
              "1=Hepatitis                20\n",
              "2=Fibrosis                 12\n",
              "0s=suspect Blood Donor      7\n",
              "Name: Category, dtype: int64"
            ]
          },
          "execution_count": 180,
          "metadata": {},
          "output_type": "execute_result"
        }
      ],
      "source": [
        "data['Category'].value_counts()"
      ]
    },
    {
      "cell_type": "code",
      "execution_count": null,
      "metadata": {
        "colab": {
          "base_uri": "https://localhost:8080/"
        },
        "id": "gsfQfgA9sG5h",
        "outputId": "f1f4b791-5105-4f3f-b263-b5791e794192"
      },
      "outputs": [
        {
          "data": {
            "text/plain": [
              "0.0    554\n",
              "1.0     14\n",
              "Name: 4, dtype: int64"
            ]
          },
          "execution_count": 183,
          "metadata": {},
          "output_type": "execute_result"
        }
      ],
      "source": [
        "data[4].value_counts()"
      ]
    },
    {
      "cell_type": "code",
      "execution_count": null,
      "metadata": {
        "colab": {
          "base_uri": "https://localhost:8080/",
          "height": 570
        },
        "id": "iMXsOOPzsuVY",
        "outputId": "14465fe2-a1da-4eb3-c057-644f1ec146e2"
      },
      "outputs": [
        {
          "data": {
            "text/html": [
              "\n",
              "  <div id=\"df-7bb2bac3-1fe0-439f-9bea-c17c83d60ee5\">\n",
              "    <div class=\"colab-df-container\">\n",
              "      <div>\n",
              "<style scoped>\n",
              "    .dataframe tbody tr th:only-of-type {\n",
              "        vertical-align: middle;\n",
              "    }\n",
              "\n",
              "    .dataframe tbody tr th {\n",
              "        vertical-align: top;\n",
              "    }\n",
              "\n",
              "    .dataframe thead th {\n",
              "        text-align: right;\n",
              "    }\n",
              "</style>\n",
              "<table border=\"1\" class=\"dataframe\">\n",
              "  <thead>\n",
              "    <tr style=\"text-align: right;\">\n",
              "      <th></th>\n",
              "      <th>Unnamed: 0</th>\n",
              "      <th>Category</th>\n",
              "      <th>Age</th>\n",
              "      <th>Sex</th>\n",
              "      <th>ALB</th>\n",
              "      <th>ALP</th>\n",
              "      <th>ALT</th>\n",
              "      <th>AST</th>\n",
              "      <th>BIL</th>\n",
              "      <th>CHE</th>\n",
              "      <th>CHOL</th>\n",
              "      <th>CREA</th>\n",
              "      <th>GGT</th>\n",
              "      <th>PROT</th>\n",
              "      <th>0</th>\n",
              "      <th>1</th>\n",
              "      <th>2</th>\n",
              "      <th>3</th>\n",
              "      <th>4</th>\n",
              "    </tr>\n",
              "  </thead>\n",
              "  <tbody>\n",
              "    <tr>\n",
              "      <th>565</th>\n",
              "      <td>566</td>\n",
              "      <td>2=Fibrosis</td>\n",
              "      <td>40</td>\n",
              "      <td>m</td>\n",
              "      <td>39.0</td>\n",
              "      <td>43.1</td>\n",
              "      <td>23.8</td>\n",
              "      <td>114.7</td>\n",
              "      <td>11.0</td>\n",
              "      <td>9.64</td>\n",
              "      <td>4.20</td>\n",
              "      <td>70.9</td>\n",
              "      <td>127.3</td>\n",
              "      <td>81.3</td>\n",
              "      <td>0.0</td>\n",
              "      <td>0.0</td>\n",
              "      <td>0.0</td>\n",
              "      <td>0.0</td>\n",
              "      <td>1.0</td>\n",
              "    </tr>\n",
              "    <tr>\n",
              "      <th>566</th>\n",
              "      <td>567</td>\n",
              "      <td>2=Fibrosis</td>\n",
              "      <td>46</td>\n",
              "      <td>m</td>\n",
              "      <td>45.0</td>\n",
              "      <td>26.9</td>\n",
              "      <td>23.1</td>\n",
              "      <td>125.0</td>\n",
              "      <td>17.0</td>\n",
              "      <td>6.97</td>\n",
              "      <td>4.01</td>\n",
              "      <td>60.5</td>\n",
              "      <td>72.2</td>\n",
              "      <td>73.0</td>\n",
              "      <td>0.0</td>\n",
              "      <td>0.0</td>\n",
              "      <td>0.0</td>\n",
              "      <td>0.0</td>\n",
              "      <td>1.0</td>\n",
              "    </tr>\n",
              "    <tr>\n",
              "      <th>567</th>\n",
              "      <td>568</td>\n",
              "      <td>2=Fibrosis</td>\n",
              "      <td>48</td>\n",
              "      <td>m</td>\n",
              "      <td>49.0</td>\n",
              "      <td>45.2</td>\n",
              "      <td>19.3</td>\n",
              "      <td>69.1</td>\n",
              "      <td>30.0</td>\n",
              "      <td>7.76</td>\n",
              "      <td>4.22</td>\n",
              "      <td>76.7</td>\n",
              "      <td>28.4</td>\n",
              "      <td>72.3</td>\n",
              "      <td>0.0</td>\n",
              "      <td>0.0</td>\n",
              "      <td>0.0</td>\n",
              "      <td>0.0</td>\n",
              "      <td>1.0</td>\n",
              "    </tr>\n",
              "    <tr>\n",
              "      <th>572</th>\n",
              "      <td>573</td>\n",
              "      <td>2=Fibrosis</td>\n",
              "      <td>54</td>\n",
              "      <td>m</td>\n",
              "      <td>41.0</td>\n",
              "      <td>41.8</td>\n",
              "      <td>41.5</td>\n",
              "      <td>187.9</td>\n",
              "      <td>21.0</td>\n",
              "      <td>8.59</td>\n",
              "      <td>5.85</td>\n",
              "      <td>91.0</td>\n",
              "      <td>104.9</td>\n",
              "      <td>79.1</td>\n",
              "      <td>0.0</td>\n",
              "      <td>0.0</td>\n",
              "      <td>0.0</td>\n",
              "      <td>0.0</td>\n",
              "      <td>1.0</td>\n",
              "    </tr>\n",
              "    <tr>\n",
              "      <th>573</th>\n",
              "      <td>574</td>\n",
              "      <td>2=Fibrosis</td>\n",
              "      <td>57</td>\n",
              "      <td>m</td>\n",
              "      <td>47.0</td>\n",
              "      <td>29.7</td>\n",
              "      <td>10.2</td>\n",
              "      <td>55.9</td>\n",
              "      <td>12.0</td>\n",
              "      <td>6.60</td>\n",
              "      <td>4.64</td>\n",
              "      <td>70.9</td>\n",
              "      <td>69.6</td>\n",
              "      <td>80.9</td>\n",
              "      <td>0.0</td>\n",
              "      <td>0.0</td>\n",
              "      <td>0.0</td>\n",
              "      <td>0.0</td>\n",
              "      <td>1.0</td>\n",
              "    </tr>\n",
              "    <tr>\n",
              "      <th>574</th>\n",
              "      <td>575</td>\n",
              "      <td>2=Fibrosis</td>\n",
              "      <td>59</td>\n",
              "      <td>m</td>\n",
              "      <td>44.0</td>\n",
              "      <td>34.5</td>\n",
              "      <td>8.9</td>\n",
              "      <td>74.5</td>\n",
              "      <td>6.0</td>\n",
              "      <td>9.45</td>\n",
              "      <td>4.45</td>\n",
              "      <td>65.0</td>\n",
              "      <td>95.3</td>\n",
              "      <td>69.7</td>\n",
              "      <td>0.0</td>\n",
              "      <td>0.0</td>\n",
              "      <td>0.0</td>\n",
              "      <td>0.0</td>\n",
              "      <td>1.0</td>\n",
              "    </tr>\n",
              "    <tr>\n",
              "      <th>575</th>\n",
              "      <td>576</td>\n",
              "      <td>2=Fibrosis</td>\n",
              "      <td>64</td>\n",
              "      <td>m</td>\n",
              "      <td>38.0</td>\n",
              "      <td>35.7</td>\n",
              "      <td>7.1</td>\n",
              "      <td>41.3</td>\n",
              "      <td>13.0</td>\n",
              "      <td>7.10</td>\n",
              "      <td>4.52</td>\n",
              "      <td>70.0</td>\n",
              "      <td>53.0</td>\n",
              "      <td>66.8</td>\n",
              "      <td>0.0</td>\n",
              "      <td>0.0</td>\n",
              "      <td>0.0</td>\n",
              "      <td>0.0</td>\n",
              "      <td>1.0</td>\n",
              "    </tr>\n",
              "    <tr>\n",
              "      <th>577</th>\n",
              "      <td>578</td>\n",
              "      <td>2=Fibrosis</td>\n",
              "      <td>36</td>\n",
              "      <td>f</td>\n",
              "      <td>46.0</td>\n",
              "      <td>39.3</td>\n",
              "      <td>67.1</td>\n",
              "      <td>161.9</td>\n",
              "      <td>13.0</td>\n",
              "      <td>9.24</td>\n",
              "      <td>4.81</td>\n",
              "      <td>65.3</td>\n",
              "      <td>60.0</td>\n",
              "      <td>73.9</td>\n",
              "      <td>0.0</td>\n",
              "      <td>0.0</td>\n",
              "      <td>0.0</td>\n",
              "      <td>0.0</td>\n",
              "      <td>1.0</td>\n",
              "    </tr>\n",
              "    <tr>\n",
              "      <th>578</th>\n",
              "      <td>579</td>\n",
              "      <td>2=Fibrosis</td>\n",
              "      <td>38</td>\n",
              "      <td>f</td>\n",
              "      <td>40.0</td>\n",
              "      <td>39.8</td>\n",
              "      <td>14.9</td>\n",
              "      <td>68.9</td>\n",
              "      <td>11.0</td>\n",
              "      <td>8.55</td>\n",
              "      <td>4.31</td>\n",
              "      <td>60.5</td>\n",
              "      <td>40.1</td>\n",
              "      <td>76.5</td>\n",
              "      <td>0.0</td>\n",
              "      <td>0.0</td>\n",
              "      <td>0.0</td>\n",
              "      <td>0.0</td>\n",
              "      <td>1.0</td>\n",
              "    </tr>\n",
              "    <tr>\n",
              "      <th>579</th>\n",
              "      <td>580</td>\n",
              "      <td>2=Fibrosis</td>\n",
              "      <td>57</td>\n",
              "      <td>f</td>\n",
              "      <td>43.0</td>\n",
              "      <td>52.1</td>\n",
              "      <td>8.3</td>\n",
              "      <td>35.8</td>\n",
              "      <td>18.0</td>\n",
              "      <td>8.61</td>\n",
              "      <td>6.19</td>\n",
              "      <td>71.4</td>\n",
              "      <td>27.9</td>\n",
              "      <td>82.0</td>\n",
              "      <td>0.0</td>\n",
              "      <td>0.0</td>\n",
              "      <td>0.0</td>\n",
              "      <td>0.0</td>\n",
              "      <td>1.0</td>\n",
              "    </tr>\n",
              "    <tr>\n",
              "      <th>580</th>\n",
              "      <td>581</td>\n",
              "      <td>2=Fibrosis</td>\n",
              "      <td>68</td>\n",
              "      <td>f</td>\n",
              "      <td>43.0</td>\n",
              "      <td>22.9</td>\n",
              "      <td>5.0</td>\n",
              "      <td>42.1</td>\n",
              "      <td>12.0</td>\n",
              "      <td>7.29</td>\n",
              "      <td>4.89</td>\n",
              "      <td>80.9</td>\n",
              "      <td>11.9</td>\n",
              "      <td>76.1</td>\n",
              "      <td>0.0</td>\n",
              "      <td>0.0</td>\n",
              "      <td>0.0</td>\n",
              "      <td>0.0</td>\n",
              "      <td>1.0</td>\n",
              "    </tr>\n",
              "    <tr>\n",
              "      <th>586</th>\n",
              "      <td>587</td>\n",
              "      <td>3=Cirrhosis</td>\n",
              "      <td>39</td>\n",
              "      <td>m</td>\n",
              "      <td>34.0</td>\n",
              "      <td>137.8</td>\n",
              "      <td>4.8</td>\n",
              "      <td>35.6</td>\n",
              "      <td>9.0</td>\n",
              "      <td>3.65</td>\n",
              "      <td>4.82</td>\n",
              "      <td>519.0</td>\n",
              "      <td>133.4</td>\n",
              "      <td>57.5</td>\n",
              "      <td>0.0</td>\n",
              "      <td>0.0</td>\n",
              "      <td>0.0</td>\n",
              "      <td>0.0</td>\n",
              "      <td>1.0</td>\n",
              "    </tr>\n",
              "    <tr>\n",
              "      <th>587</th>\n",
              "      <td>588</td>\n",
              "      <td>3=Cirrhosis</td>\n",
              "      <td>41</td>\n",
              "      <td>m</td>\n",
              "      <td>31.0</td>\n",
              "      <td>85.3</td>\n",
              "      <td>4.8</td>\n",
              "      <td>60.2</td>\n",
              "      <td>200.0</td>\n",
              "      <td>1.80</td>\n",
              "      <td>5.34</td>\n",
              "      <td>106.4</td>\n",
              "      <td>151.0</td>\n",
              "      <td>71.8</td>\n",
              "      <td>0.0</td>\n",
              "      <td>0.0</td>\n",
              "      <td>0.0</td>\n",
              "      <td>0.0</td>\n",
              "      <td>1.0</td>\n",
              "    </tr>\n",
              "    <tr>\n",
              "      <th>588</th>\n",
              "      <td>589</td>\n",
              "      <td>3=Cirrhosis</td>\n",
              "      <td>42</td>\n",
              "      <td>m</td>\n",
              "      <td>36.0</td>\n",
              "      <td>69.6</td>\n",
              "      <td>14.9</td>\n",
              "      <td>263.1</td>\n",
              "      <td>40.0</td>\n",
              "      <td>3.61</td>\n",
              "      <td>3.93</td>\n",
              "      <td>49.6</td>\n",
              "      <td>61.0</td>\n",
              "      <td>68.6</td>\n",
              "      <td>0.0</td>\n",
              "      <td>0.0</td>\n",
              "      <td>0.0</td>\n",
              "      <td>0.0</td>\n",
              "      <td>1.0</td>\n",
              "    </tr>\n",
              "  </tbody>\n",
              "</table>\n",
              "</div>\n",
              "      <button class=\"colab-df-convert\" onclick=\"convertToInteractive('df-7bb2bac3-1fe0-439f-9bea-c17c83d60ee5')\"\n",
              "              title=\"Convert this dataframe to an interactive table.\"\n",
              "              style=\"display:none;\">\n",
              "        \n",
              "  <svg xmlns=\"http://www.w3.org/2000/svg\" height=\"24px\"viewBox=\"0 0 24 24\"\n",
              "       width=\"24px\">\n",
              "    <path d=\"M0 0h24v24H0V0z\" fill=\"none\"/>\n",
              "    <path d=\"M18.56 5.44l.94 2.06.94-2.06 2.06-.94-2.06-.94-.94-2.06-.94 2.06-2.06.94zm-11 1L8.5 8.5l.94-2.06 2.06-.94-2.06-.94L8.5 2.5l-.94 2.06-2.06.94zm10 10l.94 2.06.94-2.06 2.06-.94-2.06-.94-.94-2.06-.94 2.06-2.06.94z\"/><path d=\"M17.41 7.96l-1.37-1.37c-.4-.4-.92-.59-1.43-.59-.52 0-1.04.2-1.43.59L10.3 9.45l-7.72 7.72c-.78.78-.78 2.05 0 2.83L4 21.41c.39.39.9.59 1.41.59.51 0 1.02-.2 1.41-.59l7.78-7.78 2.81-2.81c.8-.78.8-2.07 0-2.86zM5.41 20L4 18.59l7.72-7.72 1.47 1.35L5.41 20z\"/>\n",
              "  </svg>\n",
              "      </button>\n",
              "      \n",
              "  <style>\n",
              "    .colab-df-container {\n",
              "      display:flex;\n",
              "      flex-wrap:wrap;\n",
              "      gap: 12px;\n",
              "    }\n",
              "\n",
              "    .colab-df-convert {\n",
              "      background-color: #E8F0FE;\n",
              "      border: none;\n",
              "      border-radius: 50%;\n",
              "      cursor: pointer;\n",
              "      display: none;\n",
              "      fill: #1967D2;\n",
              "      height: 32px;\n",
              "      padding: 0 0 0 0;\n",
              "      width: 32px;\n",
              "    }\n",
              "\n",
              "    .colab-df-convert:hover {\n",
              "      background-color: #E2EBFA;\n",
              "      box-shadow: 0px 1px 2px rgba(60, 64, 67, 0.3), 0px 1px 3px 1px rgba(60, 64, 67, 0.15);\n",
              "      fill: #174EA6;\n",
              "    }\n",
              "\n",
              "    [theme=dark] .colab-df-convert {\n",
              "      background-color: #3B4455;\n",
              "      fill: #D2E3FC;\n",
              "    }\n",
              "\n",
              "    [theme=dark] .colab-df-convert:hover {\n",
              "      background-color: #434B5C;\n",
              "      box-shadow: 0px 1px 3px 1px rgba(0, 0, 0, 0.15);\n",
              "      filter: drop-shadow(0px 1px 2px rgba(0, 0, 0, 0.3));\n",
              "      fill: #FFFFFF;\n",
              "    }\n",
              "  </style>\n",
              "\n",
              "      <script>\n",
              "        const buttonEl =\n",
              "          document.querySelector('#df-7bb2bac3-1fe0-439f-9bea-c17c83d60ee5 button.colab-df-convert');\n",
              "        buttonEl.style.display =\n",
              "          google.colab.kernel.accessAllowed ? 'block' : 'none';\n",
              "\n",
              "        async function convertToInteractive(key) {\n",
              "          const element = document.querySelector('#df-7bb2bac3-1fe0-439f-9bea-c17c83d60ee5');\n",
              "          const dataTable =\n",
              "            await google.colab.kernel.invokeFunction('convertToInteractive',\n",
              "                                                     [key], {});\n",
              "          if (!dataTable) return;\n",
              "\n",
              "          const docLinkHtml = 'Like what you see? Visit the ' +\n",
              "            '<a target=\"_blank\" href=https://colab.research.google.com/notebooks/data_table.ipynb>data table notebook</a>'\n",
              "            + ' to learn more about interactive tables.';\n",
              "          element.innerHTML = '';\n",
              "          dataTable['output_type'] = 'display_data';\n",
              "          await google.colab.output.renderOutput(dataTable, element);\n",
              "          const docLink = document.createElement('div');\n",
              "          docLink.innerHTML = docLinkHtml;\n",
              "          element.appendChild(docLink);\n",
              "        }\n",
              "      </script>\n",
              "    </div>\n",
              "  </div>\n",
              "  "
            ],
            "text/plain": [
              "     Unnamed: 0     Category  Age Sex   ALB    ALP   ALT    AST    BIL   CHE  \\\n",
              "565         566   2=Fibrosis   40   m  39.0   43.1  23.8  114.7   11.0  9.64   \n",
              "566         567   2=Fibrosis   46   m  45.0   26.9  23.1  125.0   17.0  6.97   \n",
              "567         568   2=Fibrosis   48   m  49.0   45.2  19.3   69.1   30.0  7.76   \n",
              "572         573   2=Fibrosis   54   m  41.0   41.8  41.5  187.9   21.0  8.59   \n",
              "573         574   2=Fibrosis   57   m  47.0   29.7  10.2   55.9   12.0  6.60   \n",
              "574         575   2=Fibrosis   59   m  44.0   34.5   8.9   74.5    6.0  9.45   \n",
              "575         576   2=Fibrosis   64   m  38.0   35.7   7.1   41.3   13.0  7.10   \n",
              "577         578   2=Fibrosis   36   f  46.0   39.3  67.1  161.9   13.0  9.24   \n",
              "578         579   2=Fibrosis   38   f  40.0   39.8  14.9   68.9   11.0  8.55   \n",
              "579         580   2=Fibrosis   57   f  43.0   52.1   8.3   35.8   18.0  8.61   \n",
              "580         581   2=Fibrosis   68   f  43.0   22.9   5.0   42.1   12.0  7.29   \n",
              "586         587  3=Cirrhosis   39   m  34.0  137.8   4.8   35.6    9.0  3.65   \n",
              "587         588  3=Cirrhosis   41   m  31.0   85.3   4.8   60.2  200.0  1.80   \n",
              "588         589  3=Cirrhosis   42   m  36.0   69.6  14.9  263.1   40.0  3.61   \n",
              "\n",
              "     CHOL   CREA    GGT  PROT    0    1    2    3    4  \n",
              "565  4.20   70.9  127.3  81.3  0.0  0.0  0.0  0.0  1.0  \n",
              "566  4.01   60.5   72.2  73.0  0.0  0.0  0.0  0.0  1.0  \n",
              "567  4.22   76.7   28.4  72.3  0.0  0.0  0.0  0.0  1.0  \n",
              "572  5.85   91.0  104.9  79.1  0.0  0.0  0.0  0.0  1.0  \n",
              "573  4.64   70.9   69.6  80.9  0.0  0.0  0.0  0.0  1.0  \n",
              "574  4.45   65.0   95.3  69.7  0.0  0.0  0.0  0.0  1.0  \n",
              "575  4.52   70.0   53.0  66.8  0.0  0.0  0.0  0.0  1.0  \n",
              "577  4.81   65.3   60.0  73.9  0.0  0.0  0.0  0.0  1.0  \n",
              "578  4.31   60.5   40.1  76.5  0.0  0.0  0.0  0.0  1.0  \n",
              "579  6.19   71.4   27.9  82.0  0.0  0.0  0.0  0.0  1.0  \n",
              "580  4.89   80.9   11.9  76.1  0.0  0.0  0.0  0.0  1.0  \n",
              "586  4.82  519.0  133.4  57.5  0.0  0.0  0.0  0.0  1.0  \n",
              "587  5.34  106.4  151.0  71.8  0.0  0.0  0.0  0.0  1.0  \n",
              "588  3.93   49.6   61.0  68.6  0.0  0.0  0.0  0.0  1.0  "
            ]
          },
          "execution_count": 187,
          "metadata": {},
          "output_type": "execute_result"
        }
      ],
      "source": [
        "data.loc[data[4]==1.0]"
      ]
    },
    {
      "cell_type": "markdown",
      "metadata": {
        "id": "X9GFJWDWta3y"
      },
      "source": [
        "Maka dari itu, meskipun One Hot Encoder sebenarnya lebih pas, kita akan mencoba menggunakan Label Binarizer."
      ]
    },
    {
      "cell_type": "code",
      "execution_count": null,
      "metadata": {
        "id": "y7ss53E3thdZ"
      },
      "outputs": [],
      "source": [
        "from sklearn.preprocessing import LabelBinarizer"
      ]
    },
    {
      "cell_type": "code",
      "execution_count": null,
      "metadata": {
        "id": "ML6RSv6DtqnI"
      },
      "outputs": [],
      "source": [
        "#Binary encode\n",
        "lb = LabelBinarizer()\n",
        "df_binary_encoded = lb.fit_transform(df['Category'])"
      ]
    },
    {
      "cell_type": "code",
      "execution_count": null,
      "metadata": {
        "colab": {
          "base_uri": "https://localhost:8080/",
          "height": 609
        },
        "id": "dXl0aDJpuBdq",
        "outputId": "d21cffac-b35e-4dc6-b49c-d8970cc726bc"
      },
      "outputs": [
        {
          "data": {
            "text/html": [
              "\n",
              "  <div id=\"df-70993a1d-b905-434f-82cf-7fc77a41a956\">\n",
              "    <div class=\"colab-df-container\">\n",
              "      <div>\n",
              "<style scoped>\n",
              "    .dataframe tbody tr th:only-of-type {\n",
              "        vertical-align: middle;\n",
              "    }\n",
              "\n",
              "    .dataframe tbody tr th {\n",
              "        vertical-align: top;\n",
              "    }\n",
              "\n",
              "    .dataframe thead th {\n",
              "        text-align: right;\n",
              "    }\n",
              "</style>\n",
              "<table border=\"1\" class=\"dataframe\">\n",
              "  <thead>\n",
              "    <tr style=\"text-align: right;\">\n",
              "      <th></th>\n",
              "      <th>Unnamed: 0</th>\n",
              "      <th>Category</th>\n",
              "      <th>Age</th>\n",
              "      <th>Sex</th>\n",
              "      <th>ALB</th>\n",
              "      <th>ALP</th>\n",
              "      <th>ALT</th>\n",
              "      <th>AST</th>\n",
              "      <th>BIL</th>\n",
              "      <th>CHE</th>\n",
              "      <th>CHOL</th>\n",
              "      <th>CREA</th>\n",
              "      <th>GGT</th>\n",
              "      <th>PROT</th>\n",
              "      <th>0=Blood Donor</th>\n",
              "      <th>0s=suspect Blood Donor</th>\n",
              "      <th>1=Hepatitis</th>\n",
              "      <th>2=Fibrosis</th>\n",
              "      <th>3=Cirrhosis</th>\n",
              "    </tr>\n",
              "  </thead>\n",
              "  <tbody>\n",
              "    <tr>\n",
              "      <th>0</th>\n",
              "      <td>1</td>\n",
              "      <td>0=Blood Donor</td>\n",
              "      <td>32</td>\n",
              "      <td>m</td>\n",
              "      <td>38.5</td>\n",
              "      <td>52.5</td>\n",
              "      <td>7.7</td>\n",
              "      <td>22.1</td>\n",
              "      <td>7.5</td>\n",
              "      <td>6.93</td>\n",
              "      <td>3.23</td>\n",
              "      <td>106.0</td>\n",
              "      <td>12.1</td>\n",
              "      <td>69.0</td>\n",
              "      <td>1</td>\n",
              "      <td>0</td>\n",
              "      <td>0</td>\n",
              "      <td>0</td>\n",
              "      <td>0</td>\n",
              "    </tr>\n",
              "    <tr>\n",
              "      <th>1</th>\n",
              "      <td>2</td>\n",
              "      <td>0=Blood Donor</td>\n",
              "      <td>32</td>\n",
              "      <td>m</td>\n",
              "      <td>38.5</td>\n",
              "      <td>70.3</td>\n",
              "      <td>18.0</td>\n",
              "      <td>24.7</td>\n",
              "      <td>3.9</td>\n",
              "      <td>11.17</td>\n",
              "      <td>4.80</td>\n",
              "      <td>74.0</td>\n",
              "      <td>15.6</td>\n",
              "      <td>76.5</td>\n",
              "      <td>1</td>\n",
              "      <td>0</td>\n",
              "      <td>0</td>\n",
              "      <td>0</td>\n",
              "      <td>0</td>\n",
              "    </tr>\n",
              "    <tr>\n",
              "      <th>2</th>\n",
              "      <td>3</td>\n",
              "      <td>0=Blood Donor</td>\n",
              "      <td>32</td>\n",
              "      <td>m</td>\n",
              "      <td>46.9</td>\n",
              "      <td>74.7</td>\n",
              "      <td>36.2</td>\n",
              "      <td>52.6</td>\n",
              "      <td>6.1</td>\n",
              "      <td>8.84</td>\n",
              "      <td>5.20</td>\n",
              "      <td>86.0</td>\n",
              "      <td>33.2</td>\n",
              "      <td>79.3</td>\n",
              "      <td>1</td>\n",
              "      <td>0</td>\n",
              "      <td>0</td>\n",
              "      <td>0</td>\n",
              "      <td>0</td>\n",
              "    </tr>\n",
              "    <tr>\n",
              "      <th>3</th>\n",
              "      <td>4</td>\n",
              "      <td>0=Blood Donor</td>\n",
              "      <td>32</td>\n",
              "      <td>m</td>\n",
              "      <td>43.2</td>\n",
              "      <td>52.0</td>\n",
              "      <td>30.6</td>\n",
              "      <td>22.6</td>\n",
              "      <td>18.9</td>\n",
              "      <td>7.33</td>\n",
              "      <td>4.74</td>\n",
              "      <td>80.0</td>\n",
              "      <td>33.8</td>\n",
              "      <td>75.7</td>\n",
              "      <td>1</td>\n",
              "      <td>0</td>\n",
              "      <td>0</td>\n",
              "      <td>0</td>\n",
              "      <td>0</td>\n",
              "    </tr>\n",
              "    <tr>\n",
              "      <th>4</th>\n",
              "      <td>5</td>\n",
              "      <td>0=Blood Donor</td>\n",
              "      <td>32</td>\n",
              "      <td>m</td>\n",
              "      <td>39.2</td>\n",
              "      <td>74.1</td>\n",
              "      <td>32.6</td>\n",
              "      <td>24.8</td>\n",
              "      <td>9.6</td>\n",
              "      <td>9.15</td>\n",
              "      <td>4.32</td>\n",
              "      <td>76.0</td>\n",
              "      <td>29.9</td>\n",
              "      <td>68.7</td>\n",
              "      <td>1</td>\n",
              "      <td>0</td>\n",
              "      <td>0</td>\n",
              "      <td>0</td>\n",
              "      <td>0</td>\n",
              "    </tr>\n",
              "    <tr>\n",
              "      <th>...</th>\n",
              "      <td>...</td>\n",
              "      <td>...</td>\n",
              "      <td>...</td>\n",
              "      <td>...</td>\n",
              "      <td>...</td>\n",
              "      <td>...</td>\n",
              "      <td>...</td>\n",
              "      <td>...</td>\n",
              "      <td>...</td>\n",
              "      <td>...</td>\n",
              "      <td>...</td>\n",
              "      <td>...</td>\n",
              "      <td>...</td>\n",
              "      <td>...</td>\n",
              "      <td>...</td>\n",
              "      <td>...</td>\n",
              "      <td>...</td>\n",
              "      <td>...</td>\n",
              "      <td>...</td>\n",
              "    </tr>\n",
              "    <tr>\n",
              "      <th>608</th>\n",
              "      <td>609</td>\n",
              "      <td>3=Cirrhosis</td>\n",
              "      <td>58</td>\n",
              "      <td>f</td>\n",
              "      <td>34.0</td>\n",
              "      <td>46.4</td>\n",
              "      <td>15.0</td>\n",
              "      <td>150.0</td>\n",
              "      <td>8.0</td>\n",
              "      <td>6.26</td>\n",
              "      <td>3.98</td>\n",
              "      <td>56.0</td>\n",
              "      <td>49.7</td>\n",
              "      <td>80.6</td>\n",
              "      <td>0</td>\n",
              "      <td>0</td>\n",
              "      <td>0</td>\n",
              "      <td>0</td>\n",
              "      <td>1</td>\n",
              "    </tr>\n",
              "    <tr>\n",
              "      <th>609</th>\n",
              "      <td>610</td>\n",
              "      <td>3=Cirrhosis</td>\n",
              "      <td>59</td>\n",
              "      <td>f</td>\n",
              "      <td>39.0</td>\n",
              "      <td>51.3</td>\n",
              "      <td>19.6</td>\n",
              "      <td>285.8</td>\n",
              "      <td>40.0</td>\n",
              "      <td>5.77</td>\n",
              "      <td>4.51</td>\n",
              "      <td>136.1</td>\n",
              "      <td>101.1</td>\n",
              "      <td>70.5</td>\n",
              "      <td>0</td>\n",
              "      <td>0</td>\n",
              "      <td>0</td>\n",
              "      <td>0</td>\n",
              "      <td>1</td>\n",
              "    </tr>\n",
              "    <tr>\n",
              "      <th>610</th>\n",
              "      <td>611</td>\n",
              "      <td>3=Cirrhosis</td>\n",
              "      <td>62</td>\n",
              "      <td>f</td>\n",
              "      <td>32.0</td>\n",
              "      <td>416.6</td>\n",
              "      <td>5.9</td>\n",
              "      <td>110.3</td>\n",
              "      <td>50.0</td>\n",
              "      <td>5.57</td>\n",
              "      <td>6.30</td>\n",
              "      <td>55.7</td>\n",
              "      <td>650.9</td>\n",
              "      <td>68.5</td>\n",
              "      <td>0</td>\n",
              "      <td>0</td>\n",
              "      <td>0</td>\n",
              "      <td>0</td>\n",
              "      <td>1</td>\n",
              "    </tr>\n",
              "    <tr>\n",
              "      <th>611</th>\n",
              "      <td>612</td>\n",
              "      <td>3=Cirrhosis</td>\n",
              "      <td>64</td>\n",
              "      <td>f</td>\n",
              "      <td>24.0</td>\n",
              "      <td>102.8</td>\n",
              "      <td>2.9</td>\n",
              "      <td>44.4</td>\n",
              "      <td>20.0</td>\n",
              "      <td>1.54</td>\n",
              "      <td>3.02</td>\n",
              "      <td>63.0</td>\n",
              "      <td>35.9</td>\n",
              "      <td>71.3</td>\n",
              "      <td>0</td>\n",
              "      <td>0</td>\n",
              "      <td>0</td>\n",
              "      <td>0</td>\n",
              "      <td>1</td>\n",
              "    </tr>\n",
              "    <tr>\n",
              "      <th>612</th>\n",
              "      <td>613</td>\n",
              "      <td>3=Cirrhosis</td>\n",
              "      <td>64</td>\n",
              "      <td>f</td>\n",
              "      <td>29.0</td>\n",
              "      <td>87.3</td>\n",
              "      <td>3.5</td>\n",
              "      <td>99.0</td>\n",
              "      <td>48.0</td>\n",
              "      <td>1.66</td>\n",
              "      <td>3.63</td>\n",
              "      <td>66.7</td>\n",
              "      <td>64.2</td>\n",
              "      <td>82.0</td>\n",
              "      <td>0</td>\n",
              "      <td>0</td>\n",
              "      <td>0</td>\n",
              "      <td>0</td>\n",
              "      <td>1</td>\n",
              "    </tr>\n",
              "  </tbody>\n",
              "</table>\n",
              "<p>589 rows × 19 columns</p>\n",
              "</div>\n",
              "      <button class=\"colab-df-convert\" onclick=\"convertToInteractive('df-70993a1d-b905-434f-82cf-7fc77a41a956')\"\n",
              "              title=\"Convert this dataframe to an interactive table.\"\n",
              "              style=\"display:none;\">\n",
              "        \n",
              "  <svg xmlns=\"http://www.w3.org/2000/svg\" height=\"24px\"viewBox=\"0 0 24 24\"\n",
              "       width=\"24px\">\n",
              "    <path d=\"M0 0h24v24H0V0z\" fill=\"none\"/>\n",
              "    <path d=\"M18.56 5.44l.94 2.06.94-2.06 2.06-.94-2.06-.94-.94-2.06-.94 2.06-2.06.94zm-11 1L8.5 8.5l.94-2.06 2.06-.94-2.06-.94L8.5 2.5l-.94 2.06-2.06.94zm10 10l.94 2.06.94-2.06 2.06-.94-2.06-.94-.94-2.06-.94 2.06-2.06.94z\"/><path d=\"M17.41 7.96l-1.37-1.37c-.4-.4-.92-.59-1.43-.59-.52 0-1.04.2-1.43.59L10.3 9.45l-7.72 7.72c-.78.78-.78 2.05 0 2.83L4 21.41c.39.39.9.59 1.41.59.51 0 1.02-.2 1.41-.59l7.78-7.78 2.81-2.81c.8-.78.8-2.07 0-2.86zM5.41 20L4 18.59l7.72-7.72 1.47 1.35L5.41 20z\"/>\n",
              "  </svg>\n",
              "      </button>\n",
              "      \n",
              "  <style>\n",
              "    .colab-df-container {\n",
              "      display:flex;\n",
              "      flex-wrap:wrap;\n",
              "      gap: 12px;\n",
              "    }\n",
              "\n",
              "    .colab-df-convert {\n",
              "      background-color: #E8F0FE;\n",
              "      border: none;\n",
              "      border-radius: 50%;\n",
              "      cursor: pointer;\n",
              "      display: none;\n",
              "      fill: #1967D2;\n",
              "      height: 32px;\n",
              "      padding: 0 0 0 0;\n",
              "      width: 32px;\n",
              "    }\n",
              "\n",
              "    .colab-df-convert:hover {\n",
              "      background-color: #E2EBFA;\n",
              "      box-shadow: 0px 1px 2px rgba(60, 64, 67, 0.3), 0px 1px 3px 1px rgba(60, 64, 67, 0.15);\n",
              "      fill: #174EA6;\n",
              "    }\n",
              "\n",
              "    [theme=dark] .colab-df-convert {\n",
              "      background-color: #3B4455;\n",
              "      fill: #D2E3FC;\n",
              "    }\n",
              "\n",
              "    [theme=dark] .colab-df-convert:hover {\n",
              "      background-color: #434B5C;\n",
              "      box-shadow: 0px 1px 3px 1px rgba(0, 0, 0, 0.15);\n",
              "      filter: drop-shadow(0px 1px 2px rgba(0, 0, 0, 0.3));\n",
              "      fill: #FFFFFF;\n",
              "    }\n",
              "  </style>\n",
              "\n",
              "      <script>\n",
              "        const buttonEl =\n",
              "          document.querySelector('#df-70993a1d-b905-434f-82cf-7fc77a41a956 button.colab-df-convert');\n",
              "        buttonEl.style.display =\n",
              "          google.colab.kernel.accessAllowed ? 'block' : 'none';\n",
              "\n",
              "        async function convertToInteractive(key) {\n",
              "          const element = document.querySelector('#df-70993a1d-b905-434f-82cf-7fc77a41a956');\n",
              "          const dataTable =\n",
              "            await google.colab.kernel.invokeFunction('convertToInteractive',\n",
              "                                                     [key], {});\n",
              "          if (!dataTable) return;\n",
              "\n",
              "          const docLinkHtml = 'Like what you see? Visit the ' +\n",
              "            '<a target=\"_blank\" href=https://colab.research.google.com/notebooks/data_table.ipynb>data table notebook</a>'\n",
              "            + ' to learn more about interactive tables.';\n",
              "          element.innerHTML = '';\n",
              "          dataTable['output_type'] = 'display_data';\n",
              "          await google.colab.output.renderOutput(dataTable, element);\n",
              "          const docLink = document.createElement('div');\n",
              "          docLink.innerHTML = docLinkHtml;\n",
              "          element.appendChild(docLink);\n",
              "        }\n",
              "      </script>\n",
              "    </div>\n",
              "  </div>\n",
              "  "
            ],
            "text/plain": [
              "     Unnamed: 0       Category  Age Sex   ALB    ALP   ALT    AST   BIL  \\\n",
              "0             1  0=Blood Donor   32   m  38.5   52.5   7.7   22.1   7.5   \n",
              "1             2  0=Blood Donor   32   m  38.5   70.3  18.0   24.7   3.9   \n",
              "2             3  0=Blood Donor   32   m  46.9   74.7  36.2   52.6   6.1   \n",
              "3             4  0=Blood Donor   32   m  43.2   52.0  30.6   22.6  18.9   \n",
              "4             5  0=Blood Donor   32   m  39.2   74.1  32.6   24.8   9.6   \n",
              "..          ...            ...  ...  ..   ...    ...   ...    ...   ...   \n",
              "608         609    3=Cirrhosis   58   f  34.0   46.4  15.0  150.0   8.0   \n",
              "609         610    3=Cirrhosis   59   f  39.0   51.3  19.6  285.8  40.0   \n",
              "610         611    3=Cirrhosis   62   f  32.0  416.6   5.9  110.3  50.0   \n",
              "611         612    3=Cirrhosis   64   f  24.0  102.8   2.9   44.4  20.0   \n",
              "612         613    3=Cirrhosis   64   f  29.0   87.3   3.5   99.0  48.0   \n",
              "\n",
              "       CHE  CHOL   CREA    GGT  PROT  0=Blood Donor  0s=suspect Blood Donor  \\\n",
              "0     6.93  3.23  106.0   12.1  69.0              1                       0   \n",
              "1    11.17  4.80   74.0   15.6  76.5              1                       0   \n",
              "2     8.84  5.20   86.0   33.2  79.3              1                       0   \n",
              "3     7.33  4.74   80.0   33.8  75.7              1                       0   \n",
              "4     9.15  4.32   76.0   29.9  68.7              1                       0   \n",
              "..     ...   ...    ...    ...   ...            ...                     ...   \n",
              "608   6.26  3.98   56.0   49.7  80.6              0                       0   \n",
              "609   5.77  4.51  136.1  101.1  70.5              0                       0   \n",
              "610   5.57  6.30   55.7  650.9  68.5              0                       0   \n",
              "611   1.54  3.02   63.0   35.9  71.3              0                       0   \n",
              "612   1.66  3.63   66.7   64.2  82.0              0                       0   \n",
              "\n",
              "     1=Hepatitis  2=Fibrosis  3=Cirrhosis  \n",
              "0              0           0            0  \n",
              "1              0           0            0  \n",
              "2              0           0            0  \n",
              "3              0           0            0  \n",
              "4              0           0            0  \n",
              "..           ...         ...          ...  \n",
              "608            0           0            1  \n",
              "609            0           0            1  \n",
              "610            0           0            1  \n",
              "611            0           0            1  \n",
              "612            0           0            1  \n",
              "\n",
              "[589 rows x 19 columns]"
            ]
          },
          "execution_count": 193,
          "metadata": {},
          "output_type": "execute_result"
        }
      ],
      "source": [
        "df1 = df.join(pd.DataFrame(df_binary_encoded, columns=lb.classes_,index=df.index))\n",
        "df1"
      ]
    },
    {
      "cell_type": "code",
      "execution_count": 254,
      "metadata": {
        "id": "3b0vMXqIeaQW"
      },
      "outputs": [],
      "source": [
        "# Tidak dibutuhkan dengan label binarizer\n",
        "# y_dict = {}\n",
        "\n",
        "# i = 0\n",
        "# for row in y_unique_array:\n",
        "#   key = i\n",
        "#   value = row.rpartition('=')[2]\n",
        "#   i = i + 1\n",
        "#   y_dict[key] = value\n",
        "\n",
        "# print(y_dict)"
      ]
    },
    {
      "cell_type": "markdown",
      "metadata": {
        "id": "oPN-t5ehkyGK"
      },
      "source": [
        "Karena berdasarkan penjelasan informasi atribut dataset bahwa data laboratorium hanyalah mencakup atribut 5 sampai 14 (ALB sampai PROT), maka dari itu diasumsikan bahwa data yang akan berguna dalam kalkulasi model ANN hanyalah data-data ini. \n",
        "\n",
        "Untuk pembandingnya, maka dibuat juga algoritma yang akan memperhitungkan umur ke dalam penghitungan model."
      ]
    },
    {
      "cell_type": "code",
      "execution_count": 255,
      "metadata": {
        "colab": {
          "base_uri": "https://localhost:8080/",
          "height": 81
        },
        "id": "ms7Jgxe7kF8Q",
        "outputId": "4ffba501-0c7b-45b5-84f4-93cbc320ab93"
      },
      "outputs": [
        {
          "output_type": "execute_result",
          "data": {
            "text/plain": [
              "   Age   ALB   ALP  ALT   AST  BIL   CHE  CHOL   CREA   GGT  PROT\n",
              "0   32  38.5  52.5  7.7  22.1  7.5  6.93  3.23  106.0  12.1  69.0"
            ],
            "text/html": [
              "\n",
              "  <div id=\"df-7892bd3a-9aed-4547-824d-4b2df2de20a3\">\n",
              "    <div class=\"colab-df-container\">\n",
              "      <div>\n",
              "<style scoped>\n",
              "    .dataframe tbody tr th:only-of-type {\n",
              "        vertical-align: middle;\n",
              "    }\n",
              "\n",
              "    .dataframe tbody tr th {\n",
              "        vertical-align: top;\n",
              "    }\n",
              "\n",
              "    .dataframe thead th {\n",
              "        text-align: right;\n",
              "    }\n",
              "</style>\n",
              "<table border=\"1\" class=\"dataframe\">\n",
              "  <thead>\n",
              "    <tr style=\"text-align: right;\">\n",
              "      <th></th>\n",
              "      <th>Age</th>\n",
              "      <th>ALB</th>\n",
              "      <th>ALP</th>\n",
              "      <th>ALT</th>\n",
              "      <th>AST</th>\n",
              "      <th>BIL</th>\n",
              "      <th>CHE</th>\n",
              "      <th>CHOL</th>\n",
              "      <th>CREA</th>\n",
              "      <th>GGT</th>\n",
              "      <th>PROT</th>\n",
              "    </tr>\n",
              "  </thead>\n",
              "  <tbody>\n",
              "    <tr>\n",
              "      <th>0</th>\n",
              "      <td>32</td>\n",
              "      <td>38.5</td>\n",
              "      <td>52.5</td>\n",
              "      <td>7.7</td>\n",
              "      <td>22.1</td>\n",
              "      <td>7.5</td>\n",
              "      <td>6.93</td>\n",
              "      <td>3.23</td>\n",
              "      <td>106.0</td>\n",
              "      <td>12.1</td>\n",
              "      <td>69.0</td>\n",
              "    </tr>\n",
              "  </tbody>\n",
              "</table>\n",
              "</div>\n",
              "      <button class=\"colab-df-convert\" onclick=\"convertToInteractive('df-7892bd3a-9aed-4547-824d-4b2df2de20a3')\"\n",
              "              title=\"Convert this dataframe to an interactive table.\"\n",
              "              style=\"display:none;\">\n",
              "        \n",
              "  <svg xmlns=\"http://www.w3.org/2000/svg\" height=\"24px\"viewBox=\"0 0 24 24\"\n",
              "       width=\"24px\">\n",
              "    <path d=\"M0 0h24v24H0V0z\" fill=\"none\"/>\n",
              "    <path d=\"M18.56 5.44l.94 2.06.94-2.06 2.06-.94-2.06-.94-.94-2.06-.94 2.06-2.06.94zm-11 1L8.5 8.5l.94-2.06 2.06-.94-2.06-.94L8.5 2.5l-.94 2.06-2.06.94zm10 10l.94 2.06.94-2.06 2.06-.94-2.06-.94-.94-2.06-.94 2.06-2.06.94z\"/><path d=\"M17.41 7.96l-1.37-1.37c-.4-.4-.92-.59-1.43-.59-.52 0-1.04.2-1.43.59L10.3 9.45l-7.72 7.72c-.78.78-.78 2.05 0 2.83L4 21.41c.39.39.9.59 1.41.59.51 0 1.02-.2 1.41-.59l7.78-7.78 2.81-2.81c.8-.78.8-2.07 0-2.86zM5.41 20L4 18.59l7.72-7.72 1.47 1.35L5.41 20z\"/>\n",
              "  </svg>\n",
              "      </button>\n",
              "      \n",
              "  <style>\n",
              "    .colab-df-container {\n",
              "      display:flex;\n",
              "      flex-wrap:wrap;\n",
              "      gap: 12px;\n",
              "    }\n",
              "\n",
              "    .colab-df-convert {\n",
              "      background-color: #E8F0FE;\n",
              "      border: none;\n",
              "      border-radius: 50%;\n",
              "      cursor: pointer;\n",
              "      display: none;\n",
              "      fill: #1967D2;\n",
              "      height: 32px;\n",
              "      padding: 0 0 0 0;\n",
              "      width: 32px;\n",
              "    }\n",
              "\n",
              "    .colab-df-convert:hover {\n",
              "      background-color: #E2EBFA;\n",
              "      box-shadow: 0px 1px 2px rgba(60, 64, 67, 0.3), 0px 1px 3px 1px rgba(60, 64, 67, 0.15);\n",
              "      fill: #174EA6;\n",
              "    }\n",
              "\n",
              "    [theme=dark] .colab-df-convert {\n",
              "      background-color: #3B4455;\n",
              "      fill: #D2E3FC;\n",
              "    }\n",
              "\n",
              "    [theme=dark] .colab-df-convert:hover {\n",
              "      background-color: #434B5C;\n",
              "      box-shadow: 0px 1px 3px 1px rgba(0, 0, 0, 0.15);\n",
              "      filter: drop-shadow(0px 1px 2px rgba(0, 0, 0, 0.3));\n",
              "      fill: #FFFFFF;\n",
              "    }\n",
              "  </style>\n",
              "\n",
              "      <script>\n",
              "        const buttonEl =\n",
              "          document.querySelector('#df-7892bd3a-9aed-4547-824d-4b2df2de20a3 button.colab-df-convert');\n",
              "        buttonEl.style.display =\n",
              "          google.colab.kernel.accessAllowed ? 'block' : 'none';\n",
              "\n",
              "        async function convertToInteractive(key) {\n",
              "          const element = document.querySelector('#df-7892bd3a-9aed-4547-824d-4b2df2de20a3');\n",
              "          const dataTable =\n",
              "            await google.colab.kernel.invokeFunction('convertToInteractive',\n",
              "                                                     [key], {});\n",
              "          if (!dataTable) return;\n",
              "\n",
              "          const docLinkHtml = 'Like what you see? Visit the ' +\n",
              "            '<a target=\"_blank\" href=https://colab.research.google.com/notebooks/data_table.ipynb>data table notebook</a>'\n",
              "            + ' to learn more about interactive tables.';\n",
              "          element.innerHTML = '';\n",
              "          dataTable['output_type'] = 'display_data';\n",
              "          await google.colab.output.renderOutput(dataTable, element);\n",
              "          const docLink = document.createElement('div');\n",
              "          docLink.innerHTML = docLinkHtml;\n",
              "          element.appendChild(docLink);\n",
              "        }\n",
              "      </script>\n",
              "    </div>\n",
              "  </div>\n",
              "  "
            ]
          },
          "metadata": {},
          "execution_count": 255
        }
      ],
      "source": [
        "# # Tanpa umur\n",
        "# x = df1.iloc[:,4:14]\n",
        "\n",
        "# Dengan umur\n",
        "x = df1.iloc[:,2:14]\n",
        "x = x.drop(['Sex'],axis=1)\n",
        "x.head(1)"
      ]
    },
    {
      "cell_type": "code",
      "execution_count": 256,
      "metadata": {
        "colab": {
          "base_uri": "https://localhost:8080/",
          "height": 81
        },
        "id": "yidBknApliTA",
        "outputId": "6802cd71-07f8-49de-f141-6142c3e640ad"
      },
      "outputs": [
        {
          "output_type": "execute_result",
          "data": {
            "text/plain": [
              "   0=Blood Donor  0s=suspect Blood Donor  1=Hepatitis  2=Fibrosis\n",
              "0              1                       0            0           0"
            ],
            "text/html": [
              "\n",
              "  <div id=\"df-b13bd766-4e96-4613-9967-cb9311ce9ddf\">\n",
              "    <div class=\"colab-df-container\">\n",
              "      <div>\n",
              "<style scoped>\n",
              "    .dataframe tbody tr th:only-of-type {\n",
              "        vertical-align: middle;\n",
              "    }\n",
              "\n",
              "    .dataframe tbody tr th {\n",
              "        vertical-align: top;\n",
              "    }\n",
              "\n",
              "    .dataframe thead th {\n",
              "        text-align: right;\n",
              "    }\n",
              "</style>\n",
              "<table border=\"1\" class=\"dataframe\">\n",
              "  <thead>\n",
              "    <tr style=\"text-align: right;\">\n",
              "      <th></th>\n",
              "      <th>0=Blood Donor</th>\n",
              "      <th>0s=suspect Blood Donor</th>\n",
              "      <th>1=Hepatitis</th>\n",
              "      <th>2=Fibrosis</th>\n",
              "    </tr>\n",
              "  </thead>\n",
              "  <tbody>\n",
              "    <tr>\n",
              "      <th>0</th>\n",
              "      <td>1</td>\n",
              "      <td>0</td>\n",
              "      <td>0</td>\n",
              "      <td>0</td>\n",
              "    </tr>\n",
              "  </tbody>\n",
              "</table>\n",
              "</div>\n",
              "      <button class=\"colab-df-convert\" onclick=\"convertToInteractive('df-b13bd766-4e96-4613-9967-cb9311ce9ddf')\"\n",
              "              title=\"Convert this dataframe to an interactive table.\"\n",
              "              style=\"display:none;\">\n",
              "        \n",
              "  <svg xmlns=\"http://www.w3.org/2000/svg\" height=\"24px\"viewBox=\"0 0 24 24\"\n",
              "       width=\"24px\">\n",
              "    <path d=\"M0 0h24v24H0V0z\" fill=\"none\"/>\n",
              "    <path d=\"M18.56 5.44l.94 2.06.94-2.06 2.06-.94-2.06-.94-.94-2.06-.94 2.06-2.06.94zm-11 1L8.5 8.5l.94-2.06 2.06-.94-2.06-.94L8.5 2.5l-.94 2.06-2.06.94zm10 10l.94 2.06.94-2.06 2.06-.94-2.06-.94-.94-2.06-.94 2.06-2.06.94z\"/><path d=\"M17.41 7.96l-1.37-1.37c-.4-.4-.92-.59-1.43-.59-.52 0-1.04.2-1.43.59L10.3 9.45l-7.72 7.72c-.78.78-.78 2.05 0 2.83L4 21.41c.39.39.9.59 1.41.59.51 0 1.02-.2 1.41-.59l7.78-7.78 2.81-2.81c.8-.78.8-2.07 0-2.86zM5.41 20L4 18.59l7.72-7.72 1.47 1.35L5.41 20z\"/>\n",
              "  </svg>\n",
              "      </button>\n",
              "      \n",
              "  <style>\n",
              "    .colab-df-container {\n",
              "      display:flex;\n",
              "      flex-wrap:wrap;\n",
              "      gap: 12px;\n",
              "    }\n",
              "\n",
              "    .colab-df-convert {\n",
              "      background-color: #E8F0FE;\n",
              "      border: none;\n",
              "      border-radius: 50%;\n",
              "      cursor: pointer;\n",
              "      display: none;\n",
              "      fill: #1967D2;\n",
              "      height: 32px;\n",
              "      padding: 0 0 0 0;\n",
              "      width: 32px;\n",
              "    }\n",
              "\n",
              "    .colab-df-convert:hover {\n",
              "      background-color: #E2EBFA;\n",
              "      box-shadow: 0px 1px 2px rgba(60, 64, 67, 0.3), 0px 1px 3px 1px rgba(60, 64, 67, 0.15);\n",
              "      fill: #174EA6;\n",
              "    }\n",
              "\n",
              "    [theme=dark] .colab-df-convert {\n",
              "      background-color: #3B4455;\n",
              "      fill: #D2E3FC;\n",
              "    }\n",
              "\n",
              "    [theme=dark] .colab-df-convert:hover {\n",
              "      background-color: #434B5C;\n",
              "      box-shadow: 0px 1px 3px 1px rgba(0, 0, 0, 0.15);\n",
              "      filter: drop-shadow(0px 1px 2px rgba(0, 0, 0, 0.3));\n",
              "      fill: #FFFFFF;\n",
              "    }\n",
              "  </style>\n",
              "\n",
              "      <script>\n",
              "        const buttonEl =\n",
              "          document.querySelector('#df-b13bd766-4e96-4613-9967-cb9311ce9ddf button.colab-df-convert');\n",
              "        buttonEl.style.display =\n",
              "          google.colab.kernel.accessAllowed ? 'block' : 'none';\n",
              "\n",
              "        async function convertToInteractive(key) {\n",
              "          const element = document.querySelector('#df-b13bd766-4e96-4613-9967-cb9311ce9ddf');\n",
              "          const dataTable =\n",
              "            await google.colab.kernel.invokeFunction('convertToInteractive',\n",
              "                                                     [key], {});\n",
              "          if (!dataTable) return;\n",
              "\n",
              "          const docLinkHtml = 'Like what you see? Visit the ' +\n",
              "            '<a target=\"_blank\" href=https://colab.research.google.com/notebooks/data_table.ipynb>data table notebook</a>'\n",
              "            + ' to learn more about interactive tables.';\n",
              "          element.innerHTML = '';\n",
              "          dataTable['output_type'] = 'display_data';\n",
              "          await google.colab.output.renderOutput(dataTable, element);\n",
              "          const docLink = document.createElement('div');\n",
              "          docLink.innerHTML = docLinkHtml;\n",
              "          element.appendChild(docLink);\n",
              "        }\n",
              "      </script>\n",
              "    </div>\n",
              "  </div>\n",
              "  "
            ]
          },
          "metadata": {},
          "execution_count": 256
        }
      ],
      "source": [
        "y = df1.iloc[:,14:18]\n",
        "y.head(1)"
      ]
    },
    {
      "cell_type": "code",
      "execution_count": 257,
      "metadata": {
        "id": "Xrwd0x9BbXQk"
      },
      "outputs": [],
      "source": [
        "x_train,x_test,y_train,y_test = train_test_split(x,y,test_size=.1)"
      ]
    },
    {
      "cell_type": "code",
      "execution_count": 258,
      "metadata": {
        "id": "zEGhtrxLcDfN"
      },
      "outputs": [],
      "source": [
        "x_train,x_val,y_train,y_val = train_test_split(x_train,y_train,test_size=.2)"
      ]
    },
    {
      "cell_type": "code",
      "execution_count": 259,
      "metadata": {
        "colab": {
          "base_uri": "https://localhost:8080/"
        },
        "id": "k2xGZib1cLxl",
        "outputId": "3ac62ac6-bb43-43f7-ec76-47b9f19cec30"
      },
      "outputs": [
        {
          "output_type": "stream",
          "name": "stdout",
          "text": [
            "x_train (424, 11)\n",
            "x_val (106, 11)\n",
            "x_test (59, 11)\n"
          ]
        }
      ],
      "source": [
        "print(\"x_train\", x_train.shape)\n",
        "print(\"x_val\", x_val.shape)\n",
        "print(\"x_test\", x_test.shape)"
      ]
    },
    {
      "cell_type": "markdown",
      "metadata": {
        "id": "A1hajB50ceYU"
      },
      "source": [
        "## Define and Compile Model"
      ]
    },
    {
      "cell_type": "code",
      "execution_count": 260,
      "metadata": {
        "id": "AlLov098ckCc"
      },
      "outputs": [],
      "source": [
        "from sklearn.neural_network import MLPClassifier"
      ]
    },
    {
      "cell_type": "code",
      "execution_count": 261,
      "metadata": {
        "id": "x1ZcnIS1colk"
      },
      "outputs": [],
      "source": [
        "mlp = MLPClassifier(hidden_layer_sizes=(100, ), activation='logistic', max_iter = 800)"
      ]
    },
    {
      "cell_type": "markdown",
      "metadata": {
        "id": "bpzqG9U-c0i0"
      },
      "source": [
        "## Fit Model and Evaluation Model"
      ]
    },
    {
      "cell_type": "code",
      "execution_count": 262,
      "metadata": {
        "id": "WRYPdsSec2oL"
      },
      "outputs": [],
      "source": [
        "from sklearn.metrics import accuracy_score"
      ]
    },
    {
      "cell_type": "code",
      "execution_count": 263,
      "metadata": {
        "colab": {
          "base_uri": "https://localhost:8080/"
        },
        "id": "L6M3s8SAoRrw",
        "outputId": "2ac66897-75f6-4d96-cfef-fbd26f04d885"
      },
      "outputs": [
        {
          "output_type": "stream",
          "name": "stdout",
          "text": [
            "     Age   ALB    ALP   ALT   AST   BIL    CHE  CHOL  CREA    GGT  PROT\n",
            "553   41  42.0   39.6  26.5  77.6  42.0   9.67  9.67  57.7  143.4  75.8\n",
            "381   43  41.2   38.2  18.6  20.5   9.3   6.15  5.44  64.0    9.7  70.9\n",
            "50    36  42.6   65.3  35.8  27.1  15.7  10.66  4.38  96.0   34.7  71.0\n",
            "335   34  37.3   36.3  19.9  28.7   3.8   3.90  4.94  86.0    4.9  70.7\n",
            "267   59  45.7  115.4  16.4  23.8   3.7   8.20  4.46  70.0   14.3  78.5\n",
            "..   ...   ...    ...   ...   ...   ...    ...   ...   ...    ...   ...\n",
            "203   50  43.1   73.7  19.0  21.8   2.9   9.45  6.06  91.0   33.3  68.9\n",
            "16    33  40.9   73.0  17.2  22.9  10.0   6.98  5.22  90.0   14.7  72.4\n",
            "407   46  36.7   62.3  10.8  17.4   3.7   6.17  4.07  67.0   15.1  69.0\n",
            "202   50  43.8   56.9  29.5  32.8   4.1   7.77  5.80  72.0   53.6  72.5\n",
            "144   45  46.4   77.0  60.3  32.9   8.8   9.38  6.27  85.0   81.1  75.5\n",
            "\n",
            "[424 rows x 11 columns]\n"
          ]
        }
      ],
      "source": [
        "print(x_train)"
      ]
    },
    {
      "cell_type": "code",
      "execution_count": 264,
      "metadata": {
        "colab": {
          "base_uri": "https://localhost:8080/"
        },
        "id": "1lSNCMV9oT0_",
        "outputId": "10e59d18-4535-4b04-91c9-16a889bb28d0"
      },
      "outputs": [
        {
          "output_type": "stream",
          "name": "stdout",
          "text": [
            "     0=Blood Donor  0s=suspect Blood Donor  1=Hepatitis  2=Fibrosis\n",
            "553              0                       0            1           0\n",
            "381              1                       0            0           0\n",
            "50               1                       0            0           0\n",
            "335              1                       0            0           0\n",
            "267              1                       0            0           0\n",
            "..             ...                     ...          ...         ...\n",
            "203              1                       0            0           0\n",
            "16               1                       0            0           0\n",
            "407              1                       0            0           0\n",
            "202              1                       0            0           0\n",
            "144              1                       0            0           0\n",
            "\n",
            "[424 rows x 4 columns]\n"
          ]
        }
      ],
      "source": [
        "print(y_train)"
      ]
    },
    {
      "cell_type": "code",
      "execution_count": 265,
      "metadata": {
        "colab": {
          "base_uri": "https://localhost:8080/",
          "height": 423
        },
        "id": "4aevBMDDp9WC",
        "outputId": "7cde3d31-099e-465f-9097-700008a3dd2a"
      },
      "outputs": [
        {
          "output_type": "execute_result",
          "data": {
            "text/plain": [
              "     0=Blood Donor  0s=suspect Blood Donor  1=Hepatitis  2=Fibrosis\n",
              "553              0                       0            1           0\n",
              "381              1                       0            0           0\n",
              "50               1                       0            0           0\n",
              "335              1                       0            0           0\n",
              "267              1                       0            0           0\n",
              "..             ...                     ...          ...         ...\n",
              "203              1                       0            0           0\n",
              "16               1                       0            0           0\n",
              "407              1                       0            0           0\n",
              "202              1                       0            0           0\n",
              "144              1                       0            0           0\n",
              "\n",
              "[424 rows x 4 columns]"
            ],
            "text/html": [
              "\n",
              "  <div id=\"df-6d19292a-5acd-4b3b-922d-cced1135ed11\">\n",
              "    <div class=\"colab-df-container\">\n",
              "      <div>\n",
              "<style scoped>\n",
              "    .dataframe tbody tr th:only-of-type {\n",
              "        vertical-align: middle;\n",
              "    }\n",
              "\n",
              "    .dataframe tbody tr th {\n",
              "        vertical-align: top;\n",
              "    }\n",
              "\n",
              "    .dataframe thead th {\n",
              "        text-align: right;\n",
              "    }\n",
              "</style>\n",
              "<table border=\"1\" class=\"dataframe\">\n",
              "  <thead>\n",
              "    <tr style=\"text-align: right;\">\n",
              "      <th></th>\n",
              "      <th>0=Blood Donor</th>\n",
              "      <th>0s=suspect Blood Donor</th>\n",
              "      <th>1=Hepatitis</th>\n",
              "      <th>2=Fibrosis</th>\n",
              "    </tr>\n",
              "  </thead>\n",
              "  <tbody>\n",
              "    <tr>\n",
              "      <th>553</th>\n",
              "      <td>0</td>\n",
              "      <td>0</td>\n",
              "      <td>1</td>\n",
              "      <td>0</td>\n",
              "    </tr>\n",
              "    <tr>\n",
              "      <th>381</th>\n",
              "      <td>1</td>\n",
              "      <td>0</td>\n",
              "      <td>0</td>\n",
              "      <td>0</td>\n",
              "    </tr>\n",
              "    <tr>\n",
              "      <th>50</th>\n",
              "      <td>1</td>\n",
              "      <td>0</td>\n",
              "      <td>0</td>\n",
              "      <td>0</td>\n",
              "    </tr>\n",
              "    <tr>\n",
              "      <th>335</th>\n",
              "      <td>1</td>\n",
              "      <td>0</td>\n",
              "      <td>0</td>\n",
              "      <td>0</td>\n",
              "    </tr>\n",
              "    <tr>\n",
              "      <th>267</th>\n",
              "      <td>1</td>\n",
              "      <td>0</td>\n",
              "      <td>0</td>\n",
              "      <td>0</td>\n",
              "    </tr>\n",
              "    <tr>\n",
              "      <th>...</th>\n",
              "      <td>...</td>\n",
              "      <td>...</td>\n",
              "      <td>...</td>\n",
              "      <td>...</td>\n",
              "    </tr>\n",
              "    <tr>\n",
              "      <th>203</th>\n",
              "      <td>1</td>\n",
              "      <td>0</td>\n",
              "      <td>0</td>\n",
              "      <td>0</td>\n",
              "    </tr>\n",
              "    <tr>\n",
              "      <th>16</th>\n",
              "      <td>1</td>\n",
              "      <td>0</td>\n",
              "      <td>0</td>\n",
              "      <td>0</td>\n",
              "    </tr>\n",
              "    <tr>\n",
              "      <th>407</th>\n",
              "      <td>1</td>\n",
              "      <td>0</td>\n",
              "      <td>0</td>\n",
              "      <td>0</td>\n",
              "    </tr>\n",
              "    <tr>\n",
              "      <th>202</th>\n",
              "      <td>1</td>\n",
              "      <td>0</td>\n",
              "      <td>0</td>\n",
              "      <td>0</td>\n",
              "    </tr>\n",
              "    <tr>\n",
              "      <th>144</th>\n",
              "      <td>1</td>\n",
              "      <td>0</td>\n",
              "      <td>0</td>\n",
              "      <td>0</td>\n",
              "    </tr>\n",
              "  </tbody>\n",
              "</table>\n",
              "<p>424 rows × 4 columns</p>\n",
              "</div>\n",
              "      <button class=\"colab-df-convert\" onclick=\"convertToInteractive('df-6d19292a-5acd-4b3b-922d-cced1135ed11')\"\n",
              "              title=\"Convert this dataframe to an interactive table.\"\n",
              "              style=\"display:none;\">\n",
              "        \n",
              "  <svg xmlns=\"http://www.w3.org/2000/svg\" height=\"24px\"viewBox=\"0 0 24 24\"\n",
              "       width=\"24px\">\n",
              "    <path d=\"M0 0h24v24H0V0z\" fill=\"none\"/>\n",
              "    <path d=\"M18.56 5.44l.94 2.06.94-2.06 2.06-.94-2.06-.94-.94-2.06-.94 2.06-2.06.94zm-11 1L8.5 8.5l.94-2.06 2.06-.94-2.06-.94L8.5 2.5l-.94 2.06-2.06.94zm10 10l.94 2.06.94-2.06 2.06-.94-2.06-.94-.94-2.06-.94 2.06-2.06.94z\"/><path d=\"M17.41 7.96l-1.37-1.37c-.4-.4-.92-.59-1.43-.59-.52 0-1.04.2-1.43.59L10.3 9.45l-7.72 7.72c-.78.78-.78 2.05 0 2.83L4 21.41c.39.39.9.59 1.41.59.51 0 1.02-.2 1.41-.59l7.78-7.78 2.81-2.81c.8-.78.8-2.07 0-2.86zM5.41 20L4 18.59l7.72-7.72 1.47 1.35L5.41 20z\"/>\n",
              "  </svg>\n",
              "      </button>\n",
              "      \n",
              "  <style>\n",
              "    .colab-df-container {\n",
              "      display:flex;\n",
              "      flex-wrap:wrap;\n",
              "      gap: 12px;\n",
              "    }\n",
              "\n",
              "    .colab-df-convert {\n",
              "      background-color: #E8F0FE;\n",
              "      border: none;\n",
              "      border-radius: 50%;\n",
              "      cursor: pointer;\n",
              "      display: none;\n",
              "      fill: #1967D2;\n",
              "      height: 32px;\n",
              "      padding: 0 0 0 0;\n",
              "      width: 32px;\n",
              "    }\n",
              "\n",
              "    .colab-df-convert:hover {\n",
              "      background-color: #E2EBFA;\n",
              "      box-shadow: 0px 1px 2px rgba(60, 64, 67, 0.3), 0px 1px 3px 1px rgba(60, 64, 67, 0.15);\n",
              "      fill: #174EA6;\n",
              "    }\n",
              "\n",
              "    [theme=dark] .colab-df-convert {\n",
              "      background-color: #3B4455;\n",
              "      fill: #D2E3FC;\n",
              "    }\n",
              "\n",
              "    [theme=dark] .colab-df-convert:hover {\n",
              "      background-color: #434B5C;\n",
              "      box-shadow: 0px 1px 3px 1px rgba(0, 0, 0, 0.15);\n",
              "      filter: drop-shadow(0px 1px 2px rgba(0, 0, 0, 0.3));\n",
              "      fill: #FFFFFF;\n",
              "    }\n",
              "  </style>\n",
              "\n",
              "      <script>\n",
              "        const buttonEl =\n",
              "          document.querySelector('#df-6d19292a-5acd-4b3b-922d-cced1135ed11 button.colab-df-convert');\n",
              "        buttonEl.style.display =\n",
              "          google.colab.kernel.accessAllowed ? 'block' : 'none';\n",
              "\n",
              "        async function convertToInteractive(key) {\n",
              "          const element = document.querySelector('#df-6d19292a-5acd-4b3b-922d-cced1135ed11');\n",
              "          const dataTable =\n",
              "            await google.colab.kernel.invokeFunction('convertToInteractive',\n",
              "                                                     [key], {});\n",
              "          if (!dataTable) return;\n",
              "\n",
              "          const docLinkHtml = 'Like what you see? Visit the ' +\n",
              "            '<a target=\"_blank\" href=https://colab.research.google.com/notebooks/data_table.ipynb>data table notebook</a>'\n",
              "            + ' to learn more about interactive tables.';\n",
              "          element.innerHTML = '';\n",
              "          dataTable['output_type'] = 'display_data';\n",
              "          await google.colab.output.renderOutput(dataTable, element);\n",
              "          const docLink = document.createElement('div');\n",
              "          docLink.innerHTML = docLinkHtml;\n",
              "          element.appendChild(docLink);\n",
              "        }\n",
              "      </script>\n",
              "    </div>\n",
              "  </div>\n",
              "  "
            ]
          },
          "metadata": {},
          "execution_count": 265
        }
      ],
      "source": [
        "y_train = y_train.dropna()\n",
        "y_train"
      ]
    },
    {
      "cell_type": "code",
      "execution_count": 266,
      "metadata": {
        "colab": {
          "base_uri": "https://localhost:8080/"
        },
        "id": "wbHcoVfFc5hr",
        "outputId": "bfd1bbc5-2fe8-4b4e-cf60-44d65074ff3e"
      },
      "outputs": [
        {
          "output_type": "execute_result",
          "data": {
            "text/plain": [
              "MLPClassifier(activation='logistic', max_iter=800)"
            ]
          },
          "metadata": {},
          "execution_count": 266
        }
      ],
      "source": [
        "mlp.fit(x_train,y_train)"
      ]
    },
    {
      "cell_type": "code",
      "source": [
        "prediksi_val = mlp.predict(x_val)\n",
        "acc_val = accuracy_score(y_val,prediksi_val)\n",
        "print(\"Akurasi Validasi Training ANN: \", acc_val)"
      ],
      "metadata": {
        "colab": {
          "base_uri": "https://localhost:8080/"
        },
        "id": "gPRthocswBoY",
        "outputId": "a11f0a6b-d36f-435e-de8c-35fa3ce7f102"
      },
      "execution_count": 267,
      "outputs": [
        {
          "output_type": "stream",
          "name": "stdout",
          "text": [
            "Akurasi Validasi Training ANN:  0.9433962264150944\n"
          ]
        }
      ]
    },
    {
      "cell_type": "markdown",
      "source": [
        "Akurasi model tanpa umur bernilai 92 %, sementara dengan menghitung umur maka akurasinya bernilai 94%. Maka dari itu model yang lebih baik adalah model yang melibatkan atribut umur tersebut. "
      ],
      "metadata": {
        "id": "x8LTeav6xs0y"
      }
    },
    {
      "cell_type": "markdown",
      "source": [
        "# Keras and Pytorch"
      ],
      "metadata": {
        "id": "7sDyGEEj1lf5"
      }
    },
    {
      "cell_type": "code",
      "source": [
        "import tensorflow as tf\n",
        "from tensorflow import keras\n",
        "from tensorflow.keras import layers"
      ],
      "metadata": {
        "id": "1uGB4zwX1-FJ"
      },
      "execution_count": 288,
      "outputs": []
    },
    {
      "cell_type": "code",
      "source": [
        "from keras.models import Sequential\n",
        "from keras.layers import Flatten, Dense"
      ],
      "metadata": {
        "id": "JrzK7cJ92Mky"
      },
      "execution_count": 410,
      "outputs": []
    },
    {
      "cell_type": "code",
      "source": [
        "model = keras.Sequential()"
      ],
      "metadata": {
        "id": "xtDm1w662uDy"
      },
      "execution_count": 411,
      "outputs": []
    },
    {
      "cell_type": "code",
      "source": [
        "model.add(Flatten())\n",
        "\n",
        "#Tuning by adding models to increase accuracy\n",
        "model.add(Dense(128, activation='relu'))\n",
        "model.add(Dense(64, activation='relu'))\n",
        "\n",
        "model.add(Dense(32, activation='relu'))\n",
        "\n",
        "#Tuning by adding models to increase accuracy\n",
        "model.add(Dense(20, activation='relu'))\n",
        "\n",
        "model.add(Dense(10, activation= 'softmax'))\n",
        "\n",
        "#Output layer must be the same as the target\n",
        "model.add(Dense(4, activation= 'softmax'))"
      ],
      "metadata": {
        "id": "vMz0g8xY5p1U"
      },
      "execution_count": 412,
      "outputs": []
    },
    {
      "cell_type": "code",
      "source": [
        "model.compile(optimizer='adam',loss='categorical_crossentropy',metrics=['acc'])"
      ],
      "metadata": {
        "id": "Tj6NcL6r2uIq"
      },
      "execution_count": 413,
      "outputs": []
    },
    {
      "cell_type": "code",
      "source": [
        "# first = model.fit(x_train,y_train,epochs=10,batch_size=100,validation_data=(x_test,y_test))\n",
        "first = model.fit(x_train,y_train,epochs=20,batch_size=100,validation_data=(x_test,y_test))"
      ],
      "metadata": {
        "colab": {
          "base_uri": "https://localhost:8080/"
        },
        "id": "Ayy3H5V-26HC",
        "outputId": "94b92c42-7deb-4cfc-dd4f-ae2ede077299"
      },
      "execution_count": 414,
      "outputs": [
        {
          "output_type": "stream",
          "name": "stdout",
          "text": [
            "Epoch 1/20\n",
            "5/5 [==============================] - 1s 65ms/step - loss: 1.8025 - acc: 0.0165 - val_loss: 1.6650 - val_acc: 0.0508\n",
            "Epoch 2/20\n",
            "5/5 [==============================] - 0s 9ms/step - loss: 1.6821 - acc: 0.0165 - val_loss: 1.6426 - val_acc: 0.0339\n",
            "Epoch 3/20\n",
            "5/5 [==============================] - 0s 9ms/step - loss: 1.5197 - acc: 0.0165 - val_loss: 1.1741 - val_acc: 0.0508\n",
            "Epoch 4/20\n",
            "5/5 [==============================] - 0s 9ms/step - loss: 1.1510 - acc: 0.0189 - val_loss: 1.1379 - val_acc: 0.0508\n",
            "Epoch 5/20\n",
            "5/5 [==============================] - 0s 10ms/step - loss: 1.1250 - acc: 0.0189 - val_loss: 1.1375 - val_acc: 0.0508\n",
            "Epoch 6/20\n",
            "5/5 [==============================] - 0s 8ms/step - loss: 1.1124 - acc: 0.0189 - val_loss: 1.1263 - val_acc: 0.0508\n",
            "Epoch 7/20\n",
            "5/5 [==============================] - 0s 9ms/step - loss: 1.1001 - acc: 0.0189 - val_loss: 1.1152 - val_acc: 0.0508\n",
            "Epoch 8/20\n",
            "5/5 [==============================] - 0s 9ms/step - loss: 1.0878 - acc: 0.0189 - val_loss: 1.1042 - val_acc: 0.0508\n",
            "Epoch 9/20\n",
            "5/5 [==============================] - 0s 10ms/step - loss: 1.0757 - acc: 0.0189 - val_loss: 1.0919 - val_acc: 0.0508\n",
            "Epoch 10/20\n",
            "5/5 [==============================] - 0s 9ms/step - loss: 1.0632 - acc: 0.0189 - val_loss: 1.0722 - val_acc: 0.0508\n",
            "Epoch 11/20\n",
            "5/5 [==============================] - 0s 9ms/step - loss: 1.0519 - acc: 0.0189 - val_loss: 1.0631 - val_acc: 0.0508\n",
            "Epoch 12/20\n",
            "5/5 [==============================] - 0s 11ms/step - loss: 1.0377 - acc: 0.0189 - val_loss: 1.0466 - val_acc: 0.0508\n",
            "Epoch 13/20\n",
            "5/5 [==============================] - 0s 10ms/step - loss: 1.0267 - acc: 0.0189 - val_loss: 1.0332 - val_acc: 0.0508\n",
            "Epoch 14/20\n",
            "5/5 [==============================] - 0s 10ms/step - loss: 1.0178 - acc: 0.0189 - val_loss: 1.0148 - val_acc: 0.0508\n",
            "Epoch 15/20\n",
            "5/5 [==============================] - 0s 10ms/step - loss: 1.0038 - acc: 0.0189 - val_loss: 1.0012 - val_acc: 0.0508\n",
            "Epoch 16/20\n",
            "5/5 [==============================] - 0s 10ms/step - loss: 0.9871 - acc: 0.0189 - val_loss: 0.9912 - val_acc: 0.0508\n",
            "Epoch 17/20\n",
            "5/5 [==============================] - 0s 10ms/step - loss: 0.9743 - acc: 0.4858 - val_loss: 0.9755 - val_acc: 0.8983\n",
            "Epoch 18/20\n",
            "5/5 [==============================] - 0s 10ms/step - loss: 0.9605 - acc: 0.9104 - val_loss: 0.9631 - val_acc: 0.9153\n",
            "Epoch 19/20\n",
            "5/5 [==============================] - 0s 10ms/step - loss: 0.9473 - acc: 0.9245 - val_loss: 0.9500 - val_acc: 0.8983\n",
            "Epoch 20/20\n",
            "5/5 [==============================] - 0s 9ms/step - loss: 0.9338 - acc: 0.9269 - val_loss: 0.9392 - val_acc: 0.9153\n"
          ]
        }
      ]
    },
    {
      "cell_type": "code",
      "source": [
        "model.summary()"
      ],
      "metadata": {
        "colab": {
          "base_uri": "https://localhost:8080/"
        },
        "id": "lR0UuC7h3CBD",
        "outputId": "95fb29aa-c7f1-42b7-e47c-8ca6e55e8edd"
      },
      "execution_count": 415,
      "outputs": [
        {
          "output_type": "stream",
          "name": "stdout",
          "text": [
            "Model: \"sequential_14\"\n",
            "_________________________________________________________________\n",
            " Layer (type)                Output Shape              Param #   \n",
            "=================================================================\n",
            " flatten_19 (Flatten)        (None, 11)                0         \n",
            "                                                                 \n",
            " dense_69 (Dense)            (None, 128)               1536      \n",
            "                                                                 \n",
            " dense_70 (Dense)            (None, 64)                8256      \n",
            "                                                                 \n",
            " dense_71 (Dense)            (None, 32)                2080      \n",
            "                                                                 \n",
            " dense_72 (Dense)            (None, 20)                660       \n",
            "                                                                 \n",
            " dense_73 (Dense)            (None, 10)                210       \n",
            "                                                                 \n",
            " dense_74 (Dense)            (None, 4)                 44        \n",
            "                                                                 \n",
            "=================================================================\n",
            "Total params: 12,786\n",
            "Trainable params: 12,786\n",
            "Non-trainable params: 0\n",
            "_________________________________________________________________\n"
          ]
        }
      ]
    },
    {
      "cell_type": "code",
      "source": [
        "loss, accuracy = model.evaluate(x_test,y_test)\n",
        "print(\"Akurasi testing ANN: \", accuracy)"
      ],
      "metadata": {
        "colab": {
          "base_uri": "https://localhost:8080/"
        },
        "id": "834SRypi3EqV",
        "outputId": "568b59fc-bc77-41d7-c7de-b4eb3e75720e"
      },
      "execution_count": 416,
      "outputs": [
        {
          "output_type": "stream",
          "name": "stdout",
          "text": [
            "2/2 [==============================] - 0s 7ms/step - loss: 0.9392 - acc: 0.9153\n",
            "Akurasi testing ANN:  0.9152542352676392\n"
          ]
        }
      ]
    },
    {
      "cell_type": "markdown",
      "source": [
        "Dapat dilihat bahwa dengan model 32, 10, dan 4 saja bersama dengan model Flatten di awal untuk mengonversinya menjadi bentuk yang bisa dipakai oleh Dense, maka akurasi dari model adalah 88% . Saat ditambahkan model lain pula juga tidak terlalu mengubah hasil akurasi dari model, dengan nilai akurasi yang tetap sama di 88%. Penambahan jumlah Epoch juga tidak terlalu mengubah hasil.\n",
        "\n",
        "Tetapi saat seluruhnya dikombinasikan dan ditambah, maka akurasinya naik pula hingga menjadi 91.5 %"
      ],
      "metadata": {
        "id": "p0uYL1F696GM"
      }
    },
    {
      "cell_type": "markdown",
      "source": [
        "# Grafik Loss Train"
      ],
      "metadata": {
        "id": "ENRcKZ_AwDmo"
      }
    },
    {
      "cell_type": "markdown",
      "source": [
        "Error"
      ],
      "metadata": {
        "id": "V5pKK3-t4FpM"
      }
    },
    {
      "cell_type": "code",
      "source": [
        "model.save('my_model1.h5')"
      ],
      "metadata": {
        "id": "ctvJhmyA32if"
      },
      "execution_count": 422,
      "outputs": []
    },
    {
      "cell_type": "code",
      "source": [
        "import matplotlib.pyplot as plt\n",
        "\n",
        "epochs = range(20)\n",
        "loss1 = first.history['loss']\n",
        "val_loss1 = first.history['val_loss']\n",
        "plt.plot(epochs,loss1,'r',label='training loss ANN')\n",
        "plt.plot(epochs,val_loss1,'b',label='validasi loss ANN')\n",
        "plt.legend()\n"
      ],
      "metadata": {
        "colab": {
          "base_uri": "https://localhost:8080/",
          "height": 283
        },
        "id": "iKUkMwWIwImw",
        "outputId": "e96d39c2-d17e-40eb-d93c-2c73ca0f719b"
      },
      "execution_count": 423,
      "outputs": [
        {
          "output_type": "execute_result",
          "data": {
            "text/plain": [
              "<matplotlib.legend.Legend at 0x7fd3acf01a90>"
            ]
          },
          "metadata": {},
          "execution_count": 423
        },
        {
          "output_type": "display_data",
          "data": {
            "text/plain": [
              "<Figure size 432x288 with 1 Axes>"
            ],
            "image/png": "[encoded data removed]"
          },
          "metadata": {
            "needs_background": "light"
          }
        }
      ]
    },
    {
      "cell_type": "markdown",
      "source": [
        "# Confusion Matrix"
      ],
      "metadata": {
        "id": "-_bkoqKNwFJw"
      }
    },
    {
      "cell_type": "code",
      "source": [
        "from sklearn.metrics import confusion_matrix, plot_confusion_matrix"
      ],
      "metadata": {
        "id": "vYRDNRfjwIMg"
      },
      "execution_count": 419,
      "outputs": []
    },
    {
      "cell_type": "code",
      "source": [
        "test_val = mlp.predict(x_test)\n",
        "cf_matrix = confusion_matrix(y_test.values.argmax(axis=1),test_val.argmax(axis=1))"
      ],
      "metadata": {
        "id": "MCMPIMn0z8Qj"
      },
      "execution_count": 420,
      "outputs": []
    },
    {
      "cell_type": "code",
      "source": [
        "ax = sns.heatmap(cf_matrix, annot=True, cmap='Blues')\n",
        "\n",
        "ax.set_title('Seaborn Confusion Matrix with labels\\n\\n');\n",
        "ax.set_xlabel('\\nPredicted Values')\n",
        "ax.set_ylabel('Actual Values ');\n",
        "\n",
        "## Ticket labels - List must be in alphabetical order\n",
        "ax.xaxis.set_ticklabels(['False','True'])\n",
        "ax.yaxis.set_ticklabels(['False','True'])\n",
        "\n",
        "# ## Display the visualization of the Confusion Matrix.\n",
        "# plt.show()"
      ],
      "metadata": {
        "colab": {
          "base_uri": "https://localhost:8080/",
          "height": 0
        },
        "id": "93HcP97F0qOy",
        "outputId": "ebc5e03b-e8dc-476e-9ea9-e72da5da1808"
      },
      "execution_count": 421,
      "outputs": [
        {
          "output_type": "execute_result",
          "data": {
            "text/plain": [
              "[Text(0, 0.5, 'False'), Text(0, 1.5, 'True')]"
            ]
          },
          "metadata": {},
          "execution_count": 421
        },
        {
          "output_type": "display_data",
          "data": {
            "text/plain": [
              "<Figure size 432x288 with 2 Axes>"
            ],
            "image/png": "[encoded data removed]"
          },
          "metadata": {
            "needs_background": "light"
          }
        }
      ]
    }
  ],
  "metadata": {
    "colab": {
      "name": "18219047_Neural Networks.ipynb",
      "provenance": [],
      "authorship_tag": "ABX9TyOxbXB5Pax1gdFKgGw5JJh7",
      "include_colab_link": true
    },
    "kernelspec": {
      "display_name": "Python 3",
      "name": "python3"
    },
    "language_info": {
      "name": "python"
    }
  },
  "nbformat": 4,
  "nbformat_minor": 0
}